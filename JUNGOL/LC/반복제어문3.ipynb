{
 "cells": [
  {
   "cell_type": "code",
   "execution_count": 5,
   "metadata": {},
   "outputs": [
    {
     "name": "stdout",
     "output_type": "stream",
     "text": [
      "100\n",
      "10 100\n"
     ]
    }
   ],
   "source": [
    "# 자가진단1\n",
    "# 자연수 n을 입력받고 1부터 홀수를 차례대로 더해나가면서 합이 n 이상이면 그 때까지 더해진 홀수의 개수와 그 합을 출력하는 프로그램을 작성하시오.\n",
    "\n",
    "n = int(input())\n",
    "list1 = []\n",
    "count = 0\n",
    "\n",
    "for i in range(1,n+1):\n",
    "    if i%2:\n",
    "        count += i\n",
    "        list1.append(i)\n",
    "        if count >= n:\n",
    "            print(len(list1), count)\n",
    "            break"
   ]
  },
  {
   "cell_type": "code",
   "execution_count": 6,
   "metadata": {},
   "outputs": [
    {
     "name": "stdout",
     "output_type": "stream",
     "text": [
      "5\n",
      "*\n",
      "**\n",
      "***\n",
      "****\n",
      "*****\n"
     ]
    }
   ],
   "source": [
    "# 자가진단2\n",
    "# 자연수 n을 입력받아서 n줄만큼 다음과 같이 출력하는 프로그램을 작성하시오.\n",
    "\n",
    "n = int(input())\n",
    "for i in range(1,n+1):\n",
    "    print('*' * i)"
   ]
  },
  {
   "cell_type": "code",
   "execution_count": 15,
   "metadata": {},
   "outputs": [
    {
     "name": "stdout",
     "output_type": "stream",
     "text": [
      "3\n",
      "***\n",
      "**\n",
      "*\n",
      "*\n",
      "**\n",
      "***\n"
     ]
    }
   ],
   "source": [
    "# 자가진단3\n",
    "# 자연수 n을 입력받아서 다음과 같이 출력하는 프로그램을 작성하시오.\n",
    "\n",
    "n = int(input())\n",
    "for i in range(n,0,-1):\n",
    "    print('*' * i)\n",
    "    if i == 1:\n",
    "        for j in range(1,n+1):\n",
    "            print('*'* j)"
   ]
  },
  {
   "cell_type": "code",
   "execution_count": 24,
   "metadata": {},
   "outputs": [
    {
     "name": "stdout",
     "output_type": "stream",
     "text": [
      "9\n",
      "*********\n",
      " ********\n",
      "  *******\n",
      "   ******\n",
      "    *****\n",
      "     ****\n",
      "      ***\n",
      "       **\n",
      "        *\n"
     ]
    }
   ],
   "source": [
    "# 자가진단4\n",
    "# 자연수 n을 입력받아서 다음과 같이 출력하는 프로그램을 작성하시오.\n",
    "\n",
    "n = int(input())\n",
    "for i in range(n,0,-1):\n",
    "    print(f'{\"*\"*i:>{n}}')"
   ]
  },
  {
   "cell_type": "code",
   "execution_count": 173,
   "metadata": {},
   "outputs": [
    {
     "name": "stdout",
     "output_type": "stream",
     "text": [
      "3\n",
      "*****\n",
      " ***\n",
      "  *\n"
     ]
    }
   ],
   "source": [
    "# 자가진단5\n",
    "# 자연수 n을 입력받아서 다음과 같이 출력하는 프로그램을 작성하시오.\n",
    "\n",
    "n = int(input())\n",
    "for i in range(n,0,-1):\n",
    "    print(f'{\" \"*(n-i)}{\"*\"*(2*i-1):{2*i-1}}')"
   ]
  },
  {
   "cell_type": "code",
   "execution_count": 70,
   "metadata": {},
   "outputs": [
    {
     "name": "stdout",
     "output_type": "stream",
     "text": [
      "3\n",
      "ABC\n",
      "DE\n",
      "F\n"
     ]
    }
   ],
   "source": [
    "# 자가진단6\n",
    "# 자연수 n( 3 <= n <= 10) 을 입력받아 다음과 같이 영문자를 출력하는 프로그램을 작성하시오.\n",
    "\n",
    "\n",
    "n = int(input())\n",
    "k = 0\n",
    "for i in range(n,0,-1):\n",
    "    for j in range(0,i):\n",
    "        print(f'{chr(65+k)}', end = \"\")\n",
    "        k+=1\n",
    "        if j == i-1:\n",
    "            print()\n",
    "    "
   ]
  },
  {
   "cell_type": "code",
   "execution_count": 83,
   "metadata": {},
   "outputs": [
    {
     "name": "stdout",
     "output_type": "stream",
     "text": [
      "6\n",
      "A B C D E F\n",
      "G H I J K 0\n",
      "L M N O 1 2\n",
      "P Q R 3 4 5\n",
      "S T 6 7 8 9\n",
      "U 10 11 12 13 14\n"
     ]
    }
   ],
   "source": [
    "### 형성평가7\n",
    "\n",
    "# 자연수 n(n≤6)을 입력받아 \"출력 예\"와 같이 공백으로 구분하여 출력되는 프로그램을 작성하시오.\n",
    "# 주의! 문자는 공백으로 구분하되 줄사이에 빈줄은 없다.\n",
    "\n",
    "# n = 3일때\n",
    "# 첫 줄은 a b c 문자열 3개 숫자 0개\n",
    "# 두번째 줄은 d e 0 문자열 2개 숫자 1개\n",
    "# 마지막 줄은 f 1 2 문자열 1개 숫자 2개\n",
    "T = int(input())\n",
    "\n",
    "alpha = \"ABCDEFGHIJKLMNOPQRSTU\"\n",
    "number = '01234567891011121314'\n",
    "for i in range(T, 0, -1):\n",
    "    if T == 6 and i == 1:\n",
    "        print(alpha[-1],10,11,12,13,14)\n",
    "        break\n",
    "    elif i != T:\n",
    "        print(\" \".join(alpha[:i]+number[:T-i]))\n",
    "        number = number[T-i:]  \n",
    "    else:\n",
    "        print(\" \".join(alpha[:i]))\n",
    "    alpha = alpha[i:]\n",
    "    \n",
    "# 저렇게 억지로 푸는 것보다는 이게 더 낫다\n",
    "n = int(input())\n",
    "k = 0\n",
    "l = 0\n",
    "for i in range(n,0,-1):\n",
    "    for j in range(0,i):\n",
    "        cnt = 0\n",
    "        if i == n:\n",
    "            print(f'{chr(65+k)}', end = \" \")\n",
    "            k+=1\n",
    "            if j == i-1:\n",
    "                print()\n",
    "        else:\n",
    "            print(f'{chr(65+k)}', end = \" \")\n",
    "            k+=1\n",
    "            if j == i-1:\n",
    "                for m in range(i,n):\n",
    "                    print(l, end = \" \")\n",
    "                    l += 1\n",
    "                    cnt += 1\n",
    "                    if cnt == n-i:\n",
    "                        print()"
   ]
  },
  {
   "cell_type": "code",
   "execution_count": 108,
   "metadata": {},
   "outputs": [
    {
     "name": "stdout",
     "output_type": "stream",
     "text": [
      "10\n",
      "1 2 3 4 5 6 7 8 9 10 a \n",
      "11 12 13 14 15 16 17 18 19 b c \n",
      "20 21 22 23 24 25 26 27 d e f \n",
      "28 29 30 31 32 33 34 g h i j \n",
      "35 36 37 38 39 40 k l m n o \n",
      "41 42 43 44 45 p q r s t u \n",
      "46 47 48 49 v w x y z { | \n",
      "50 51 52 } ~       \n",
      "53 54 ",
      "         \n",
      "55           \n"
     ]
    }
   ],
   "source": [
    "# 자가진단7\n",
    "\n",
    "# 자연수 n을 입력받아서 n개의 줄에 n+1개의 숫자 혹은 문자로 채워서 다음과 같이 출력하는 프로그램을 작성하시오.\n",
    "\n",
    "n = int(input())\n",
    "m = 1\n",
    "l = 0\n",
    "for i in range(n,0,-1):\n",
    "    cnt = 0\n",
    "    for j in range(0,i): \n",
    "        print(m, end = \" \")\n",
    "        m += 1\n",
    "        if j == i-1:\n",
    "            for k in range(i,n+1):\n",
    "                print(chr(65+l), end = \" \")\n",
    "                l += 1\n",
    "                cnt += 1\n",
    "                if cnt == n+1 - i:\n",
    "                    print()\n",
    "    "
   ]
  },
  {
   "cell_type": "code",
   "execution_count": 131,
   "metadata": {},
   "outputs": [
    {
     "name": "stdout",
     "output_type": "stream",
     "text": [
      "5 9 6 8 4 3 0\n",
      "[5, 9, 6, 8, 4, 3]\n",
      "35 5\n"
     ]
    }
   ],
   "source": [
    "# 형성평가1\n",
    "\n",
    "# 정수 20 개를 입력받아서 그 합과 평균을 출력하되 0 이 입력되면 20개 입력이 끝나지 않았더라도 그 때까지 입력된 합과 평균을 출력하는 프로그램을 작성하시오.\n",
    "# 평균은 소수부분은 버리고 정수만 출력한다.(0이 입력된 경우 0을 제외한 합과 평균을 구한다.)\n",
    "\n",
    "arr = []\n",
    "cnt = 0\n",
    "\n",
    "arr = list(map(int, input().split()))\n",
    "if 0 in arr:\n",
    "    arr.pop()\n",
    "\n",
    "for j in arr:\n",
    "    cnt += j\n",
    "    \n",
    "print(cnt, int(cnt/len(arr)))"
   ]
  },
  {
   "cell_type": "code",
   "execution_count": 166,
   "metadata": {},
   "outputs": [
    {
     "name": "stdout",
     "output_type": "stream",
     "text": [
      "13\n",
      "13 26 39 52 65 78 91 "
     ]
    }
   ],
   "source": [
    "# 형성평가2\n",
    "\n",
    "# 1부터 100까지의 정수 중 한 개를 입력받아 \n",
    "# 100 보다 작은 배수들을 차례로 출력하다가 10 의 배수가 출력되면 프로그램을 종료하도록 프로그램을 작성하시오.\n",
    "\n",
    "n = int(input())\n",
    "\n",
    "\n",
    "\n",
    "for i in range(1,101):\n",
    "    if n * i < 100:\n",
    "        print(n*i, end = \" \")\n",
    "    if n*i % 10 == 0:\n",
    "        break\n"
   ]
  },
  {
   "cell_type": "code",
   "execution_count": 168,
   "metadata": {},
   "outputs": [
    {
     "name": "stdout",
     "output_type": "stream",
     "text": [
      "3\n",
      "*\n",
      "**\n",
      "***\n",
      "**\n",
      "*\n"
     ]
    }
   ],
   "source": [
    "# 형성평가3\n",
    "\n",
    "# 자연수 n을 입력받아 \"출력 예\"와 같이 출력되는 프로그램을 작성하시오.\n",
    "\n",
    "n = int(input())\n",
    "\n",
    "for i in range(1,n+1):\n",
    "    print('*'*i)\n",
    "    if i == n:\n",
    "        for j in range(n-1,0,-1):\n",
    "            print('*'*j)"
   ]
  },
  {
   "cell_type": "code",
   "execution_count": 184,
   "metadata": {},
   "outputs": [
    {
     "name": "stdout",
     "output_type": "stream",
     "text": [
      "3\n",
      "*****\n",
      " ***\n",
      "  *\n",
      " ***\n",
      "*****\n"
     ]
    }
   ],
   "source": [
    "# 형성평가4\n",
    "\n",
    "# 자연수 n을 입력받아 \"출력 예\"와 같이 출력되는 프로그램을 작성하시오.\n",
    "\n",
    "n = int(input())\n",
    "\n",
    "for i in range(n,0,-1):\n",
    "    print(f'{\" \"*(n-i)}{\"*\"*(2*i-1):{2*i-1}}')\n",
    "    if i == 1:\n",
    "        for j in range(2,n+1):\n",
    "            print(f'{\" \"*(n-j)}{\"*\"*(2*j-1):{2*j-1}}')"
   ]
  },
  {
   "cell_type": "code",
   "execution_count": 202,
   "metadata": {},
   "outputs": [
    {
     "name": "stdout",
     "output_type": "stream",
     "text": [
      "3\n",
      "    *\n",
      "  ***\n",
      "*****\n"
     ]
    }
   ],
   "source": [
    "# 형성평가5\n",
    "\n",
    "# 자연수 n을 입력받아 \"출력 예\"와 같이 n줄에 걸처 오른쪽으로 정렬된 삼각형이 출력되는 프로그램을 작성하시오.\n",
    "# 주의! '*'과 '*'사이에 공백이 없고 줄사이에도 빈줄이 없다.\n",
    "\n",
    "n = int(input())\n",
    "\n",
    "for i in range(0,n):\n",
    "    print(f'{\"*\"*(2*i+1):>{2*n-1}}')"
   ]
  },
  {
   "cell_type": "code",
   "execution_count": 32,
   "metadata": {},
   "outputs": [
    {
     "name": "stdout",
     "output_type": "stream",
     "text": [
      "3\n",
      "('   ', 1)\n",
      "1 \n",
      "('     ', 1)\n",
      "1 ('     ', 2)\n",
      "2 \n",
      "\n"
     ]
    }
   ],
   "source": [
    "# 형성평가6\n",
    "\n",
    "# 자연수 n을 입력받아 \"출력 예\"와 같이 공백으로 구분하여 출력하는 프로그램을 작성하시오.\n",
    "\n",
    "\n",
    "n = int(input())\n",
    "\n",
    "for i in range(1,n+1):\n",
    "    for j in range(1,i+1):\n",
    "        print(j, end = \" \")\n",
    "        if j == i:\n",
    "            print()\n",
    "# for i in range(n):\n",
    "#     for j in range(1,n+1):\n",
    "#         print(f'{j}{\" \":>{2*n-1}}', end = \" \")"
   ]
  },
  {
   "cell_type": "code",
   "execution_count": null,
   "metadata": {},
   "outputs": [],
   "source": [
    "# 형성평가A\n",
    "\n",
    "# 자연수 n을 입력받아 \"출력 예\"와 같이 n x n크기에 공백으로 구분하여 출력되는 프로그램을 작성하시오.\n",
    "# 10 미만의 홀수만 출력하시오.주의! 숫자는 공백으로 구분하되 줄사이에 빈줄은 없다.\n",
    "\n",
    "T = int(input())\n",
    "num = [1,3,5,7,9] * (T**2)\n",
    "for i in range(T):\n",
    "    cnt = 0\n",
    "    for j in range(T):\n",
    "        cnt += 1\n",
    "        print(num[j], end = \" \")\n",
    "        if cnt == T:\n",
    "            print()\n",
    "    num = num[T:]"
   ]
  },
  {
   "cell_type": "code",
   "execution_count": 366,
   "metadata": {},
   "outputs": [
    {
     "name": "stdout",
     "output_type": "stream",
     "text": [
      "2\n",
      "[1]\n",
      "[1, 1]\n",
      "[1, 2, 1]\n",
      "[1, 3, 3, 1]\n",
      "[1, 4, 6, 4, 1]\n",
      "[1, 5, 10, 10, 5, 1]\n",
      "[1, 6, 15, 20, 15, 6, 1]\n",
      "[1, 7, 21, 35, 35, 21, 7, 1]\n",
      "[1, 8, 28, 56, 70, 56, 28, 8, 1]\n",
      "[1, 9, 36, 84, 126, 126, 84, 36, 9, 1]\n"
     ]
    }
   ],
   "source": [
    "# 1\n",
    "# 1 1\n",
    "# 1 2 1\n",
    "# 1 3 3 1\n",
    "# 1 4 6 4 1\n",
    "# 1 5 10 10 5 1\n",
    "# 1 6 15 20 15 6 1\n",
    "# 1 7 21 35 35 21 7 1\n",
    "\n",
    "n = int(input())\n",
    "\n",
    "ans = [[1 for _ in range(i)] for i in range(1, 11)]\n",
    "for j in range(2,10):\n",
    "    for k in range(1,j):\n",
    "        ans[j][k] = ans[j-1][k-1] + ans[j-1][k]\n",
    "for __ in ans:\n",
    "    print(__)"
   ]
  },
  {
   "cell_type": "code",
   "execution_count": 383,
   "metadata": {},
   "outputs": [
    {
     "name": "stdout",
     "output_type": "stream",
     "text": [
      "6\n",
      "1 5 10 10 5 1 \n",
      "1 4 6 4 1 \n",
      "1 3 3 1 \n",
      "1 2 1 \n",
      "1 1 \n",
      "1 \n"
     ]
    }
   ],
   "source": [
    "n = int(input())\n",
    "\n",
    "ans = [[1 for _ in range(i)] for i in range(1, 11)]\n",
    "for j in range(2,10):\n",
    "    for k in range(1,j):\n",
    "        ans[j][k] = ans[j-1][k-1] + ans[j-1][k]\n",
    "        \n",
    "for test in range(n-1,-1,-1):\n",
    "    cnt = 0\n",
    "    for l in ans[test]:\n",
    "        cnt += 1\n",
    "        print(l, end = \" \")\n",
    "        if cnt == test+1:\n",
    "            print()\n",
    "        "
   ]
  },
  {
   "cell_type": "code",
   "execution_count": null,
   "metadata": {},
   "outputs": [],
   "source": []
  }
 ],
 "metadata": {
  "kernelspec": {
   "display_name": "Python 3",
   "language": "python",
   "name": "python3"
  },
  "language_info": {
   "codemirror_mode": {
    "name": "ipython",
    "version": 3
   },
   "file_extension": ".py",
   "mimetype": "text/x-python",
   "name": "python",
   "nbconvert_exporter": "python",
   "pygments_lexer": "ipython3",
   "version": "3.7.7"
  }
 },
 "nbformat": 4,
 "nbformat_minor": 4
}
