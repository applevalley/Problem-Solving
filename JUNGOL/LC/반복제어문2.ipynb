{
 "cells": [
  {
   "cell_type": "code",
   "execution_count": 233,
   "metadata": {},
   "outputs": [
    {
     "name": "stdout",
     "output_type": "stream",
     "text": [
      "a\n",
      "aaaaaaaaaaaaaaaaaaaa"
     ]
    }
   ],
   "source": [
    "# 자가진단1\n",
    "# 문자를 입력받아서 입력받은 문자를 20번 반복하여 출력하는 프로그램을 작성하시오.\n",
    "\n",
    "a = input()\n",
    "n = 0\n",
    "\n",
    "while n < 20:\n",
    "    print(a, end = \"\")\n",
    "    n += 1\n",
    "    \n",
    "# ????? 이해를 못하겠다 왜 저기서는 end = \"\"가 적용되지 않는걸까 다른 데서는 다 제대로 되는데 \n",
    "# 하다못해 presentaion error도 안나온다."
   ]
  },
  {
   "cell_type": "code",
   "execution_count": null,
   "metadata": {},
   "outputs": [],
   "source": [
    "# 자가진단2\n",
    "# 10부터 20까지의 숫자를 차례대로 출력하는 프로그램을 작성하시오.for문을 사용하세요.\n",
    "\n",
    "for i in range(10,21):\n",
    "    print(i, end = \" \")"
   ]
  },
  {
   "cell_type": "code",
   "execution_count": 28,
   "metadata": {},
   "outputs": [
    {
     "name": "stdout",
     "output_type": "stream",
     "text": [
      "48\n",
      "2 4 6 8 10 12 14 16 18 20 22 24 26 28 30 32 34 36 38 40 42 44 46 48 "
     ]
    }
   ],
   "source": [
    "# 자가진단3\n",
    "# 하나의 정수를 입력받아 1부터 입력받은 정수까지의 짝수를 차례대로 출력하는 프로그램을 작성하시오.\n",
    "# 입력되는 정수는 50이하이다.\n",
    "\n",
    "n = int(input())\n",
    "\n",
    "for i in range(1, n+1):\n",
    "    if i % 2 == 0:\n",
    "        print(i, end = \" \")"
   ]
  },
  {
   "cell_type": "code",
   "execution_count": 34,
   "metadata": {},
   "outputs": [
    {
     "name": "stdout",
     "output_type": "stream",
     "text": [
      "95\n",
      "585\n"
     ]
    }
   ],
   "source": [
    "# 자가진단4\n",
    "# 100 이하의 정수를 입력받아서 입력받은 정수부터 100까지의 합을 출력하는 프로그램을 작성하시오.\n",
    "\n",
    "n = int(input())\n",
    "count = 0\n",
    "\n",
    "for i in range(n, 101):\n",
    "    count += i\n",
    "print(count)"
   ]
  },
  {
   "cell_type": "code",
   "execution_count": 65,
   "metadata": {},
   "outputs": [
    {
     "name": "stdout",
     "output_type": "stream",
     "text": [
      "10 15 36 99 100 19 46 88 87 13\n",
      "Multiples of 3 : 4\n",
      "Multiples of 5 : 3\n"
     ]
    }
   ],
   "source": [
    "# 자가진단5\n",
    "# 10개의 정수를 입력받아 3의 배수의 개수와 5의 배수의 개수를 각각 출력하는 프로그램을 작성하시오.\n",
    "\n",
    "a = list(map(int, input().split()))\n",
    "count1 = []\n",
    "count2 = []\n",
    "for i in a:\n",
    "    if i % 3 == 0:\n",
    "        count1.append(i)\n",
    "    if i % 5 == 0:\n",
    "        count2.append(i)\n",
    "print(f'Multiples of 3 : {len(count1)}')\n",
    "print(f'Multiples of 5 : {len(count2)}')"
   ]
  },
  {
   "cell_type": "code",
   "execution_count": 42,
   "metadata": {},
   "outputs": [
    {
     "name": "stdout",
     "output_type": "stream",
     "text": [
      "4\n",
      "75 80 85 90\n",
      "avg : 82.5\n",
      "pass\n"
     ]
    }
   ],
   "source": [
    "# 자가진단6\n",
    "# 10 이하의 과목수 n이 주어진다. 정수로 주어진 n개 과목의 점수를 입력받아서 실수 평균을 구하여 출력하고 \n",
    "# 평균이 80점이상이면 \"pass\", 80점 미만이면 \"fail\"이라고 출력하는 프로그램을 작성하시오.\n",
    "# 평균은 반올림하여 소수 첫째자리까지 출력한다.\n",
    "\n",
    "T = int(input())\n",
    "a = list(map(int, input().split()))\n",
    "count = 0\n",
    "\n",
    "for test_case in a:\n",
    "    count += test_case\n",
    "print(f'avg : {count/len(a):.1f}')\n",
    "print('pass' if count/len(a) >= 80 else 'fail')"
   ]
  },
  {
   "cell_type": "code",
   "execution_count": 102,
   "metadata": {},
   "outputs": [
    {
     "name": "stdout",
     "output_type": "stream",
     "text": [
      "2 3 4 5 6\n",
      "3 4 5 6 7\n",
      "4 5 6 7 8\n",
      "5 6 7 8 9\n",
      "6 7 8 9 10\n"
     ]
    }
   ],
   "source": [
    "# 자가진단7\n",
    "# 아래와 같이 출력되는 프로그램을 작성하시오.\n",
    "\n",
    "for i in range(6,11):\n",
    "    for j in range(i-4, i):\n",
    "        print(j, end = \" \")\n",
    "    print(i, end = \"\\n\")"
   ]
  },
  {
   "cell_type": "code",
   "execution_count": 112,
   "metadata": {},
   "outputs": [
    {
     "name": "stdout",
     "output_type": "stream",
     "text": [
      "2 * 1 =  2   2 * 2 =  4   2 * 3 =  6   2 * 4 =  8   2 * 5 = 10   \n",
      "3 * 1 =  3   3 * 2 =  6   3 * 3 =  9   3 * 4 = 12   3 * 5 = 15   \n",
      "4 * 1 =  4   4 * 2 =  8   4 * 3 = 12   4 * 4 = 16   4 * 5 = 20   \n"
     ]
    }
   ],
   "source": [
    "# 자가진단8\n",
    "# 구구단의 일부를 다음과 같이 출력하는 프로그램을 작성하시오.\n",
    "# 곱셈의 결과는 오른쪽으로 맞추어 출력을 하고 결과값 사이의 공백은 3칸으로 한다.\n",
    "# 출력형식 예) 2_*_1_=__2___ (_는 공백을 나타내는 것임)\n",
    "\n",
    "for i in range(2,5):\n",
    "    for j in range(1, 6):\n",
    "        print(f'{i} * {j} = {i*j:>2}', end = \"   \")\n",
    "        if j == 5:\n",
    "            print()"
   ]
  },
  {
   "cell_type": "code",
   "execution_count": 113,
   "metadata": {},
   "outputs": [
    {
     "name": "stdout",
     "output_type": "stream",
     "text": [
      "9\n",
      "JUNGOL\n",
      "JUNGOL\n",
      "JUNGOL\n",
      "JUNGOL\n",
      "JUNGOL\n",
      "JUNGOL\n",
      "JUNGOL\n",
      "JUNGOL\n",
      "JUNGOL\n"
     ]
    }
   ],
   "source": [
    "# 형성평가1\n",
    "# 10 이하의 자연수 n을 입력받아 \"JUNGOL\"을 n번 출력하는 프로그램을 작성하시오.\n",
    "\n",
    "n = int(input())\n",
    "for i in range(1,n+1):\n",
    "    print(\"JUNGOL\")"
   ]
  },
  {
   "cell_type": "code",
   "execution_count": 116,
   "metadata": {},
   "outputs": [
    {
     "name": "stdout",
     "output_type": "stream",
     "text": [
      "5 10\n",
      "5 6 7 8 9 10 "
     ]
    }
   ],
   "source": [
    "# 형성평가2\n",
    "# 100 이하의 두 개의 정수를 입력받아 작은 수부터 큰 수까지 차례대로 출력하는 프로그램을 작성하시오.\n",
    "\n",
    "a, b = map(int, input().split())\n",
    "\n",
    "if a < b:\n",
    "    for i in range(a, b+1):\n",
    "        print(i, end = \" \")\n",
    "else:\n",
    "    for i in range(b, a+1):\n",
    "        print(i, end = \" \")\n",
    "    "
   ]
  },
  {
   "cell_type": "code",
   "execution_count": 117,
   "metadata": {},
   "outputs": [
    {
     "name": "stdout",
     "output_type": "stream",
     "text": [
      "20\n",
      "50\n"
     ]
    }
   ],
   "source": [
    "# 형성평가3\n",
    "# 정수를 입력받아서 1부터 입력받은 정수까지의 5의 배수의 합을 구하여 출력하는 프로그램을 작성하시오.\n",
    "\n",
    "n = int(input())\n",
    "count = 0\n",
    "for i in range(1, n+1):\n",
    "    if i % 5 == 0:\n",
    "        count += i\n",
    "print(count)"
   ]
  },
  {
   "cell_type": "code",
   "execution_count": 119,
   "metadata": {},
   "outputs": [
    {
     "name": "stdout",
     "output_type": "stream",
     "text": [
      "3\n",
      "99 65 30\n",
      "64.67\n"
     ]
    }
   ],
   "source": [
    "# 형성평가4\n",
    "# 100 이하의 자연수 n을 입력받고 n개의 정수를 입력받아 평균을 출력하는 프로그램을 작성하시오.\n",
    "# (평균은 반올림하여 소수 둘째자리까지 출력하도록 한다.)\n",
    "\n",
    "n = int(input())\n",
    "m = list(map(int, input().split()))\n",
    "count = 0\n",
    "\n",
    "for i in m:\n",
    "    count += i\n",
    "    \n",
    "print(f'{count/len(m):.2f}')"
   ]
  },
  {
   "cell_type": "code",
   "execution_count": 121,
   "metadata": {},
   "outputs": [
    {
     "name": "stdout",
     "output_type": "stream",
     "text": [
      "10 20 30 55 66 77 88 99 100 15\n",
      "even : 6\n",
      "odd : 4\n"
     ]
    }
   ],
   "source": [
    "# 형성평가5\n",
    "# 10개의 정수를 입력받아 입력받은 수들 중 짝수의 개수와 홀수의 개수를 각각 구하여 출력하는 프로그램을 작성하시오.\n",
    "\n",
    "a = list(map(int, input().split()))\n",
    "count1 = []\n",
    "count2 = []\n",
    "\n",
    "for i in a:\n",
    "    if i % 2:\n",
    "        count1.append(i)\n",
    "    else:\n",
    "        count2.append(i)\n",
    "print(f'even : {len(count2)}')\n",
    "print(f'odd : {len(count1)}')\n"
   ]
  },
  {
   "cell_type": "code",
   "execution_count": 213,
   "metadata": {},
   "outputs": [
    {
     "name": "stdout",
     "output_type": "stream",
     "text": [
      "35 15\n",
      "sum : 248\n",
      "avg : 24.8\n"
     ]
    }
   ],
   "source": [
    "# 형성평가6\n",
    "# 두 개의 정수를 입력받아 두 정수 사이(두 정수를 포함)에 3의 배수이거나 5의 배수인 수들의 합과 평균을 출력하는 프로그램을 작성하시오.\n",
    "# (평균은 반올림하여 소수 첫째자리까지 출력한다.)\n",
    "\n",
    "a,b = map(int, input().split())\n",
    "count1 = 0\n",
    "count2 = []\n",
    "if a < b:\n",
    "    for i in range(a,b+1):\n",
    "        if i % 3 == 0 or i % 5 == 0:\n",
    "            count1 += i\n",
    "            count2.append(i)\n",
    "    print(f'sum : {count1}')\n",
    "    print(f'avg : {count1/len(count2):.1f}')\n",
    "else:\n",
    "    for i in range(b,a+1):\n",
    "        if i % 3 == 0 or i % 5 == 0:\n",
    "            count1 += i\n",
    "            count2.append(i)\n",
    "    print(f'sum : {count1}')\n",
    "    print(f'avg : {count1/len(count2):.1f}')"
   ]
  },
  {
   "cell_type": "code",
   "execution_count": 126,
   "metadata": {},
   "outputs": [
    {
     "name": "stdout",
     "output_type": "stream",
     "text": [
      "5\n",
      "5 10 15 20 25 30 35 40 45 50 "
     ]
    }
   ],
   "source": [
    "# 형성평가7\n",
    "# 한 개의 자연수를 입력받아 그 수의 배수를 차례로 10개 출력하는 프로그램을 작성하시오.\n",
    "\n",
    "n = int(input())\n",
    "\n",
    "for i in range(1,11):\n",
    "    print(n * i, end = \" \")"
   ]
  },
  {
   "cell_type": "code",
   "execution_count": 147,
   "metadata": {},
   "outputs": [
    {
     "name": "stdout",
     "output_type": "stream",
     "text": [
      "3 4\n",
      "1 2 3 4 \n",
      "2 4 6 8 \n",
      "3 6 9 12 \n"
     ]
    }
   ],
   "source": [
    "# 형성평가8\n",
    "# 행과 열의 수를 입력받아 다음과 같이 출력하는 프로그램을 작성하시오.\n",
    "\n",
    "a,b = map(int,input().split())\n",
    "\n",
    "for i in range(1,a+1):\n",
    "    print(i, end = \" \")\n",
    "    for j in range(2,b+1):\n",
    "        print(i * j, end = \" \")\n",
    "        if j == b:\n",
    "            print()\n"
   ]
  },
  {
   "cell_type": "code",
   "execution_count": 149,
   "metadata": {},
   "outputs": [
    {
     "name": "stdout",
     "output_type": "stream",
     "text": [
      "4\n",
      "(1, 1) (1, 2) (1, 3) (1, 4) \n",
      "(2, 1) (2, 2) (2, 3) (2, 4) \n",
      "(3, 1) (3, 2) (3, 3) (3, 4) \n",
      "(4, 1) (4, 2) (4, 3) (4, 4) \n"
     ]
    }
   ],
   "source": [
    "# 형성평가9\n",
    "# 정수를 입력받아 다음과 같이 순서쌍을 출력하는 프로그램을 작성하시오.\n",
    "\n",
    "n = int(input())\n",
    "\n",
    "for i in range(1, n+1):\n",
    "    for j in range(1, n+1):\n",
    "        print(f'({i}, {j})', end = \" \")\n",
    "        if j == n:\n",
    "            print()"
   ]
  },
  {
   "cell_type": "code",
   "execution_count": 210,
   "metadata": {},
   "outputs": [
    {
     "name": "stdout",
     "output_type": "stream",
     "text": [
      "3 7\n",
      "3 * 1 =  3   4 * 1 =  4   5 * 1 =  5   6 * 1 =  6   7 * 1 =  7   \n",
      "3 * 2 =  6   4 * 2 =  8   5 * 2 = 10   6 * 2 = 12   7 * 2 = 14   \n",
      "3 * 3 =  9   4 * 3 = 12   5 * 3 = 15   6 * 3 = 18   7 * 3 = 21   \n",
      "3 * 4 = 12   4 * 4 = 16   5 * 4 = 20   6 * 4 = 24   7 * 4 = 28   \n",
      "3 * 5 = 15   4 * 5 = 20   5 * 5 = 25   6 * 5 = 30   7 * 5 = 35   \n",
      "3 * 6 = 18   4 * 6 = 24   5 * 6 = 30   6 * 6 = 36   7 * 6 = 42   \n",
      "3 * 7 = 21   4 * 7 = 28   5 * 7 = 35   6 * 7 = 42   7 * 7 = 49   \n",
      "3 * 8 = 24   4 * 8 = 32   5 * 8 = 40   6 * 8 = 48   7 * 8 = 56   \n",
      "3 * 9 = 27   4 * 9 = 36   5 * 9 = 45   6 * 9 = 54   7 * 9 = 63   \n"
     ]
    }
   ],
   "source": [
    "# 형성평가A   # accepted(90)\n",
    "# 2부터 9까지의 수 중 2개를 입력받아 입력받은 수 사이의 구구단을 출력하는 프로그램을 작성하시오.\n",
    "# 단 반드시 먼저 입력된 수의 구구단부터 아래의 형식에 맞게 출력하여야 한다.\n",
    "# 구구단 사이의 공백은 3칸이다.\n",
    "\n",
    "a, b = map(int, input().split())\n",
    "\n",
    "if b > a:\n",
    "    for j in range(1, 10):\n",
    "        for k in range((b-a)+1):\n",
    "            print(f'{a+k} * {j} = {(a+k)*j:>2}', end = \"   \")\n",
    "            if a+k == b:\n",
    "                print()\n",
    "if a > b:\n",
    "    for j in range(1, 10):\n",
    "        for k in range((a-b)+1):\n",
    "            print(f'{a-k} * {j} = {(a-k)*j:>2}', end = \"   \")\n",
    "            if a-k == b:\n",
    "                print()"
   ]
  },
  {
   "cell_type": "code",
   "execution_count": null,
   "metadata": {},
   "outputs": [],
   "source": []
  }
 ],
 "metadata": {
  "kernelspec": {
   "display_name": "Python 3",
   "language": "python",
   "name": "python3"
  },
  "language_info": {
   "codemirror_mode": {
    "name": "ipython",
    "version": 3
   },
   "file_extension": ".py",
   "mimetype": "text/x-python",
   "name": "python",
   "nbconvert_exporter": "python",
   "pygments_lexer": "ipython3",
   "version": "3.8.3"
  }
 },
 "nbformat": 4,
 "nbformat_minor": 4
}
