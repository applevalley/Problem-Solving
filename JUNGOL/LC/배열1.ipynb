{
 "cells": [
  {
   "cell_type": "code",
   "execution_count": 1,
   "metadata": {},
   "outputs": [
    {
     "name": "stdout",
     "output_type": "stream",
     "text": [
      "A B C D E F G H I J\n",
      "ABCDEFGHIJ"
     ]
    }
   ],
   "source": [
    "# 자가진단1\n",
    "\n",
    "# 문자 10개를 저장할 수 있는 배열을 만들고 10개의 문자를 입력받아 입력받은 문자를 이어서 출력하는 프로그램을 작성하시오.\n",
    "\n",
    "word = list(map(str, input().split()))\n",
    "\n",
    "for i in word:\n",
    "    print(i, end=\"\")"
   ]
  },
  {
   "cell_type": "code",
   "execution_count": 4,
   "metadata": {},
   "outputs": [
    {
     "name": "stdout",
     "output_type": "stream",
     "text": [
      "1 2 3 4 5 6 7 8 9 10 "
     ]
    }
   ],
   "source": [
    "# 자가진단2\n",
    "\n",
    "# 정수 10 개를 저장할 수 있는 배열을 만들어서 1 부터 10 까지를 대입하고 차례대로 출력하는 프로그램을 작성하시오.\n",
    "\n",
    "number = list(range(1,11))\n",
    "\n",
    "for i in number:\n",
    "    print(i, end = \" \")"
   ]
  },
  {
   "cell_type": "code",
   "execution_count": 11,
   "metadata": {},
   "outputs": [
    {
     "name": "stdout",
     "output_type": "stream",
     "text": [
      "A B C D E F G H I J\n",
      "A D G "
     ]
    }
   ],
   "source": [
    "# 자가진단3\n",
    "\n",
    "# 10개의 문자를 입력받아서 첫 번째 네 번째 일곱 번째 입력받은 문자를 차례로 출력하는 프로그램을 작성하시오.\n",
    "\n",
    "word = list(map(str, input().split()))\n",
    "\n",
    "for i in range(0,len(word)-1,3):\n",
    "    print(word[i], end = \" \")"
   ]
  },
  {
   "cell_type": "code",
   "execution_count": 21,
   "metadata": {},
   "outputs": [
    {
     "name": "stdout",
     "output_type": "stream",
     "text": [
      "3 5 10 55 0\n",
      "[3, 5, 10, 55]\n",
      "55 10 5 3 "
     ]
    }
   ],
   "source": [
    "# 자가진단4\n",
    "\n",
    "# 100 개의 정수를 저장할 수 있는 배열을 선언하고 정수를 차례로 입력받다가 0 이 입력되면 0 을 제외하고 \n",
    "# 그 때까지 입력된 정수를 가장 나중에 입력된 정수부터 차례대로 출력하는 프로그램을 작성하시오.\n",
    "\n",
    "numbers = list(map(int, input().split()))\n",
    "\n",
    "if 0 in numbers:\n",
    "    numbers.pop()\n",
    "    print(numbers)\n",
    "    for i in numbers[::-1]:\n",
    "        print(i, end= \" \")"
   ]
  },
  {
   "cell_type": "markdown",
   "metadata": {},
   "source": [
    "### "
   ]
  }
 ],
 "metadata": {
  "kernelspec": {
   "display_name": "Python 3",
   "language": "python",
   "name": "python3"
  },
  "language_info": {
   "codemirror_mode": {
    "name": "ipython",
    "version": 3
   },
   "file_extension": ".py",
   "mimetype": "text/x-python",
   "name": "python",
   "nbconvert_exporter": "python",
   "pygments_lexer": "ipython3",
   "version": "3.7.7"
  }
 },
 "nbformat": 4,
 "nbformat_minor": 4
}
