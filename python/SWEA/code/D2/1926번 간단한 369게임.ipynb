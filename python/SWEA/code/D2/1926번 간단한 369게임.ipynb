{
 "cells": [
  {
   "cell_type": "code",
   "execution_count": null,
   "metadata": {},
   "outputs": [],
   "source": [
    "# 박수를 치는 부분은 숫자 대신, 박수 횟수에 맞게 “-“ 를 출력한다.\n",
    "# 여기서 주의해야 할 것은 박수 한 번 칠 때는 - 이며, 박수를 두 번 칠 때는 - - 가 아닌 -- 이다. \n",
    "\n",
    "# 문제를 잘 읽어야 한다. 박수를 친다는 부분에서 30 이상 -0 -1 -2 이런 식으로 쓰라는게 아니라 그냥 369가 있으면 - 로 하면 된다.\n",
    "\n",
    "n = int(input())\n",
    "double_clap = [33,36,39,63,66,69,93,96,99]           # 바람직한 방법이 아니다. 테스트 케이스가 100까지이기에 할 수 있는 방법.\n",
    "\n",
    "for i in range(1,n+1):\n",
    "    if i > 9:                                        # 숫자가 10 이상일때\n",
    "        if i in double_clap:                         # 앞서 정의한 리스트에 속하면 박수를 두번 친다.\n",
    "            print('--', end = \" \")\n",
    "        else:\n",
    "            if i // 10 == 3 or i // 10 == 6 or i // 10 == 9:     # 10의 자리가 3,6,9이면 박수\n",
    "                print('-', end = \" \")\n",
    "            elif i % 10 == 3 or i % 10 == 6 or i % 10 == 9:     #  1의 자리가 3,6,9이면 박수\n",
    "                print('-', end = \" \")    \n",
    "            else:\n",
    "                print(i, end = \" \")                               #  그게 아니면 그냥 숫자만\n",
    "    else:\n",
    "        if i % 10 == 3 or i % 10 == 6 or i % 10 == 9:            # n이 한 자리인 경우 3 6 9이면 박수\n",
    "            print('-', end = \" \")\n",
    "        else:\n",
    "            print(i, end = \" \")                                    # 그게 아니면 숫자만"
   ]
  },
  {
   "cell_type": "code",
   "execution_count": null,
   "metadata": {},
   "outputs": [],
   "source": []
  }
 ],
 "metadata": {
  "kernelspec": {
   "display_name": "Python 3",
   "language": "python",
   "name": "python3"
  },
  "language_info": {
   "codemirror_mode": {
    "name": "ipython",
    "version": 3
   },
   "file_extension": ".py",
   "mimetype": "text/x-python",
   "name": "python",
   "nbconvert_exporter": "python",
   "pygments_lexer": "ipython3",
   "version": "3.7.7"
  }
 },
 "nbformat": 4,
 "nbformat_minor": 4
}
