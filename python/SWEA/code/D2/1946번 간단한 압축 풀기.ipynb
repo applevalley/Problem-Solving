{
 "cells": [
  {
   "cell_type": "code",
   "execution_count": 8,
   "metadata": {},
   "outputs": [
    {
     "name": "stdout",
     "output_type": "stream",
     "text": [
      "1\n",
      "3\n",
      "A 10\n",
      "B 7\n",
      "C 5\n",
      "#1\n",
      "AAAAAAAAAA\n",
      "BBBBBBBCCC\n",
      "CC        \n"
     ]
    }
   ],
   "source": [
    "# 이 문서를 압축한 문서는 알파벳과 그 알파벳의 연속된 개수로 이루어진 쌍들이 나열되어 있다. (예 : A 5   AAAAA)\n",
    "# 압축된 문서를 입력 받아 원본 문서를 만드는 프로그램을 작성하시오.\n",
    "\n",
    "T = int(input())\n",
    "for test_case in range(1, T+1):\n",
    "    numbers = int(input())                              # 알파벳의 개수\n",
    "    my_str = ''                                         # 알파벳과 숫자를 곱한 결과들을 저장할 문자열 형식의 변수\n",
    "    \n",
    "    for number in range(1,numbers+1):                  \n",
    "        word, count = input().split()                   # 알파벳과 그 개수\n",
    "        my_str += word*int(count)                       # 각각 곱한 값을 변수에 연속해서 저장한다.\n",
    "    print(f'#{test_case}')\n",
    "    \n",
    "    while True:\n",
    "        if len(my_str) > 10:                            # 문자열의 길이가 10이기에 10을 넘어가면 10번째까지 출력하고, \n",
    "            print(my_str[:10])                          # 문자열을 11번째부터 다시 문자열의 길이만큼 출력하게 반복시킨다.\n",
    "            my_str = my_str[10:]\n",
    "        else:\n",
    "            print(f'{my_str:<10}')                      # 10을 안 넘어가면 그냥 출력해버렷\n",
    "            break"
   ]
  }
 ],
 "metadata": {
  "kernelspec": {
   "display_name": "Python 3",
   "language": "python",
   "name": "python3"
  },
  "language_info": {
   "codemirror_mode": {
    "name": "ipython",
    "version": 3
   },
   "file_extension": ".py",
   "mimetype": "text/x-python",
   "name": "python",
   "nbconvert_exporter": "python",
   "pygments_lexer": "ipython3",
   "version": "3.7.7"
  }
 },
 "nbformat": 4,
 "nbformat_minor": 4
}
