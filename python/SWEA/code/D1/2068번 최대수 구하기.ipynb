{
 "cells": [
  {
   "cell_type": "code",
   "execution_count": 1,
   "metadata": {},
   "outputs": [
    {
     "name": "stdout",
     "output_type": "stream",
     "text": [
      "3\n",
      "3 17 1 39 8 41 2 32 99 2\n",
      "#1 99\n",
      "22 8 5 123 7 2 63 7 3 46\n",
      "#2 123\n",
      "6 63 2 3 58 76 21 33 8 1\n",
      "#3 76\n"
     ]
    }
   ],
   "source": [
    "# 10개의 수를 입력 받아, 그 중에서 가장 큰 수를 출력하는 프로그램을 작성하라.\n",
    "\n",
    "T = int(input())                                  # 테스트 케이스의 수\n",
    "\n",
    "for test_case in range(1, T+1):                  # 각 수에서 반복\n",
    "    a = list(map(int,input().split()))           # 입력받을 수들을 리스트로 묶어줌.\n",
    "    print(\"#{} {}\".format(test_case, max(a)))     # 테스트 케이스와 리스트 안에서의 최대값 출력!"
   ]
  },
  {
   "cell_type": "code",
   "execution_count": null,
   "metadata": {},
   "outputs": [],
   "source": [
    "# max()를 사용하는게 더 짧고 간결하겠지만 다른 방법도 분명 있을 것 같다. 실력이 더 좋아지면 생각해보자."
   ]
  }
 ],
 "metadata": {
  "kernelspec": {
   "display_name": "Python 3",
   "language": "python",
   "name": "python3"
  },
  "language_info": {
   "codemirror_mode": {
    "name": "ipython",
    "version": 3
   },
   "file_extension": ".py",
   "mimetype": "text/x-python",
   "name": "python",
   "nbconvert_exporter": "python",
   "pygments_lexer": "ipython3",
   "version": "3.8.3"
  }
 },
 "nbformat": 4,
 "nbformat_minor": 4
}
