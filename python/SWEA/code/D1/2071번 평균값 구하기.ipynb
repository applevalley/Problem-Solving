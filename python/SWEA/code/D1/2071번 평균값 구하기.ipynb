{
 "cells": [
  {
   "cell_type": "code",
   "execution_count": 10,
   "metadata": {},
   "outputs": [
    {
     "name": "stdout",
     "output_type": "stream",
     "text": [
      "3\n",
      "3 17 1 39 8 41 2 32 99 2\n",
      "#1 24\n",
      "22 8 5 123 7 2 63 7 3 46\n",
      "#2 29\n",
      "6 63 2 3 58 76 21 33 8 1\n",
      "#3 27\n"
     ]
    }
   ],
   "source": [
    "# 10개의 수를 입력 받아, 평균값을 출력하는 프로그램을 작성하라. (소수점 첫째 자리에서 반올림한 정수를 출력한다.)\n",
    "\n",
    "\n",
    "T = int(input())                          # 테스트 케이스의 수\n",
    "\n",
    "for test_case in range(1, T+1):          # 테스트 케이스에서 반복\n",
    "    count = 0                             # 변수 초기화\n",
    "    a = list(map(int, input().split()))   # 입력받을 수를 리스트로 묶었다.\n",
    "    for i in a:                           # 리스트 안에서 반복\n",
    "        count += i                        # 입력받을 수 10개를 전부 count 안에 더해 저장한다.\n",
    "    b = count / len(a)                    # 평균값을 구해야 하기에 리스트의 길이 = 입력받은 숫자의 개수로 나눠준다.\n",
    "    print(\"#%s %0.0f\" % (test_case, b))   # % 포매팅으로 값을 구했다."
   ]
  },
  {
   "cell_type": "code",
   "execution_count": null,
   "metadata": {},
   "outputs": [],
   "source": [
    "# 앞서 홀수만 더하기에서 해결한 풀이를 거의 그대로 적용할 수 있었다.\n",
    "# 두번째 테스트 케이스가 문제였는데, 소수점을 어떻게 반올림할지가 고민이었다. \n",
    "# round를 써버리면 정수값이 다 올라가버렸고, 정수형으로 표현하는 경우(%d 로 포매팅하거나, int(b)로 표현하거나)는 29가 아닌 28이었다.\n",
    "# 그래도 소수점을 전부 버린 %0.0f로 출력해보았는데 다행히 원하는 값을 얻었다.\n",
    "# sum(count)로도 같은 값을 얻을 수 있을까? 해보니 안되는 것 같다."
   ]
  },
  {
   "cell_type": "code",
   "execution_count": 11,
   "metadata": {},
   "outputs": [
    {
     "name": "stdout",
     "output_type": "stream",
     "text": [
      "3\n",
      "3 17 1 39 8 41 2 32 99 2\n"
     ]
    },
    {
     "ename": "TypeError",
     "evalue": "'int' object is not iterable",
     "output_type": "error",
     "traceback": [
      "\u001b[1;31m---------------------------------------------------------------------------\u001b[0m",
      "\u001b[1;31mTypeError\u001b[0m                                 Traceback (most recent call last)",
      "\u001b[1;32m<ipython-input-11-94c6e31052ea>\u001b[0m in \u001b[0;36m<module>\u001b[1;34m\u001b[0m\n\u001b[0;32m      9\u001b[0m     \u001b[1;32mfor\u001b[0m \u001b[0mi\u001b[0m \u001b[1;32min\u001b[0m \u001b[0ma\u001b[0m\u001b[1;33m:\u001b[0m                           \u001b[1;31m# 리스트 안에서 반복\u001b[0m\u001b[1;33m\u001b[0m\u001b[1;33m\u001b[0m\u001b[0m\n\u001b[0;32m     10\u001b[0m         \u001b[0mcount\u001b[0m \u001b[1;33m+=\u001b[0m \u001b[0mi\u001b[0m                        \u001b[1;31m# 입력받을 수 10개를 전부 count 안에 더해 저장한다.\u001b[0m\u001b[1;33m\u001b[0m\u001b[1;33m\u001b[0m\u001b[0m\n\u001b[1;32m---> 11\u001b[1;33m     \u001b[0mb\u001b[0m \u001b[1;33m=\u001b[0m \u001b[0msum\u001b[0m\u001b[1;33m(\u001b[0m\u001b[0mcount\u001b[0m\u001b[1;33m)\u001b[0m \u001b[1;33m/\u001b[0m \u001b[0mlen\u001b[0m\u001b[1;33m(\u001b[0m\u001b[0ma\u001b[0m\u001b[1;33m)\u001b[0m                    \u001b[1;31m# 평균값을 구해야 하기에 리스트의 길이 = 입력받은 숫자의 개수로 나눠준다.\u001b[0m\u001b[1;33m\u001b[0m\u001b[1;33m\u001b[0m\u001b[0m\n\u001b[0m\u001b[0;32m     12\u001b[0m     \u001b[0mprint\u001b[0m\u001b[1;33m(\u001b[0m\u001b[1;34m\"#%s %0.0f\"\u001b[0m \u001b[1;33m%\u001b[0m \u001b[1;33m(\u001b[0m\u001b[0mtest_case\u001b[0m\u001b[1;33m,\u001b[0m \u001b[0mb\u001b[0m\u001b[1;33m)\u001b[0m\u001b[1;33m)\u001b[0m   \u001b[1;31m# % 포매팅으로 값을 구했다.\u001b[0m\u001b[1;33m\u001b[0m\u001b[1;33m\u001b[0m\u001b[0m\n",
      "\u001b[1;31mTypeError\u001b[0m: 'int' object is not iterable"
     ]
    }
   ],
   "source": [
    "# # 10개의 수를 입력 받아, 평균값을 출력하는 프로그램을 작성하라. (소수점 첫째 자리에서 반올림한 정수를 출력한다.)\n",
    "\n",
    "\n",
    "# T = int(input())                          # 테스트 케이스의 수\n",
    "\n",
    "# for test_case in range(1, T+1):          # 테스트 케이스에서 반복\n",
    "#     count = 0                             # 변수 초기화\n",
    "#     a = list(map(int, input().split()))   # 입력받을 수를 리스트로 묶었다.\n",
    "#     for i in a:                           # 리스트 안에서 반복\n",
    "#         count += i                        # 입력받을 수 10개를 전부 count 안에 더해 저장한다.\n",
    "#     b = sum(count) / len(a)                    # 평균값을 구해야 하기에 리스트의 길이 = 입력받은 숫자의 개수로 나눠준다.\n",
    "#     print(\"#%s %0.0f\" % (test_case, b))   # % 포매팅으로 값을 구했다."
   ]
  },
  {
   "cell_type": "code",
   "execution_count": null,
   "metadata": {},
   "outputs": [],
   "source": []
  }
 ],
 "metadata": {
  "kernelspec": {
   "display_name": "Python 3",
   "language": "python",
   "name": "python3"
  },
  "language_info": {
   "codemirror_mode": {
    "name": "ipython",
    "version": 3
   },
   "file_extension": ".py",
   "mimetype": "text/x-python",
   "name": "python",
   "nbconvert_exporter": "python",
   "pygments_lexer": "ipython3",
   "version": "3.8.3"
  }
 },
 "nbformat": 4,
 "nbformat_minor": 4
}
