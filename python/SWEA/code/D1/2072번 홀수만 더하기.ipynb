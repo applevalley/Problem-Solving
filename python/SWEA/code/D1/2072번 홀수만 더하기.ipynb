{
 "cells": [
  {
   "cell_type": "code",
   "execution_count": 23,
   "metadata": {},
   "outputs": [
    {
     "name": "stdout",
     "output_type": "stream",
     "text": [
      "3\n",
      "3 17 1 39 8 41 2 32 99 2\n",
      "#1 200\n",
      "22 8 5 123 7 2 63 7 3 46\n",
      "#2 208\n",
      "6 63 2 3 58 76 21 33 8 1\n",
      "#3 121\n"
     ]
    }
   ],
   "source": [
    "# 10개의 수를 입력 받아, 그 중에서 홀수만 더한 값을 출력하는 프로그램을 작성하라.\n",
    "\n",
    "T = int(input())                                 # 테스트 케이스의 수 T\n",
    "\n",
    "for test_case in range(1, T+1):                 # 각 테스트 케이스에 대한 반복\n",
    "    count = 0                                    # 변수 초기화\n",
    "    a = list(map(int, input().split(\" \")))       # 10개의 수라길래 a,b,c,d... 하려다가 이렇게 해봄. 중첩 for문 때문에 list로 묶어줌. \n",
    "    for i in a:                                 # 입력받은 숫자들 안에서 반복\n",
    "        if i % 2 == 1:                          # 홀수들만 구해서\n",
    "            count += i                          # 카운트 변수 안에 더해준다!\n",
    "    print(\"#{} {}\".format(test_case, count))    # 각 테스트 케이스와 카운트 값을 출력"
   ]
  },
  {
   "cell_type": "code",
   "execution_count": null,
   "metadata": {},
   "outputs": [],
   "source": [
    "# count를 for문 밖에서 선언하니 각 테스트 케이스들의 값이 전부 합산된 형태로 출력되었다. (200 - 408 - 529)\n",
    "# global로도 마찬가지였다.\n",
    "# 10개라고 입력받을 수를 지정해주었는데, 그렇다고 a,b,c,d...로 하나씩 쪼개서 각각을 더해줄 수도 없다.\n",
    "# 물론 그렇다고 지금 사용한 list(map...)가 최선인지도 잘 모르겠다. 이 부분에 대한 고민을 더 해봐야겠다."
   ]
  }
 ],
 "metadata": {
  "kernelspec": {
   "display_name": "Python 3",
   "language": "python",
   "name": "python3"
  },
  "language_info": {
   "codemirror_mode": {
    "name": "ipython",
    "version": 3
   },
   "file_extension": ".py",
   "mimetype": "text/x-python",
   "name": "python",
   "nbconvert_exporter": "python",
   "pygments_lexer": "ipython3",
   "version": "3.8.3"
  }
 },
 "nbformat": 4,
 "nbformat_minor": 4
}
