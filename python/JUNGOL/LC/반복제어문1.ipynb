{
 "cells": [
  {
   "cell_type": "code",
   "execution_count": 6,
   "metadata": {},
   "outputs": [
    {
     "name": "stdout",
     "output_type": "stream",
     "text": [
      "1 2 3 4 5 6 7 8 9 10 11 12 13 14 15 "
     ]
    }
   ],
   "source": [
    "# 자가진단1\n",
    "# 1부터 15까지 차례로 출력하는 프로그램을 작성하시오. while문을 이용하세요.\n",
    "# 1 2 3 4 5 6 7 8 9 10 11 12 13 14 15\n",
    "\n",
    "n = int()\n",
    "while n < 15:\n",
    "    n += 1\n",
    "    print(n, end = \" \")"
   ]
  },
  {
   "cell_type": "code",
   "execution_count": 9,
   "metadata": {},
   "outputs": [
    {
     "name": "stdout",
     "output_type": "stream",
     "text": [
      "10\n",
      "55\n"
     ]
    }
   ],
   "source": [
    "# 자가진단2\n",
    "# 100 이하의 양의 정수만 입력된다. while 문을 이용하여 1부터 입력받은 정수까지의 합을 구하여 출력하는 프로그램을 작성하시오.\n",
    "# 10 입력 예\n",
    "# 55 출력 예\n",
    "\n",
    "n = int(input())\n",
    "count = 0\n",
    "k = 0\n",
    "while True:\n",
    "    k += 1\n",
    "    count += k\n",
    "    if k == n:\n",
    "        pass\n",
    "        break\n",
    "print(count)"
   ]
  },
  {
   "cell_type": "code",
   "execution_count": 21,
   "metadata": {},
   "outputs": [
    {
     "name": "stdout",
     "output_type": "stream",
     "text": [
      "number? 1\n",
      "posivite number\n",
      "number? 2\n",
      "posivite number\n",
      "number? -3\n",
      "posivite number\n"
     ]
    },
    {
     "ename": "KeyboardInterrupt",
     "evalue": "Interrupted by user",
     "output_type": "error",
     "traceback": [
      "\u001b[1;31m---------------------------------------------------------------------------\u001b[0m",
      "\u001b[1;31mKeyboardInterrupt\u001b[0m                         Traceback (most recent call last)",
      "\u001b[1;32m<ipython-input-21-e5cdbc435a6a>\u001b[0m in \u001b[0;36m<module>\u001b[1;34m\u001b[0m\n\u001b[0;32m      9\u001b[0m     \u001b[1;32mif\u001b[0m \u001b[0mn\u001b[0m \u001b[1;33m>\u001b[0m \u001b[1;36m0\u001b[0m\u001b[1;33m:\u001b[0m\u001b[1;33m\u001b[0m\u001b[1;33m\u001b[0m\u001b[0m\n\u001b[0;32m     10\u001b[0m         \u001b[0mprint\u001b[0m\u001b[1;33m(\u001b[0m\u001b[1;34m\"posivite number\"\u001b[0m\u001b[1;33m)\u001b[0m\u001b[1;33m\u001b[0m\u001b[1;33m\u001b[0m\u001b[0m\n\u001b[1;32m---> 11\u001b[1;33m         \u001b[0minput\u001b[0m\u001b[1;33m(\u001b[0m\u001b[1;34m\"number? \"\u001b[0m\u001b[1;33m)\u001b[0m\u001b[1;33m\u001b[0m\u001b[1;33m\u001b[0m\u001b[0m\n\u001b[0m\u001b[0;32m     12\u001b[0m         \u001b[1;32mif\u001b[0m \u001b[0mn\u001b[0m \u001b[1;33m==\u001b[0m \u001b[1;36m0\u001b[0m\u001b[1;33m:\u001b[0m\u001b[1;33m\u001b[0m\u001b[1;33m\u001b[0m\u001b[0m\n\u001b[0;32m     13\u001b[0m             \u001b[1;32mpass\u001b[0m\u001b[1;33m\u001b[0m\u001b[1;33m\u001b[0m\u001b[0m\n",
      "\u001b[1;32mC:\\ProgramData\\Anaconda3\\envs\\Rin\\lib\\site-packages\\ipykernel\\kernelbase.py\u001b[0m in \u001b[0;36mraw_input\u001b[1;34m(self, prompt)\u001b[0m\n\u001b[0;32m    858\u001b[0m                 \u001b[1;34m\"raw_input was called, but this frontend does not support input requests.\"\u001b[0m\u001b[1;33m\u001b[0m\u001b[1;33m\u001b[0m\u001b[0m\n\u001b[0;32m    859\u001b[0m             )\n\u001b[1;32m--> 860\u001b[1;33m         return self._input_request(str(prompt),\n\u001b[0m\u001b[0;32m    861\u001b[0m             \u001b[0mself\u001b[0m\u001b[1;33m.\u001b[0m\u001b[0m_parent_ident\u001b[0m\u001b[1;33m,\u001b[0m\u001b[1;33m\u001b[0m\u001b[1;33m\u001b[0m\u001b[0m\n\u001b[0;32m    862\u001b[0m             \u001b[0mself\u001b[0m\u001b[1;33m.\u001b[0m\u001b[0m_parent_header\u001b[0m\u001b[1;33m,\u001b[0m\u001b[1;33m\u001b[0m\u001b[1;33m\u001b[0m\u001b[0m\n",
      "\u001b[1;32mC:\\ProgramData\\Anaconda3\\envs\\Rin\\lib\\site-packages\\ipykernel\\kernelbase.py\u001b[0m in \u001b[0;36m_input_request\u001b[1;34m(self, prompt, ident, parent, password)\u001b[0m\n\u001b[0;32m    902\u001b[0m             \u001b[1;32mexcept\u001b[0m \u001b[0mKeyboardInterrupt\u001b[0m\u001b[1;33m:\u001b[0m\u001b[1;33m\u001b[0m\u001b[1;33m\u001b[0m\u001b[0m\n\u001b[0;32m    903\u001b[0m                 \u001b[1;31m# re-raise KeyboardInterrupt, to truncate traceback\u001b[0m\u001b[1;33m\u001b[0m\u001b[1;33m\u001b[0m\u001b[1;33m\u001b[0m\u001b[0m\n\u001b[1;32m--> 904\u001b[1;33m                 \u001b[1;32mraise\u001b[0m \u001b[0mKeyboardInterrupt\u001b[0m\u001b[1;33m(\u001b[0m\u001b[1;34m\"Interrupted by user\"\u001b[0m\u001b[1;33m)\u001b[0m \u001b[1;32mfrom\u001b[0m \u001b[1;32mNone\u001b[0m\u001b[1;33m\u001b[0m\u001b[1;33m\u001b[0m\u001b[0m\n\u001b[0m\u001b[0;32m    905\u001b[0m             \u001b[1;32mexcept\u001b[0m \u001b[0mException\u001b[0m \u001b[1;32mas\u001b[0m \u001b[0me\u001b[0m\u001b[1;33m:\u001b[0m\u001b[1;33m\u001b[0m\u001b[1;33m\u001b[0m\u001b[0m\n\u001b[0;32m    906\u001b[0m                 \u001b[0mself\u001b[0m\u001b[1;33m.\u001b[0m\u001b[0mlog\u001b[0m\u001b[1;33m.\u001b[0m\u001b[0mwarning\u001b[0m\u001b[1;33m(\u001b[0m\u001b[1;34m\"Invalid Message:\"\u001b[0m\u001b[1;33m,\u001b[0m \u001b[0mexc_info\u001b[0m\u001b[1;33m=\u001b[0m\u001b[1;32mTrue\u001b[0m\u001b[1;33m)\u001b[0m\u001b[1;33m\u001b[0m\u001b[1;33m\u001b[0m\u001b[0m\n",
      "\u001b[1;31mKeyboardInterrupt\u001b[0m: Interrupted by user"
     ]
    }
   ],
   "source": [
    "# 자가진단3\n",
    "# 한 개의 정수를 입력받아 양수(positive integer)인지 음수(negative number)인지 출력하는 작업을 반복하다가 0이 입력되면 종료하는 프로그램을 작성하시오.\n",
    "\n",
    "# number? 10 입력\n",
    "# positive integer 출력\n",
    "\n",
    "n = int(input(\"number? \"))\n",
    "while True: \n",
    "    if n > 0:\n",
    "        print(\"posivite number\")\n",
    "        input(\"number? \")\n",
    "        if n == 0:\n",
    "            pass\n",
    "            break\n",
    "    else:\n",
    "        print(\"negative number\")\n",
    "        input(\"number? \")\n",
    "        if n == 0:\n",
    "            pass\n",
    "            break"
   ]
  },
  {
   "cell_type": "code",
   "execution_count": null,
   "metadata": {},
   "outputs": [],
   "source": [
    "n = int(input(\"Number? \"))\n",
    "while n:\n",
    "    if n > 0:\n",
    "        print(\"positive number\")\n",
    "        print(input(\"Number? \"))\n",
    "    elif n < 0:\n",
    "        print(\"negative number\")\n",
    "        print(input(\"Number? \"))\n",
    "    elif n == 0:\n",
    "        break"
   ]
  },
  {
   "cell_type": "code",
   "execution_count": 25,
   "metadata": {},
   "outputs": [
    {
     "name": "stdout",
     "output_type": "stream",
     "text": [
      "1 2 3 4 5 1 2 100\n",
      "118\n",
      "14.8\n"
     ]
    }
   ],
   "source": [
    "# 자가진단4\n",
    "# 정수를 계속 입력받다가 100 이상의 수가 입력이 되면 마지막 입력된 수를 포함하여 합계와 평균을 출력하는 프로그램을 작성하시오.\n",
    "# (평균은 반올림하여 소수 첫째자리까지 출력한다.)\n",
    "\n",
    "numbers = list(map(int, input().split()))\n",
    "count = 0\n",
    "for i in numbers:\n",
    "    count += i\n",
    "    if i >= 100:\n",
    "        print(\"{}\".format(count))\n",
    "        print(\"%0.1f\" % (count / len(numbers)))\n",
    "        pass\n",
    "        break\n"
   ]
  },
  {
   "cell_type": "code",
   "execution_count": 1,
   "metadata": {},
   "outputs": [
    {
     "name": "stdout",
     "output_type": "stream",
     "text": [
      "1\n",
      "2\n",
      "3\n",
      "1\n",
      "1\n",
      "2\n",
      "3\n",
      "1\n",
      "3\n",
      "1\n",
      "3\n",
      "1\n",
      "5\n",
      "-1\n"
     ]
    }
   ],
   "source": [
    "# 자가진단5\n",
    "\n",
    "# 정수를 입력받아서 3의 배수가 아닌 경우에는 아무 작업도 하지 않고 \n",
    "# 3의 배수인 경우에는 3으로 나눈몫을 출력하는 작업을 반복하다가\n",
    "# -1이 입력되면 종료하는 프로그램을 작성하시오.\n",
    "\n",
    "while True:\n",
    "    n = int(input())\n",
    "    if n > 0:\n",
    "        if n % 3 != 0:\n",
    "            pass\n",
    "        else:\n",
    "            print(n // 3)\n",
    "    else:\n",
    "        if n == -1:\n",
    "            pass\n",
    "            break"
   ]
  },
  {
   "cell_type": "code",
   "execution_count": 126,
   "metadata": {},
   "outputs": [
    {
     "name": "stdout",
     "output_type": "stream",
     "text": [
      "\n",
      "1. Korea\n",
      "2. USA\n",
      "3. Japan\n",
      "4. China\n",
      "number? 1\n",
      "\n",
      "Seoul\n",
      "\n",
      "1. Korea\n",
      "2. USA\n",
      "3. Japan\n",
      "4. China\n",
      "number? 2\n",
      "\n",
      "Washington\n",
      "\n",
      "1. Korea\n",
      "2. USA\n",
      "3. Japan\n",
      "4. China\n",
      "number? 3\n",
      "\n",
      "Tokyo\n",
      "\n",
      "1. Korea\n",
      "2. USA\n",
      "3. Japan\n",
      "4. China\n",
      "number? 4\n",
      "\n",
      "Beijing\n",
      "\n",
      "1. Korea\n",
      "2. USA\n",
      "3. Japan\n",
      "4. China\n",
      "number? 5\n",
      "\n",
      "none\n"
     ]
    }
   ],
   "source": [
    "# 자가진단6\n",
    "# 아래와 같이 나라 이름을 출력하고 숫자를 입력받아 해당하는 나라의 수도를 출력하는 작업을 반복하다가 \n",
    "# 해당하는 번호 이외의 숫자가 입력되면 \"none\"라고 출력한 후 종료하는 프로그램을 작성하시오.\n",
    "\n",
    "nation = {'Korea':'Seoul','USA':'Washington','Japan':'Tokyo','China':'Beijing'}\n",
    "\n",
    "a = '''1. Korea\n",
    "2. USA\n",
    "3. Japan\n",
    "4. China'''\n",
    "\n",
    "while True:\n",
    "    print(a)\n",
    "    b = int(input('number? '))\n",
    "    if b == 1:\n",
    "        print()\n",
    "        print(nation['Korea'])\n",
    "    elif b == 2:\n",
    "        print()\n",
    "        print(nation['USA'])\n",
    "    elif b == 3:\n",
    "        print()\n",
    "        print(nation['Japan'])\n",
    "    elif b == 4:\n",
    "        print()\n",
    "        print(nation['China'])\n",
    "    else:\n",
    "        print()\n",
    "        print('none')\n",
    "        pass\n",
    "        break"
   ]
  },
  {
   "cell_type": "code",
   "execution_count": 128,
   "metadata": {},
   "outputs": [
    {
     "name": "stdout",
     "output_type": "stream",
     "text": [
      "\n",
      "1. Korea\n",
      "2. USA\n",
      "3. Japan\n",
      "4. China\n",
      "number? 1\n",
      "\n",
      "Seoul\n",
      "\n",
      "1. Korea\n",
      "2. USA\n",
      "3. Japan\n",
      "4. China\n",
      "number? 2\n",
      "\n",
      "Washington\n",
      "\n",
      "1. Korea\n",
      "2. USA\n",
      "3. Japan\n",
      "4. China\n",
      "number? 3\n",
      "\n",
      "Tokyo\n",
      "\n",
      "1. Korea\n",
      "2. USA\n",
      "3. Japan\n",
      "4. China\n",
      "number? 4\n",
      "\n",
      "Beijing\n",
      "\n",
      "1. Korea\n",
      "2. USA\n",
      "3. Japan\n",
      "4. China\n",
      "number? 5\n",
      "\n",
      "none\n"
     ]
    }
   ],
   "source": [
    "nation = {'Korea':'Seoul','USA':'Washington','Japan':'Tokyo','China':'Beijing'}\n",
    "\n",
    "a = '''\n",
    "1. Korea\n",
    "2. USA\n",
    "3. Japan\n",
    "4. China'''\n",
    "\n",
    "while True:\n",
    "    print(a)\n",
    "    b = int(input('number? '))\n",
    "    if b == 1:\n",
    "        print()\n",
    "        print(nation['Korea'])\n",
    "    elif b == 2:\n",
    "        print()\n",
    "        print(nation['USA'])\n",
    "    elif b == 3:\n",
    "        print()\n",
    "        print(nation['Japan'])\n",
    "    elif b == 4:\n",
    "        print()\n",
    "        print(nation['China'])\n",
    "    else:\n",
    "        print()\n",
    "        print('none')\n",
    "        pass\n",
    "        break"
   ]
  },
  {
   "cell_type": "code",
   "execution_count": 56,
   "metadata": {},
   "outputs": [
    {
     "name": "stdout",
     "output_type": "stream",
     "text": [
      "5\n",
      "1 2 3 4 5 "
     ]
    }
   ],
   "source": [
    "# 형성평가1\n",
    "# 정수를 입력받아 1부터 입력받은 정수까지를 차례대로 출력하는 프로그램을 작성하시오.\n",
    "\n",
    "n = int(input())\n",
    "\n",
    "for i in range(1, n+1):\n",
    "    print(i, end = \" \")"
   ]
  },
  {
   "cell_type": "code",
   "execution_count": 19,
   "metadata": {},
   "outputs": [
    {
     "name": "stdout",
     "output_type": "stream",
     "text": [
      "9 7 10 5 33 65 9 7 10 5 33 65 0\n",
      "odd : 10\n",
      "even : 2\n"
     ]
    }
   ],
   "source": [
    "# 형성평가2\n",
    "# 0 이상의 정수들이 공백으로 구분되어 반복적으로 주어진다.\n",
    "# 0이 입력되면 반복문을 멈추고 그 전까지 입력받은 수들에 대하여\n",
    "# 홀수의 개수와 짝수의 개수를 출력하는 프로그램을 작성하시오.\n",
    "\n",
    "b = 0\n",
    "c = 0\n",
    "while True:\n",
    "    a = list(map(int,(input().split())))\n",
    "    for i in a:\n",
    "        if i % 2 == 1:\n",
    "            b += 1\n",
    "        else:\n",
    "            c += 1\n",
    "    if i == 0:\n",
    "        print(f\"odd : {b}\")\n",
    "        print(f\"even : {c-1}\")\n",
    "        break"
   ]
  },
  {
   "cell_type": "code",
   "execution_count": 111,
   "metadata": {},
   "outputs": [
    {
     "name": "stdout",
     "output_type": "stream",
     "text": [
      "80 72 79 51 47 16 60 31 19 45 74 46 9 0 81 69 60 20 83 11 91 65 59 36 26 43 7 56 70 59 19 38 57 5 62 45 -1\n",
      "sum : 1690\n",
      "avg : 45.7\n"
     ]
    }
   ],
   "source": [
    "# 형성평가3        # accepted(80)\n",
    "# 0 부터 100 까지의 점수를 계속 입력받다가 범위를 벗어나는 수가 입력되면 \n",
    "# 그 이전까지 입력된 자료의 합계와 평균을 출력하는 프로그램을 작성하시오.\n",
    "# (평균은 반올림하여 소수 첫째자리까지 출력한다.)\n",
    "\n",
    "count = 0\n",
    "while True:\n",
    "    a = list(map(int,(input().split())))\n",
    "    \n",
    "    for i in a:\n",
    "        if i <= 100:\n",
    "            count += i\n",
    "        else:\n",
    "            pass\n",
    "    print(f'sum : {count}')\n",
    "    print(f'avg : {count/len(a):.1f}')\n",
    "    break"
   ]
  },
  {
   "cell_type": "code",
   "execution_count": 47,
   "metadata": {},
   "outputs": [
    {
     "name": "stdout",
     "output_type": "stream",
     "text": [
      "1 2 3 4 5 6 7 8 9 10 0\n",
      "5\n"
     ]
    }
   ],
   "source": [
    "# 형성평가4\n",
    "# 0 이 입력될 때까지 정수를 계속 입력받아 3의 배수와 5의 배수를 제외한 수들의 개수를 출력하는 프로그램을 작성하시오.\n",
    "\n",
    "b = []\n",
    "while True:\n",
    "    a = list(map(int,input().split()))\n",
    "    \n",
    "    for i in a:\n",
    "        if i % 3 == 0 or i % 5 == 0:\n",
    "            pass\n",
    "        else:\n",
    "            b.append(i)\n",
    "    if i == 0:\n",
    "        print(len(b))\n",
    "    break"
   ]
  },
  {
   "cell_type": "code",
   "execution_count": 124,
   "metadata": {},
   "outputs": [
    {
     "name": "stdout",
     "output_type": "stream",
     "text": [
      "Base = 10\n",
      "Height = 10\n",
      "Triangle width = 50.0\n",
      "Continue? \n",
      "y\n"
     ]
    }
   ],
   "source": [
    "# 형성평가5\n",
    "\n",
    "# 삼각형의 밑변의 길이와 높이를 입력받아 넓이를 출력하고, \"Continue? \"에서 하나의 문자를 입력받아 그 문자가 'Y' 나 'y' 이면 \n",
    "#작업을 반복하고 다른 문자이면 종료하는 프로그램을 작성하시오.\n",
    "#(넓이는 반올림하여 소수 첫째자리까지 출력한다.)\n",
    "\n",
    "while True:\n",
    "    a = int(input(\"Base = \"))\n",
    "    b = int(input(\"Height = \"))\n",
    "    print(f\"Triangle width = {(a*b)/2:.1f}\")\n",
    "    print('Continue? ')\n",
    "    c = input()\n",
    "    if c != 'Y' or 'y':\n",
    "        break"
   ]
  },
  {
   "cell_type": "code",
   "execution_count": 91,
   "metadata": {},
   "outputs": [
    {
     "name": "stdout",
     "output_type": "stream",
     "text": [
      "23\n",
      "domdo 23\n"
     ]
    }
   ],
   "source": [
    "print('domdo',input())"
   ]
  },
  {
   "cell_type": "code",
   "execution_count": null,
   "metadata": {},
   "outputs": [],
   "source": []
  }
 ],
 "metadata": {
  "kernelspec": {
   "display_name": "Python 3",
   "language": "python",
   "name": "python3"
  },
  "language_info": {
   "codemirror_mode": {
    "name": "ipython",
    "version": 3
   },
   "file_extension": ".py",
   "mimetype": "text/x-python",
   "name": "python",
   "nbconvert_exporter": "python",
   "pygments_lexer": "ipython3",
   "version": "3.8.3"
  }
 },
 "nbformat": 4,
 "nbformat_minor": 4
}
