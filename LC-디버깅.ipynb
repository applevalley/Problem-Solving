{
 "cells": [
  {
   "cell_type": "code",
   "execution_count": 35,
   "metadata": {},
   "outputs": [
    {
     "name": "stdout",
     "output_type": "stream",
     "text": [
      "3.4 5.65\n",
      "19 15\n"
     ]
    }
   ],
   "source": [
    "# 자가진단1\n",
    "# 2개의 실수(double)를 입력 받아서 두 수의 곱을 정수로 변환한 결과값과 두 수를 각각 정수로 변환하여 곱을 구한 결과값을 출력하는 프로그램을 작성하고 프로그램 내용에 관한 설명을 주석으로 표시하시오.\n",
    "\n",
    "a,b = input().split() # 2개의 수 입력받음\n",
    "a = float(a) # 실수 \n",
    "b = float(b) # 실수\n",
    "\n",
    "c = int(a*b) # 두 수의 곱을 정수로 변환\n",
    "d = (int(a)*int(b)) # 두 수를 각각 정수로 변환해 곱함\n",
    "print(\"%d %d\" % (c,d))"
   ]
  },
  {
   "cell_type": "code",
   "execution_count": 36,
   "metadata": {},
   "outputs": [
    {
     "name": "stdout",
     "output_type": "stream",
     "text": [
      "11 3\n",
      "3 3.67\n"
     ]
    }
   ],
   "source": [
    "# 자가진단2\n",
    "# 2개의 정수를 입력받아서 첫 번째 수를 두 번째 수로 나눈 몫을 출력하고 첫 번째 수를 실수로 변환하여두 번째 수로 나눈 값을 구한 후 반올림하여 소수 둘째자리까지 출력하는 프로그램을 작성하고 프로그램내용에 관한 설명을 주석으로 표시하시오.\n",
    "\n",
    "a,b = input().split() # 2개의 수 입력\n",
    "a = int(a) # 정수\n",
    "b = int(b) # 정수\n",
    "c = float(a) # a를 실수로\n",
    "d = round((c/b),2) # a를 실수로 변환해 b로 나눈 값 구하고 반올림해 소수 둘째자리까지 계산\n",
    "print(\"%d %0.2f\" % ((a//b),d)) # 첫 번째 수를 실수로 변환해 두번째 수로 나눈 값과 d값"
   ]
  },
  {
   "cell_type": "code",
   "execution_count": 37,
   "metadata": {},
   "outputs": [
    {
     "name": "stdout",
     "output_type": "stream",
     "text": [
      "70 95 65\n",
      "76.7\n"
     ]
    }
   ],
   "source": [
    "# 형성평가1\n",
    "# 정수로 된 3과목의 점수를 입력받아 평균을 구한 후 반올림하여 소수 첫째자리까지 출력하는 프로그램을 작성하시오.\n",
    "\n",
    "a,b,c = input().split() # 수 3개 입력받음\n",
    "a = int(a) # 정수\n",
    "b = int(b) # 정수\n",
    "c = int(c) # 정수\n",
    "\n",
    "d = round((a+b+c)/3,1) # 평균 반올림해 소수 첫째자리까지\n",
    "print(d)"
   ]
  },
  {
   "cell_type": "code",
   "execution_count": 38,
   "metadata": {},
   "outputs": [
    {
     "name": "stdout",
     "output_type": "stream",
     "text": [
      "70.5 95.5 68.5\n",
      "sum 233\n",
      "avg 78\n"
     ]
    }
   ],
   "source": [
    "# 형성평가2\n",
    "# 실수로 된 3과목의 점수를 입력받아 총점은 정수부분의 합계를 출력하고 평균은 실수의 평균을 구한 뒤 정수부분만 출력하는 프로그램을 작성하시오.\n",
    "\n",
    "a,b,c = input().split() # 수 3개 입력\n",
    "a = float(a) # 실수\n",
    "b = float(b) # 실수\n",
    "c = float(c) # 실수\n",
    "\n",
    "d = int(a)+int(b)+int(c) # 총점 - 정수부분 합계\n",
    "e = ((a+b+c)/3) # 평균 - 실수의 평균에서 정수만 출력\n",
    "\n",
    "print(\"sum %d\" % d)\n",
    "print(\"avg %d\" % e)"
   ]
  },
  {
   "cell_type": "code",
   "execution_count": 39,
   "metadata": {},
   "outputs": [
    {
     "name": "stdout",
     "output_type": "stream",
     "text": [
      "15\n"
     ]
    }
   ],
   "source": [
    "# 형성평가3\n",
    "# ①에서의 a값만 출력하는 프로그램을 작성하시오.\n",
    "a = 5\n",
    "a += 10\n",
    "# a = a-1 \n",
    "print(a)"
   ]
  },
  {
   "cell_type": "code",
   "execution_count": 34,
   "metadata": {},
   "outputs": [
    {
     "ename": "SyntaxError",
     "evalue": "invalid syntax (<ipython-input-34-b37ebc4f06cc>, line 4)",
     "output_type": "error",
     "traceback": [
      "\u001b[1;36m  File \u001b[1;32m\"<ipython-input-34-b37ebc4f06cc>\"\u001b[1;36m, line \u001b[1;32m4\u001b[0m\n\u001b[1;33m    b = (a = now.year - 1900) # p\u001b[0m\n\u001b[1;37m           ^\u001b[0m\n\u001b[1;31mSyntaxError\u001b[0m\u001b[1;31m:\u001b[0m invalid syntax\n"
     ]
    }
   ],
   "source": [
    "from datetime import datetime\n",
    "now = datetime.now()\n",
    "a = 0\n",
    "b = (a = now.year - 1900) # p\n",
    "c = (a += now.month - 1) # q\n",
    "d = (a += now.day) # r\n",
    "print(\"%d %d %d\" % (b,c,d))"
   ]
  },
  {
   "cell_type": "code",
   "execution_count": null,
   "metadata": {},
   "outputs": [],
   "source": []
  }
 ],
 "metadata": {
  "kernelspec": {
   "display_name": "Python 3",
   "language": "python",
   "name": "python3"
  },
  "language_info": {
   "codemirror_mode": {
    "name": "ipython",
    "version": 3
   },
   "file_extension": ".py",
   "mimetype": "text/x-python",
   "name": "python",
   "nbconvert_exporter": "python",
   "pygments_lexer": "ipython3",
   "version": "3.7.6"
  }
 },
 "nbformat": 4,
 "nbformat_minor": 4
}
