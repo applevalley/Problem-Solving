{
 "cells": [
  {
   "cell_type": "code",
   "execution_count": 69,
   "metadata": {},
   "outputs": [
    {
     "name": "stdout",
     "output_type": "stream",
     "text": [
      "10 25 33\n",
      "sum : 68\n",
      "avg : 22\n"
     ]
    }
   ],
   "source": [
    "# 자가진단1\n",
    "# 세 개의 정수를 입력 받아서 합계와 평균을 출력하시오. (단 평균은 소수 이하를 버리고 정수부분만 출력한다.)\n",
    "\n",
    "# 10 25 33 입력 예\n",
    "# sum : 68\n",
    "# avg : 22\n",
    "\n",
    "a,b,c = input().split()\n",
    "a = int(a)\n",
    "b = int(b)\n",
    "c = int(c)\n",
    "\n",
    "print(\"sum : %d\" % (a+b+c))\n",
    "print(\"avg : %d\" % ((a+b+c)/3))"
   ]
  },
  {
   "cell_type": "code",
   "execution_count": 70,
   "metadata": {},
   "outputs": [
    {
     "name": "stdout",
     "output_type": "stream",
     "text": [
      "20 35\n",
      "120 5\n"
     ]
    }
   ],
   "source": [
    "# 자가진단2\n",
    "# 정수 2개를 입력받아서 첫 번째 수에는 100을 증가시켜 저장하고 두 번째 수는 10으로 나눈 나머지를 저장한 후 두 수를 차례로 출력하는 프로그램을 작성하시오.\n",
    "\n",
    "# 20 35 입력 예\n",
    "# 120 5 출력 예\n",
    "a,b = input().split()\n",
    "a = int(a)\n",
    "b = int(b)\n",
    "print(\"%d %d\" % (a+100,b%10))"
   ]
  },
  {
   "cell_type": "code",
   "execution_count": 71,
   "metadata": {
    "scrolled": true
   },
   "outputs": [
    {
     "name": "stdout",
     "output_type": "stream",
     "text": [
      "5\n",
      "5\n",
      "7\n"
     ]
    }
   ],
   "source": [
    "##### 자가진단3\n",
    "# 한 개의 정수를 입력 받아서 후치증가 연산자를 사용하여 출력한 후 전치 증가 연산자를 사용하여 출력하는프로그램을 작성하시오.\n",
    "\n",
    "# 5 입력값\n",
    "# 5 출력값\n",
    "# 7\n",
    "\n",
    "a = int(input())\n",
    "print(\"%d\" % a)\n",
    "a+=2\n",
    "print(\"%d\" % a)"
   ]
  },
  {
   "cell_type": "code",
   "execution_count": 114,
   "metadata": {
    "scrolled": true
   },
   "outputs": [
    {
     "name": "stdout",
     "output_type": "stream",
     "text": [
      "10 20\n",
      "11 19 190\n"
     ]
    }
   ],
   "source": [
    "# 자가진단4\n",
    "# 두 개의 정수를 입력받아 각각 후치 증가 연산자와 전치 감소 연산자를 사용하여 두 수의 곱을 구한 후 각각의 값을 출력하는 프로그램을 작성하시오.\n",
    "\n",
    "# 10 20 입력 예\n",
    "# 11 19 190 출력 예\n",
    "\n",
    "a,b = input().split()\n",
    "a = int(a)\n",
    "b = int(b)\n",
    "b -= 1\n",
    "mull = a*b\n",
    "a += 1\n",
    "print(\"%d %d %d\" % (a,b,mull))"
   ]
  },
  {
   "cell_type": "code",
   "execution_count": null,
   "metadata": {},
   "outputs": [],
   "source": [
    "# 자가진단5\n",
    "# 두 개의 정수를 입력받아서, \n",
    "# 첫 번째 줄에는 두 정수의 값이 같으면 1 아니면 0을 출력하고, \n",
    "# 두 번째 줄에는 같지 않으면 1 같으면 0을 출력하는 프로그램을 작성하시오.\n",
    "\n",
    "a,b = input().split()\n",
    "a = int(a)\n",
    "b = int(b)\n",
    "\n",
    "if a == b:\n",
    "    print(1)\n",
    "else:\n",
    "    print(0)\n",
    "if a != b:\n",
    "    print(1)\n",
    "else:\n",
    "    print(0)\n"
   ]
  },
  {
   "cell_type": "code",
   "execution_count": 74,
   "metadata": {},
   "outputs": [
    {
     "name": "stdout",
     "output_type": "stream",
     "text": [
      "3 4\n",
      "3 > 4 --- 0\n",
      "3 < 4 --- 1\n",
      "3 >= 4 --- 0\n",
      "3 <= 4 --- 1\n"
     ]
    }
   ],
   "source": [
    "# 자가진단6\n",
    "# 두 개의 정수를 입력받아서 다음과 같이 4가지 관계연산자의 결과를 출력하시오.\n",
    "# 이때 입력받은 두 정수를 이용하여 출력하시오. (JAVA는 1이면 true, 0이면 false를 출력한다.)\n",
    "\n",
    "a, b = input().split()\n",
    "a = int(a)\n",
    "b = int(b)\n",
    "\n",
    "print(a,\">\",b,\"---\",\"%d\" % (a>b))\n",
    "print(a,\"<\",b,\"---\",\"%d\" % (a<b))\n",
    "print(a,\">=\",b,\"---\",\"%d\" % (a>=b))\n",
    "print(a,\"<=\",b,\"---\",\"%d\" % (a<=b))"
   ]
  },
  {
   "cell_type": "code",
   "execution_count": 117,
   "metadata": {},
   "outputs": [
    {
     "name": "stdout",
     "output_type": "stream",
     "text": [
      "2 0\n",
      "1 1\n"
     ]
    }
   ],
   "source": [
    "### 자가진단7\n",
    "# 2개의 정수를 입력 받아서 논리곱과 논리합의 결과를 출력하는 프로그램을 작성하시오.\n",
    "# (수가 0 이 아닌 경우 참으로, 0 인 경우 거짓으로 간주합니다.)\n",
    "\n",
    "a,b = input().split()\n",
    "a = int(a)\n",
    "b = int(b)\n",
    "\n",
    "c = 0\n",
    "d = 0\n",
    "\n",
    "if a and b:\n",
    "    c = True\n",
    "if a or b:\n",
    "    d = True\n",
    "    \n",
    "print(\"%d %d\" % (c,d))"
   ]
  },
  {
   "cell_type": "code",
   "execution_count": 111,
   "metadata": {},
   "outputs": [
    {
     "name": "stdout",
     "output_type": "stream",
     "text": [
      "10 9 9\n",
      "1 0\n"
     ]
    }
   ],
   "source": [
    "# 자가진단8\n",
    "# 3개의 정수를 입력 받아 첫 번째 수가 가장 크면 1 아니면 0을 출력하고 세 개의 수가 모두 같으면 1 아니면 0을 출력하는 프로그램을 작성하시오.\n",
    "\n",
    "a,b,c = input().split()\n",
    "a = int(a)\n",
    "b = int(b)\n",
    "c = int(c)\n",
    "d = 0\n",
    "e = 0\n",
    "\n",
    "if (a>b) and (a>c):\n",
    "    d = 1\n",
    "    \n",
    "if ((a==b) and (b==c) and (a==c)):\n",
    "    e = 1\n",
    "print(\"%d %d\" % (d,e))"
   ]
  },
  {
   "cell_type": "code",
   "execution_count": 98,
   "metadata": {},
   "outputs": [
    {
     "name": "stdout",
     "output_type": "stream",
     "text": [
      "70 95 63 100\n",
      "sum 328\n",
      "avg 82\n"
     ]
    }
   ],
   "source": [
    "# 형성평가1\n",
    "# 국어 영어 수학 컴퓨터 과목의 점수를 정수로 입력받아서 총점과 평균을 구하는 프로그램을 작성하시오. (단 평균의 소수점 이하는 버림 한다.)\n",
    "\n",
    "# 70 95 63 100 입력 예\n",
    "# sum 328 출력 예\n",
    "# avg 82\n",
    "a,b,c,d = input().split()\n",
    "a = int(a)\n",
    "b = int(b)\n",
    "c = int(c)\n",
    "d = int(d)\n",
    "\n",
    "print(\"sum %d\" % (a+b+c+d))\n",
    "print(\"avg %d\" % ((a+b+c+d)/4))"
   ]
  },
  {
   "cell_type": "code",
   "execution_count": 100,
   "metadata": {},
   "outputs": [
    {
     "name": "stdout",
     "output_type": "stream",
     "text": [
      "35 10\n",
      "35 / 10 = 3...5\n"
     ]
    }
   ],
   "source": [
    "# 형성평가2\n",
    "# 두 정수를 입력받아서 나눈 몫과 나머지를 다음과 같은 형식으로 출력하는 프로그램을 작성하시오.\n",
    "\n",
    "# 35 10 입력 예\n",
    "# 35 / 10 = 3...5 출력 예\n",
    "\n",
    "a,b = input().split()\n",
    "a = int(a)\n",
    "b = int(b)\n",
    "print(\"%d / %d = %d...%d\" % (a,b,(a//b),(a%b)))"
   ]
  },
  {
   "cell_type": "code",
   "execution_count": 101,
   "metadata": {},
   "outputs": [
    {
     "name": "stdout",
     "output_type": "stream",
     "text": [
      "20 15\n",
      "width = 25\n",
      "length = 30\n",
      "area = 750\n"
     ]
    }
   ],
   "source": [
    "# 형성평가3\n",
    "# 직사각형의 가로와 세로의 길이를 정수형 값으로 입력받은 후 가로의 길이는 5 증가시키고 세로의 길이는 2배하여 저장한 후 가로의 길이 세로의 길이 넓이를 차례로 출력하는 프로그램을 작성하시오.\n",
    "\n",
    "# 20 15 입력 예\n",
    "# width = 25 출력 예\n",
    "# length = 30\n",
    "# area = 750\n",
    "\n",
    "a, b = input().split()\n",
    "a = int(a)\n",
    "b = int(b)\n",
    "\n",
    "print(\"width =\",\"%d\" % (a+5))\n",
    "print(\"length =\",\"%d\" % (b*2))\n",
    "print(\"area =\",\"%d\" % ((a+5)*(b*2)))"
   ]
  },
  {
   "cell_type": "code",
   "execution_count": 103,
   "metadata": {},
   "outputs": [
    {
     "name": "stdout",
     "output_type": "stream",
     "text": [
      "10 15\n",
      "11 15\n",
      "11 14\n"
     ]
    }
   ],
   "source": [
    "# 형성평가4\n",
    "# 두 정수를 입력받아 첫 번째 수는 전치증가연산자를 사용하고 두 번째 수는 후치감소연산자를 사용하여 출력하고 바뀐 값을 다시 출력하는 프로그램을 작성하시오.\n",
    "\n",
    "a,b = input().split()\n",
    "a = int(a)\n",
    "b = int(b)\n",
    "\n",
    "print(\"%d %d\" % ((a+1),b))\n",
    "print(\"%d %d\" % ((a+1),(b-1)))"
   ]
  },
  {
   "cell_type": "code",
   "execution_count": 105,
   "metadata": {},
   "outputs": [
    {
     "name": "stdout",
     "output_type": "stream",
     "text": [
      "150 35\n",
      "145 35\n",
      "0\n"
     ]
    }
   ],
   "source": [
    "# 형성평가5\n",
    "# 민수와 기영이의 키와 몸무게를 입력받아 민수가 키도 크고 몸무게도 크면 1 그렇지 않으면 0을 출력하는 프로그램을 작성하시오.\n",
    "\n",
    "a,b = input().split()\n",
    "c,d = input().split()\n",
    "a=int(a)\n",
    "b=int(b)\n",
    "c=int(c)\n",
    "d=int(d)\n",
    "if a>c and b>d:\n",
    "    print(1)\n",
    "else:\n",
    "    print(0)"
   ]
  },
  {
   "cell_type": "code",
   "execution_count": null,
   "metadata": {},
   "outputs": [],
   "source": []
  }
 ],
 "metadata": {
  "kernelspec": {
   "display_name": "Python 3",
   "language": "python",
   "name": "python3"
  },
  "language_info": {
   "codemirror_mode": {
    "name": "ipython",
    "version": 3
   },
   "file_extension": ".py",
   "mimetype": "text/x-python",
   "name": "python",
   "nbconvert_exporter": "python",
   "pygments_lexer": "ipython3",
   "version": "3.7.6"
  }
 },
 "nbformat": 4,
 "nbformat_minor": 4
}
