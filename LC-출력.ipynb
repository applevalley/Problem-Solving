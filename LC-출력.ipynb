{
 "cells": [
  {
   "cell_type": "code",
   "execution_count": 6,
   "metadata": {},
   "outputs": [
    {
     "name": "stdout",
     "output_type": "stream",
     "text": [
      "Fun Programming!\n"
     ]
    }
   ],
   "source": [
    "# 자가진단1\n",
    "# 아래 \"출력예\"와 같이 출력되는 프로그램을 작성하라.\n",
    "\n",
    "# Fun Programming!\n",
    "\n",
    "print(\"Fun Programming!\")"
   ]
  },
  {
   "cell_type": "code",
   "execution_count": 7,
   "metadata": {},
   "outputs": [
    {
     "name": "stdout",
     "output_type": "stream",
     "text": [
      "Programming! It's fun.\n"
     ]
    }
   ],
   "source": [
    "# 자가진단2\n",
    "# 다음과 같이 출력되는 프로그램을 작성하라.\n",
    "\n",
    "# Programming! It's fun.\n",
    "\n",
    "print(\"Programming! It's fun.\")"
   ]
  },
  {
   "cell_type": "code",
   "execution_count": 8,
   "metadata": {},
   "outputs": [
    {
     "name": "stdout",
     "output_type": "stream",
     "text": [
      "My name is Hong Gil Dong.\n",
      "I am 13 years old.\n"
     ]
    }
   ],
   "source": [
    "# 자가진단3\n",
    "# 아래와 같이 출력되는 프로그램을 작성하라.\n",
    "\n",
    "# My name is Hong Gil Dong.\n",
    "# I am 13 years old.\n",
    "\n",
    "print(\"My name is Hong Gil Dong.\\nI am 13 years old.\")"
   ]
  },
  {
   "cell_type": "code",
   "execution_count": 12,
   "metadata": {},
   "outputs": [
    {
     "name": "stdout",
     "output_type": "stream",
     "text": [
      "(@) (@)\n",
      "(=^.^=)\n",
      "(-m-m-)\n"
     ]
    }
   ],
   "source": [
    "# 자가진단4\n",
    "# 다음과 같이 출력되는 프로그램을 작성하라.\n",
    "\n",
    "# (@) (@)\n",
    "# (=^.^=)\n",
    "# (-m-m-)\n",
    "\n",
    "print(\"(@) (@)\\n(=^.^=)\\n(-m-m-)\")"
   ]
  },
  {
   "cell_type": "code",
   "execution_count": 37,
   "metadata": {},
   "outputs": [
    {
     "name": "stdout",
     "output_type": "stream",
     "text": [
      "I can program well.\n",
      "Dreams come true.\n"
     ]
    }
   ],
   "source": [
    "# 자가진단5\n",
    "# 서식 문자를 사용하여 다음과 같이 출력되는 프로그램을 작성하라.\n",
    "\n",
    "# I can program well.\n",
    "# Dreams come true.\n",
    "\n",
    "print(\"%s\" % \"I can program well.\")\n",
    "print(\"%s\" % \"Dreams come true.\")"
   ]
  },
  {
   "cell_type": "code",
   "execution_count": 38,
   "metadata": {},
   "outputs": [
    {
     "name": "stdout",
     "output_type": "stream",
     "text": [
      "My height\n",
      "170\n",
      "My weight\n",
      "68.600000\n"
     ]
    }
   ],
   "source": [
    "# 자가진단6\n",
    "# 다음과 같이 출력되는 프로그램을 작성하라.\n",
    "\n",
    "# My height\n",
    "# 170\n",
    "# My weight\n",
    "# 68.600000\n",
    "\n",
    "print(\"My height\\n170\\nMy weight\\n68.600000\")"
   ]
  },
  {
   "cell_type": "code",
   "execution_count": 40,
   "metadata": {},
   "outputs": [
    {
     "name": "stdout",
     "output_type": "stream",
     "text": [
      "5 Dan\n",
      "5 * 2 = 10\n"
     ]
    }
   ],
   "source": [
    "# 자가진단7\n",
    "# 다음과 같이 출력되는 프로그램을 작성하라.(공백으로 구분하여 출력)\n",
    "\n",
    "# 5 Dan\n",
    "# 5 * 2 = 10\n",
    "\n",
    "print(\"5 Dan\\n5 * 2 = 10\")"
   ]
  },
  {
   "cell_type": "code",
   "execution_count": 62,
   "metadata": {},
   "outputs": [
    {
     "name": "stdout",
     "output_type": "stream",
     "text": [
      "      item     count     price\n",
      "       pen        20       100\n",
      "      note         5        95\n",
      "    eraser       110        97\n"
     ]
    }
   ],
   "source": [
    "# 자가진단8\n",
    "# 다음과 같이 출력되는 프로그램을 작성하라.\n",
    "# (각 요소들은 10칸씩 공간을 확보하여 오른쪽으로 정렬하여 출력한다.)\n",
    "\n",
    "#      item     count     price\n",
    "#       pen        20       100\n",
    "#      note         5        95\n",
    "#    eraser       110        97\n",
    "\n",
    "print(\"%10s%10s%10s\" % (\"item\",\"count\",\"price\"))\n",
    "print(\"%10s%10s%10s\" % (\"pen\",\"20\",\"100\"))\n",
    "print(\"%10s%10s%10s\" % (\"note\",\"5\",\"95\"))\n",
    "print(\"%10s%10s%10s\" % (\"eraser\",\"110\",\"97\"))"
   ]
  },
  {
   "cell_type": "code",
   "execution_count": 76,
   "metadata": {
    "scrolled": true
   },
   "outputs": [
    {
     "name": "stdout",
     "output_type": "stream",
     "text": [
      "      item      count      price\n",
      "       pen         20        100\n",
      "      note          5         95\n",
      "    eraser        100         97\n"
     ]
    }
   ],
   "source": [
    "print(f'{\"item\":>10} {\"count\":>10} {\"price\":>10}')\n",
    "print(f'{\"pen\":>10} {20:>10} {100:>10}')\n",
    "print(f'{\"note\":>10} {5:>10} {95:>10}')\n",
    "print(f'{\"eraser\":>10} {100:>10} {97:>10}')"
   ]
  },
  {
   "cell_type": "code",
   "execution_count": 12,
   "metadata": {},
   "outputs": [
    {
     "name": "stdout",
     "output_type": "stream",
     "text": [
      "My name is Hong\n"
     ]
    }
   ],
   "source": [
    "# 형성평가1\n",
    "# 다음 \"출력 예\"와 같이 출력하는 프로그램을 작성하시오.\n",
    "\n",
    "# My name is Hong\n",
    "\n",
    "print(\"My name is Hong\")"
   ]
  },
  {
   "cell_type": "code",
   "execution_count": null,
   "metadata": {},
   "outputs": [],
   "source": [
    "# 형성평가2\n",
    "# 다음 출력 예와 같이 출력되는 프로그램을 작성하시오.\n",
    "\n",
    "# My hometown\n",
    "# Flowering mountain\n",
    "\n",
    "print(\"My hometown\\nFlowering mountain\")"
   ]
  },
  {
   "cell_type": "code",
   "execution_count": 19,
   "metadata": {},
   "outputs": [
    {
     "name": "stdout",
     "output_type": "stream",
     "text": [
      "TTTTTTTTTT\n",
      "TTTTTTTTTT\n",
      "    TT\n",
      "    TT\n",
      "    TT\n"
     ]
    }
   ],
   "source": [
    "# 형성평가3\n",
    "# 다음 출력 예와 같이 출력되는 프로그램을 작성하시오.\n",
    "\n",
    "#TTTTTTTTTT\n",
    "#TTTTTTTTTT\n",
    "#    TT\n",
    "#    TT\n",
    "#    TT\n",
    "\n",
    "print(\"T\" * 10)\n",
    "print(\"T\" * 10)\n",
    "print(\"    TT\")\n",
    "print(\"    TT\")\n",
    "print(\"    TT\")"
   ]
  },
  {
   "cell_type": "code",
   "execution_count": 57,
   "metadata": {},
   "outputs": [
    {
     "name": "stdout",
     "output_type": "stream",
     "text": [
      "kor 90\n",
      "mat 80\n",
      "eng 100\n",
      "sum 270\n",
      "avg 90\n"
     ]
    }
   ],
   "source": [
    "# 형성평가4\n",
    "# 다음 출력 예와 같이 출력되는 프로그램을 작성하시오.\n",
    "# 합계와 평균은 수식을 이용하세요. \n",
    "\n",
    "# kor 90\n",
    "# mat 80\n",
    "# eng 100\n",
    "# sum 270\n",
    "# avg 90\n",
    "\n",
    "print(\"kor 90\")\n",
    "print(\"mat 80\")\n",
    "print(\"eng 100\")\n",
    "print(\"sum %d\" % (90+80+100))\n",
    "print(\"avg %d\" % ((90+80+100)/3))"
   ]
  },
  {
   "cell_type": "code",
   "execution_count": 61,
   "metadata": {},
   "outputs": [
    {
     "name": "stdout",
     "output_type": "stream",
     "text": [
      "          Seoul     10,312,545        +91,375\n",
      "          Pusan      3,567,910         +5,868\n",
      "        Incheon      2,758,296        +64,888\n",
      "          Daegu      2,511,676        +17,230\n",
      "        Gwangju      1,454,636        +29,774\n"
     ]
    }
   ],
   "source": [
    "# 형성평가5\n",
    "# 다음 출력 예와 같이 모든 단어를 15칸씩 오른쪽에 맞추어 출력되는 프로그램을 작성하시오.\n",
    "#          Seoul     10,312,545        +91,375\n",
    "#          Pusan      3,567,910         +5,868\n",
    "#        Incheon      2,758,296        +64,888\n",
    "#          Daegu      2,511,676        +17,230\n",
    "#        Gwangju      1,454,636        +29,774\n",
    "\n",
    "print(\"%15s%15s%15s\" % (\"Seoul\",\"10,312,545\",\"+91,375\"))\n",
    "print(\"%15s%15s%15s\" % (\"Pusan\",\"3,567,910\",\"+5,868\"))\n",
    "print(\"%15s%15s%15s\" % (\"Incheon\",\"2,758,296\",\"+64,888\"))\n",
    "print(\"%15s%15s%15s\" % (\"Daegu\",\"2,511,676\",\"+17,230\"))\n",
    "print(\"%15s%15s%15s\" % (\"Gwangju\",\"1,454,636\",\"+29,774\"))"
   ]
  },
  {
   "cell_type": "code",
   "execution_count": null,
   "metadata": {},
   "outputs": [],
   "source": []
  }
 ],
 "metadata": {
  "kernelspec": {
   "display_name": "Python 3",
   "language": "python",
   "name": "python3"
  },
  "language_info": {
   "codemirror_mode": {
    "name": "ipython",
    "version": 3
   },
   "file_extension": ".py",
   "mimetype": "text/x-python",
   "name": "python",
   "nbconvert_exporter": "python",
   "pygments_lexer": "ipython3",
   "version": "3.7.6"
  }
 },
 "nbformat": 4,
 "nbformat_minor": 4
}
