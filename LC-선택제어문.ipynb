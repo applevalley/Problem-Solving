{
 "cells": [
  {
   "cell_type": "code",
   "execution_count": 1,
   "metadata": {},
   "outputs": [
    {
     "name": "stdout",
     "output_type": "stream",
     "text": [
      "-1\n",
      "-1\n",
      "minus\n"
     ]
    }
   ],
   "source": [
    "# 자가진단1\n",
    "# 정수를 입력받아 첫 줄에 입력 받은 숫자를 출력하고 둘째 줄에 음수이면 “minus” 라고 출력하는 프로그램을 작성하시오.\n",
    "a = input()\n",
    "a = int(a)\n",
    "\n",
    "print(\"%d\" % a)\n",
    "if a < 0:\n",
    "    print(\"minus\")"
   ]
  },
  {
   "cell_type": "code",
   "execution_count": 3,
   "metadata": {},
   "outputs": [
    {
     "name": "stdout",
     "output_type": "stream",
     "text": [
      "155 60\n",
      "5\n",
      "Obesity\n"
     ]
    }
   ],
   "source": [
    "# 자가진단2\n",
    "# \"몸무게+100-키”를 비만수치 공식이라고 하자.\n",
    "# 키와 몸무게를 자연수로 입력받아 첫 번째 줄에 비만수치를 출력하고, 비만수치가 0보다 크면 다음줄에 비만(\"Obesity\")이라는 메시지를 출력하는 프로그램을 작성하시오. (출력형식은 아래 출력 예를 참고하세요.)\n",
    "\n",
    "a,b = input().split()\n",
    "a = int(a)\n",
    "b = int(b)\n",
    "\n",
    "rule = b + 100 - a\n",
    "\n",
    "print(\"%d\" % rule)\n",
    "\n",
    "if rule > 0:\n",
    "    print(\"Obesity\")"
   ]
  },
  {
   "cell_type": "code",
   "execution_count": 23,
   "metadata": {},
   "outputs": [
    {
     "name": "stdout",
     "output_type": "stream",
     "text": [
      "5\n",
      "15 years later\n"
     ]
    }
   ],
   "source": [
    "# 자가진단3\n",
    "# 나이를 입력받아 20살 이상이면 \"adult\"라고 출력하고 그렇지 않으면 몇 년후에 성인이 되는지를 \"○ years later\"라는 메시지를 출력하는 프로그램을 작성하시오.\n",
    "n = int(input())\n",
    "if n >= 20:\n",
    "    print(\"adult\")\n",
    "else:\n",
    "    print(20 - n,\"years later\")"
   ]
  },
  {
   "cell_type": "code",
   "execution_count": 27,
   "metadata": {},
   "outputs": [
    {
     "name": "stdout",
     "output_type": "stream",
     "text": [
      "87\n",
      "Cruiserweight\n"
     ]
    }
   ],
   "source": [
    "# 자가진단4\n",
    "# 복싱체급은 몸무게가 50.80kg 이하를 Flyweight 61.23kg 이하를 Lightweight, 72.57kg 이하를 Middleweight, 88.45kg 이하를 Cruiserweight, 88.45kg 초과를 Heavyweight라고 하자.\n",
    "# 몸무게를 입력받아 체급을 출력하는 프로그램을 작성하시오.\n",
    "\n",
    "n = float(input())\n",
    "if n <= 50.80:\n",
    "    print(\"Flyweight\")\n",
    "elif n <= 61.23:\n",
    "    print(\"Lightweight\")\n",
    "elif n <= 72.57:\n",
    "    print(\"Middleweight\")\n",
    "elif n <= 88.45:\n",
    "    print(\"Cruiserweight\")\n",
    "elif n > 88.45:\n",
    "    print(\"Heavyweight\")"
   ]
  },
  {
   "cell_type": "code",
   "execution_count": 4,
   "metadata": {
    "scrolled": true
   },
   "outputs": [
    {
     "name": "stdout",
     "output_type": "stream",
     "text": [
      "4.3 3.5\n",
      "B\n"
     ]
    }
   ],
   "source": [
    "# 자가진단5\n",
    "# 두 개의 실수를 입력받아 모두 4.0 이상이면 \"A\", 모두 3.0 이상이면 \"B\", 아니면 \"C\" 라고 출력하는 프로그램을 작성하시오.\n",
    "\n",
    "a,b = input().split()\n",
    "a = float(a)\n",
    "b = float(b)\n",
    "\n",
    "if a and b > 4.0:\n",
    "    print(\"A\")\n",
    "elif a and b > 3.0:\n",
    "    print(\"B\")\n",
    "else:\n",
    "    print(\"C\")"
   ]
  },
  {
   "cell_type": "code",
   "execution_count": 7,
   "metadata": {},
   "outputs": [
    {
     "name": "stdout",
     "output_type": "stream",
     "text": [
      "F 34\n",
      "WOMAN\n"
     ]
    }
   ],
   "source": [
    "# 자가진단6\n",
    "# 남자는 'M' 여자는 'F'로 나타내기로 하고 18세 이상을 성인이라고 하자.\n",
    "# 성별('M', 'F')과 나이를 입력받아 \"MAN\"(성인남자), \"WOMAN\"(성인여자), \"BOY\"(미성년남자), \"GIRL\"(미성년여자)을 구분하여 출력하는 프로그램을 작성하시오.\n",
    "\n",
    "a,b = input().split()\n",
    "a = str(a)\n",
    "b = int(b)\n",
    "\n",
    "if a == 'M' and b >= 18:\n",
    "    print(\"MAN\")\n",
    "elif a == 'M' and b < 18:\n",
    "    print(\"BOY\")\n",
    "elif a == 'F' and b >= 18:\n",
    "    print(\"WOMAN\")\n",
    "elif a == 'F' and b < 18:\n",
    "    print(\"GIRL\")"
   ]
  },
  {
   "cell_type": "code",
   "execution_count": 28,
   "metadata": {},
   "outputs": [
    {
     "name": "stdout",
     "output_type": "stream",
     "text": [
      "A\n",
      "Excellent\n"
     ]
    }
   ],
   "source": [
    "# 자가진단7  # accepted... 개선점 찾기\n",
    "# 영문 대문자를 입력받아 \n",
    "# 'A'이면 “Excellent”, \n",
    "# 'B'이면 “Good”, \n",
    "# 'C'이면 “Usually”, \n",
    "# 'D'이면 “Effort”, \n",
    "# 'F'이면 “Failure”, \n",
    "# 그 외 문자이면 “error” 라고 출력하는 프로그램을 작성하시오.\n",
    "\n",
    "# B 입력 예\n",
    "# Good 출력 예\n",
    "\n",
    "n = input()\n",
    "n.upper()\n",
    "\n",
    "if n == 'A':\n",
    "    print(\"Excellent\")\n",
    "elif n == 'B':\n",
    "    print(\"Good\")\n",
    "elif n == 'C':\n",
    "    print(\"Usually\")\n",
    "elif n == 'D':\n",
    "    print(\"Effort\")\n",
    "elif n == 'F':\n",
    "    print(\"Failure\")\n",
    "else:\n",
    "    print(\"error\")"
   ]
  },
  {
   "cell_type": "code",
   "execution_count": 10,
   "metadata": {},
   "outputs": [
    {
     "name": "stdout",
     "output_type": "stream",
     "text": [
      "3.4\n",
      "next semester\n"
     ]
    }
   ],
   "source": [
    "# 자가진단8\n",
    "# 4.5 이하의 평점을 입력받아 그 값에 따라 다음과 같이 출력하는 프로그램을 작성하시오.\n",
    "# 단 입력는 0이상 4.5 이하이다.\n",
    "\n",
    "score = float(input())\n",
    "\n",
    "if score >= 4.0:\n",
    "    print(\"scholarship\")\n",
    "elif score >= 3.0:\n",
    "    print(\"next semester\")\n",
    "elif score >= 2.0:\n",
    "    print(\"seasonal semester\")\n",
    "else:\n",
    "    print(\"retake\")"
   ]
  },
  {
   "cell_type": "code",
   "execution_count": 1,
   "metadata": {},
   "outputs": [
    {
     "name": "stdout",
     "output_type": "stream",
     "text": [
      "18 -5 10\n",
      "-5\n"
     ]
    }
   ],
   "source": [
    "# 자가진단9\n",
    "# 3개의 정수를 입력받아 조건연산자를 이용하여 입력받은 수들 중 최소값을 출력하는 프로그램을 작성하시오.\n",
    "\n",
    "# 18 -5 10 입력 예\n",
    "# -5 출력 예\n",
    "\n",
    "a,b,c = input().split()\n",
    "\n",
    "a = int(a)\n",
    "b = int(b)\n",
    "c = int(c)\n",
    "\n",
    "print(min([a,b,c]))"
   ]
  },
  {
   "cell_type": "code",
   "execution_count": 26,
   "metadata": {},
   "outputs": [
    {
     "name": "stdout",
     "output_type": "stream",
     "text": [
      "50 85\n",
      "35\n"
     ]
    }
   ],
   "source": [
    "# 형성평가1\n",
    "# 두 개의 정수를 입력받아 큰 수에서 작은 수를 뺀 차를 출력하는 프로그램을 작성하시오.\n",
    "\n",
    "# 50 85 입력 예\n",
    "# 35 출력 예\n",
    "\n",
    "a,b = input().split()\n",
    "a = int(a)\n",
    "b = int(b)\n",
    "\n",
    "if a > b:\n",
    "    print(a - b)\n",
    "else:\n",
    "    print(b - a)"
   ]
  },
  {
   "cell_type": "code",
   "execution_count": 27,
   "metadata": {},
   "outputs": [
    {
     "name": "stdout",
     "output_type": "stream",
     "text": [
      "-2\n",
      "minus\n"
     ]
    }
   ],
   "source": [
    "# 형성평가2\n",
    "# 정수를 입력받아 0 이면 \"zero\" 양수이면 \"plus\" 음수이면 \"minus\" 라고 출력하는 프로그램을 작성하시오.\n",
    "\n",
    "# 0 입력 예\n",
    "# zero 출력 예\n",
    "\n",
    "n = int(input())\n",
    "\n",
    "if n == 0:\n",
    "    print(\"zero\")\n",
    "elif n > 0:\n",
    "    print(\"plus\")\n",
    "else:\n",
    "    print(\"minus\")"
   ]
  },
  {
   "cell_type": "code",
   "execution_count": 30,
   "metadata": {},
   "outputs": [
    {
     "name": "stdout",
     "output_type": "stream",
     "text": [
      "2008\n",
      "leap year\n"
     ]
    }
   ],
   "source": [
    "# 형성평가3\n",
    "# 년도를 입력받아 윤년(leap year)인지 평년(common year)인지 판단하는 프로그램을 작성하시오.\n",
    "\n",
    "# 2008 입력 예\n",
    "# leap year 출력 예\n",
    "\n",
    "n = int(input())\n",
    "\n",
    "if n % 400 == 0 or n % 4 == 0 and n % 100 != 0:\n",
    "    print(\"leap year\")\n",
    "else:\n",
    "    print(\"common year\")"
   ]
  },
  {
   "cell_type": "code",
   "execution_count": 32,
   "metadata": {},
   "outputs": [
    {
     "name": "stdout",
     "output_type": "stream",
     "text": [
      "Number? 2\n",
      "cat\n"
     ]
    }
   ],
   "source": [
    "# 형성평가4\n",
    "# 1번은 개, 2번은 고양이, 3번은 병아리로 정하고 번호를 입력하면 번호에 해당하는 동물을 영어로 출력하는 프로그램을 작성하시오. 해당 번호가 없으면 \"I don't know.\"라고 출력한다.\n",
    "\n",
    "# 개-dog\n",
    "# 고양이-cat\n",
    "# 병아리-chick\n",
    "\n",
    "# Number? 2 입력 예\n",
    "# cat 출력 예\n",
    "\n",
    "n = int(input(\"Number? \"))\n",
    "\n",
    "if n == 1:\n",
    "    print(\"dog\")\n",
    "elif n == 2:\n",
    "    print(\"cat\")\n",
    "elif n == 3:\n",
    "    print(\"chick\")\n",
    "else:\n",
    "    print(\"I don't know.\")"
   ]
  },
  {
   "cell_type": "code",
   "execution_count": 34,
   "metadata": {},
   "outputs": [
    {
     "name": "stdout",
     "output_type": "stream",
     "text": [
      "13\n",
      "31\n"
     ]
    }
   ],
   "source": [
    "# 형성평가5\n",
    "# 1~12사이의 정수를 입력받아 평년의 경우 입력받은 월을 입력받아 평년의 경우 해당 월의 날수를 출력하는 프로그램을 작성하시오.\n",
    "\n",
    "# 2 입력 예\n",
    "# 28 출력 예\n",
    "\n",
    "x = int(input())\n",
    "\n",
    "if x == 1:\n",
    "    print(31)\n",
    "elif x == 2:\n",
    "    print(28)\n",
    "elif x == 3:\n",
    "    print(31)\n",
    "elif x == 4:\n",
    "    print(30)\n",
    "elif x == 5:\n",
    "    print(31)\n",
    "elif x == 6:\n",
    "    print(30)\n",
    "elif x == 7:\n",
    "    print(31)\n",
    "elif x == 8:\n",
    "    print(31)\n",
    "elif x == 9:\n",
    "    print(30)\n",
    "elif x == 10:\n",
    "    print(31)\n",
    "elif x == 11:\n",
    "    print(30)\n",
    "elif x == 12:\n",
    "    print(31)\n",
    "    "
   ]
  },
  {
   "cell_type": "code",
   "execution_count": 26,
   "metadata": {},
   "outputs": [
    {
     "name": "stdout",
     "output_type": "stream",
     "text": [
      "a\n"
     ]
    },
    {
     "data": {
      "text/plain": [
       "'A'"
      ]
     },
     "execution_count": 26,
     "metadata": {},
     "output_type": "execute_result"
    }
   ],
   "source": [
    "n = input()\n",
    "n.upper()"
   ]
  },
  {
   "cell_type": "code",
   "execution_count": null,
   "metadata": {},
   "outputs": [],
   "source": []
  }
 ],
 "metadata": {
  "kernelspec": {
   "display_name": "Python 3",
   "language": "python",
   "name": "python3"
  },
  "language_info": {
   "codemirror_mode": {
    "name": "ipython",
    "version": 3
   },
   "file_extension": ".py",
   "mimetype": "text/x-python",
   "name": "python",
   "nbconvert_exporter": "python",
   "pygments_lexer": "ipython3",
   "version": "3.7.6"
  }
 },
 "nbformat": 4,
 "nbformat_minor": 4
}
