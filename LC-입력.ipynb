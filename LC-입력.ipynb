{
 "cells": [
  {
   "cell_type": "code",
   "execution_count": 1,
   "metadata": {},
   "outputs": [
    {
     "name": "stdout",
     "output_type": "stream",
     "text": [
      "-100\n"
     ]
    }
   ],
   "source": [
    "# 자가진단1\n",
    "# 정수형 변수를 선언하고 -100을 대입하여 출력하는 프로그램을 작성하라.\n",
    "\n",
    "# -100\n",
    "\n",
    "a = -100\n",
    "print(a)"
   ]
  },
  {
   "cell_type": "code",
   "execution_count": 2,
   "metadata": {},
   "outputs": [
    {
     "name": "stdout",
     "output_type": "stream",
     "text": [
      "-1\n",
      "100\n"
     ]
    }
   ],
   "source": [
    "# 자가진단2\n",
    "# 정수형 변수 2개를 선언하여 -1과 100을 대입한 후 아래와 같이 출력하는 프로그램을 작성하라.\n",
    "\n",
    "# -1\n",
    "# 100\n",
    "\n",
    "a = -1\n",
    "b = 100\n",
    "print(a)\n",
    "print(b)"
   ]
  },
  {
   "cell_type": "code",
   "execution_count": 5,
   "metadata": {},
   "outputs": [
    {
     "name": "stdout",
     "output_type": "stream",
     "text": [
      "55 - 10 = 45\n",
      "2008 - 1999 = 9\n"
     ]
    }
   ],
   "source": [
    "# 자가진단3\n",
    "# 두 개의 정수형 변수를 선언하고 값을 대입하여 아래와 같이 출력되는 프로그램을 작성하라.\n",
    "\n",
    "# 55 - 10 = 45\n",
    "# 2008 - 1999 = 9\n",
    "\n",
    "a = 55\n",
    "b = 10\n",
    "print(\"%d - %d = %d\" % (a, b, a-b))\n",
    "c = 2008\n",
    "d = 1999\n",
    "print(\"%d - %d = %d\" % (c, d, c-d))"
   ]
  },
  {
   "cell_type": "code",
   "execution_count": 8,
   "metadata": {},
   "outputs": [
    {
     "name": "stdout",
     "output_type": "stream",
     "text": [
      "49 * 0.2683 = 13.1467\n"
     ]
    }
   ],
   "source": [
    "# 자가진단4\n",
    "# 추의 무게를 저장할 변수와 중력의 비율을 저장할 변수를 선언하고,\n",
    "# 다음 두 값을 변수에 저장하여 곱셈 계산식을 출력하는 프로그램을 작성하라.\n",
    "# 추의 무게 = 49, 중력의 비율 = 0.2683\n",
    "\n",
    "a = 49\n",
    "b = 0.2683\n",
    "print(\"%d * %0.4f = %0.4f\" % (a, b, a*b))"
   ]
  },
  {
   "cell_type": "code",
   "execution_count": 28,
   "metadata": {},
   "outputs": [
    {
     "name": "stdout",
     "output_type": "stream",
     "text": [
      "2.1yd = 192.0cm\n",
      "10.5in = 26.7cm\n"
     ]
    }
   ],
   "source": [
    "# 자가진단5\n",
    "# 1야드(yd)는 91.44cm이고 1인치(in)는 2.54cm이다.\n",
    "# 2.1야드와 10.5인치를 각각 cm로 변환하여 다음 형식에 맞추어 소수 첫째자리까지 출력하시오.\n",
    "\n",
    "#  2.1yd = 192.0cm\n",
    "# 10.5in =  26.7cm\n",
    "\n",
    "# 좌우정렬 조심!\n",
    "a = 2.1\n",
    "b = 10.5\n",
    "c = 91.44\n",
    "d = 2.54\n",
    "print(\"%0.1fyd = %0.1fcm\" % (a, a*c))\n",
    "print(\"%0.1fin = %0.1fcm\" % (b, b*d))"
   ]
  },
  {
   "cell_type": "code",
   "execution_count": null,
   "metadata": {},
   "outputs": [],
   "source": [
    "# 자가진단6\n",
    "# 키를 입력받아 출력하는 프로그램을 작성하라.\n",
    "# (입력할때 \"height = \" 문장을 먼저 출력하고 키를 입력 받아야 합니다.)\n",
    "\n",
    "# height = 170 입력\n",
    "# Your height is 170cm. 출력\n",
    "\n",
    "input(\"height = \")\n",
    "print(\"your height is int(input())cm.\")"
   ]
  },
  {
   "cell_type": "code",
   "execution_count": 12,
   "metadata": {},
   "outputs": [
    {
     "name": "stdout",
     "output_type": "stream",
     "text": [
      "16\n",
      "5\n",
      "16 * 5 = 80\n",
      "16 / 5 = 3\n"
     ]
    }
   ],
   "source": [
    "# 자가진단7 # 아직 못 풀음\n",
    "# 두 개의 정수를 입력 받아 곱과 몫을 출력하시오.\n",
    "# (먼저 입력 받는 수가 항상 크며 입력되는 두 정수는 1이상 500이하이다.)\n",
    "\n",
    "# 16 5 입력 예\n",
    "# 16 * 5 = 80 출력 예\n",
    "# 16 / 5 = 3 \n",
    "a = int(input())\n",
    "b = int(input())\n",
    "print(\"%d * %d = %d\" % (a, b, a*b))\n",
    "print(\"%d / %d = %d\" % (a, b, a/b))"
   ]
  },
  {
   "cell_type": "code",
   "execution_count": null,
   "metadata": {},
   "outputs": [],
   "source": [
    "### 자가진단8\n",
    "# 실수 2개와 한 개의 문자를 입력 받아 출력하되 실수는 반올림하여 소수 둘째자리까지 출력하는 프로그램을작성하시오.\n",
    "\n",
    "# 12.2536 입력 예\n",
    "# 526.12953\n",
    "# A\n",
    "\n",
    "# 12.25 출력 예\n",
    "# 526.13\n",
    "# A\n",
    "\n",
    "a = float(input())\n",
    "b = float(input())\n",
    "c = input()\n",
    "print(\"%0.2f\" % a)\n",
    "print(\"%0.2f\" % b)\n",
    "print(c.upper())"
   ]
  },
  {
   "cell_type": "code",
   "execution_count": 75,
   "metadata": {},
   "outputs": [],
   "source": [
    "# 자가진단9\n",
    "# 세 개의 실수를 입력 받아 반올림하여 소수 셋째 자리까지 출력하는 프로그램을 작성하시오.\n",
    "\n",
    "# 1.2568 입력 예\n",
    "# 95.21438\n",
    "# 526.851364\n",
    "\n",
    "# 1.257 출력 예\n",
    "# 95.214\n",
    "# 526.851\n",
    "\n",
    "a = float(input())\n",
    "b = float(input())\n",
    "c = float(input())\n",
    "print(round(a,3))\n",
    "print(round(b,3))\n",
    "print(round(c,3))"
   ]
  },
  {
   "cell_type": "code",
   "execution_count": 95,
   "metadata": {},
   "outputs": [
    {
     "name": "stdout",
     "output_type": "stream",
     "text": [
      "10 + 20 = 30\n"
     ]
    }
   ],
   "source": [
    "# 형성평가1\n",
    "# 세 개의 정수형 변수를 선언하고 각 변수에 10 20 30을 대입한 후 그 변수를 이용하여 출력 예와 같이 출력하는 프로그램을 작성하시오.\n",
    "\n",
    "# 10 + 20 = 30 출력 예\n",
    "\n",
    "a = 10\n",
    "b = 20\n",
    "c = 30\n",
    "print(\"%d + %d = %d\" % (a,b,c))"
   ]
  },
  {
   "cell_type": "code",
   "execution_count": 99,
   "metadata": {},
   "outputs": [
    {
     "name": "stdout",
     "output_type": "stream",
     "text": [
      "     80.50     22.34    102.84\n"
     ]
    }
   ],
   "source": [
    "# 형성평가2\n",
    "# 실수형 변수를 2개 선언한 후 각각에 80.5 22.34를 대입한 후 두 수의 합을 구하여 각각의 숫자를 10칸씩 오른쪽에 맞추어 소수 둘째자리까지 출력하는 프로그램을 작성하시오.\n",
    "\n",
    "#     80.50     22.34    102.84 출력 예\n",
    "\n",
    "a = 80.5\n",
    "b = 22.34\n",
    "print(\"%10.2f%10.2f%10.2f\" % (a, b, a+b))"
   ]
  },
  {
   "cell_type": "code",
   "execution_count": 102,
   "metadata": {},
   "outputs": [
    {
     "name": "stdout",
     "output_type": "stream",
     "text": [
      "100.12 * 50 = 5006\n"
     ]
    }
   ],
   "source": [
    "# 형성평가3\n",
    "# 정수형 변수 한 개를 선언하여 50을 대입하고 실수형 변수 한 개를 선언하여 100.12를 대입한 후 다음과 같이 출력되는 프로그램을 작성하시오.\n",
    "#(결과값은 소수점 이하에서 반올림) \n",
    "\n",
    "# 100.12 * 50 = 5006 출력 예\n",
    "\n",
    "a = 50\n",
    "b = 100.12\n",
    "print(\"%0.2f * %d = %d\" % (b,a, round(b*a,0)))\n"
   ]
  },
  {
   "cell_type": "code",
   "execution_count": 10,
   "metadata": {},
   "outputs": [
    {
     "name": "stdout",
     "output_type": "stream",
     "text": [
      "20\n",
      "50\n",
      "100\n",
      "sum = 170\n",
      "avg = 56\n"
     ]
    }
   ],
   "source": [
    "# 형성평가4 #아직 못 풀음\n",
    "# 세 개의 정수를 입력받아 합과 평균을 출력하는 프로그램을 작성하시오.(단 평균은 소수 이하를 버림하여 정수 부분만 출력한다.)\n",
    "\n",
    "# 20 50 100 입력 예\n",
    "# sum = 170 출력 예\n",
    "# avg = 56\n",
    "\n",
    "a = int(input())\n",
    "b = int(input())\n",
    "c = int(input())\n",
    "print(\"sum = %d\" % (a+b+c))\n",
    "print(\"avg =\",((a+b+c)//3))"
   ]
  },
  {
   "cell_type": "code",
   "execution_count": null,
   "metadata": {},
   "outputs": [],
   "source": [
    "##### 형성평가5\n",
    "# 실수의 yard(야드)를 입력받아 cm(센티미터)로 환산하여 입력값과 환산한 값을 출력 예와 같이 소수 둘째자리에서 반올림하여 첫째자리까지 출력하는 프로그램을 작성하시오. (단 1야드 = 91.44cm로 한다.)  \n",
    "# 입력은 \"yard? \"라고 먼저 출력하고, 실수를 입력받는다. \n",
    "\n",
    "# yard? 10.1 입력 예\n",
    "# 10.1yard = 923.5cm 출력 예\n",
    "\n",
    "yd = 91.44\n",
    "\n",
    "a = float(input(\"yard? \"))\n",
    "print(\"%0.1fyard = %0.1fcm\" % (a, a*yd))"
   ]
  },
  {
   "cell_type": "code",
   "execution_count": 9,
   "metadata": {
    "scrolled": true
   },
   "outputs": [
    {
     "name": "stdout",
     "output_type": "stream",
     "text": [
      "20\n",
      "0\n",
      "100\n",
      "sum = 120\n",
      "avg = 40\n"
     ]
    }
   ],
   "source": [
    "a = int(input())\n",
    "b = int(input())\n",
    "c = int(input())\n",
    "print(\"sum =\",(a+b+c))\n",
    "print(\"avg =\",(a+b+c)//3)"
   ]
  },
  {
   "cell_type": "code",
   "execution_count": null,
   "metadata": {},
   "outputs": [],
   "source": []
  }
 ],
 "metadata": {
  "kernelspec": {
   "display_name": "Python 3",
   "language": "python",
   "name": "python3"
  },
  "language_info": {
   "codemirror_mode": {
    "name": "ipython",
    "version": 3
   },
   "file_extension": ".py",
   "mimetype": "text/x-python",
   "name": "python",
   "nbconvert_exporter": "python",
   "pygments_lexer": "ipython3",
   "version": "3.7.6"
  }
 },
 "nbformat": 4,
 "nbformat_minor": 4
}
