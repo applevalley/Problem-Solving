{
 "cells": [
  {
   "cell_type": "code",
   "execution_count": null,
   "metadata": {},
   "outputs": [],
   "source": [
    "# 1330번\n",
    "# 두 수 비교하기\n",
    "\n",
    "a,b = map(int, input().split())\n",
    "if a > b:\n",
    "    print('>')\n",
    "elif a < b:\n",
    "    print('<')\n",
    "elif a == b:\n",
    "    print('==')"
   ]
  },
  {
   "cell_type": "code",
   "execution_count": null,
   "metadata": {},
   "outputs": [],
   "source": [
    "# 9498번\n",
    "# 시험 성적\n",
    "\n",
    "a = int(input())\n",
    "0 <= a <= 100\n",
    "\n",
    "if a >= 90:\n",
    "    print(\"A\")\n",
    "elif a >= 80:\n",
    "    print(\"B\")\n",
    "elif a >= 70:\n",
    "    print(\"C\")\n",
    "elif a >= 60:\n",
    "    print(\"D\")\n",
    "else:\n",
    "    print(\"F\")"
   ]
  },
  {
   "cell_type": "code",
   "execution_count": null,
   "metadata": {},
   "outputs": [],
   "source": [
    "# 2753번\n",
    "# 윤년\n",
    "\n",
    "a = int(input())\n",
    "1 <= a <= 4000\n",
    "\n",
    "if a % 4 == 0 and a % 100 != 0 or a % 400 == 0:\n",
    "    print(1)\n",
    "else:\n",
    "    print(0)"
   ]
  },
  {
   "cell_type": "code",
   "execution_count": null,
   "metadata": {},
   "outputs": [],
   "source": [
    "# 14681번\n",
    "# 사분면 고르기\n",
    "\n",
    "a = int(input())\n",
    "b = int(input())\n",
    "\n",
    "if a > 0 and b > 0:\n",
    "    print(1)\n",
    "elif a < 0 and b > 0:\n",
    "    print(2)\n",
    "elif a < 0 and b < 0:\n",
    "    print(3)\n",
    "elif a > 0 and b < 0:\n",
    "    print(4)"
   ]
  },
  {
   "cell_type": "code",
   "execution_count": null,
   "metadata": {},
   "outputs": [],
   "source": [
    "# 2884번\n",
    "# 알람 시계\n",
    "\n",
    "a, b = map(int, input().split())\n",
    "\n",
    "if b > 44:\n",
    "    print(a, b-45)\n",
    "elif b < 45 and a > 0:\n",
    "    print(a-1, b+15)\n",
    "elif b < 45 and a == 0:\n",
    "    print(23, b+15)"
   ]
  }
 ],
 "metadata": {
  "kernelspec": {
   "display_name": "Python 3",
   "language": "python",
   "name": "python3"
  },
  "language_info": {
   "codemirror_mode": {
    "name": "ipython",
    "version": 3
   },
   "file_extension": ".py",
   "mimetype": "text/x-python",
   "name": "python",
   "nbconvert_exporter": "python",
   "pygments_lexer": "ipython3",
   "version": "3.8.3"
  }
 },
 "nbformat": 4,
 "nbformat_minor": 4
}
