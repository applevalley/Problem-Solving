{
 "cells": [
  {
   "cell_type": "code",
   "execution_count": null,
   "metadata": {},
   "outputs": [],
   "source": [
    "# 2557번\n",
    "# Hello World\n",
    "\n",
    "print(\"Hello World!\")"
   ]
  },
  {
   "cell_type": "code",
   "execution_count": null,
   "metadata": {},
   "outputs": [],
   "source": [
    "# 10718번\n",
    "# We love kriii\n",
    "\n",
    "print(\"강한친구 대한육군\")\n",
    "print(\"강한친구 대한육군\")"
   ]
  },
  {
   "cell_type": "code",
   "execution_count": null,
   "metadata": {},
   "outputs": [],
   "source": [
    "# 10171번\n",
    "# 고양이\n",
    "\n",
    "print(\"\\    /\\ \")\n",
    "print(\" )  ( ')\")\n",
    "print(\"(  /  )\")\n",
    "print(\" \\(__)|\")"
   ]
  },
  {
   "cell_type": "code",
   "execution_count": null,
   "metadata": {},
   "outputs": [],
   "source": [
    "# 10172번\n",
    "# 개\n",
    "\n",
    "# 고양이와 마찬가지로 저런 문제가 생각보다 머리 아픈 것은 백슬래시의 존재 때문이라고 생각한다.\n",
    "\n",
    "\n",
    "print('|\\_/|')\n",
    "print('|q p|   /}')\n",
    "print('( 0 )\"\"\"\\\\')\n",
    "print('|\"^\"`    |')\n",
    "print('||_/=\\\\\\__|')"
   ]
  },
  {
   "cell_type": "code",
   "execution_count": null,
   "metadata": {},
   "outputs": [],
   "source": [
    "# 1000번\n",
    "# A + B\n",
    "\n",
    "a,b = map(int, input().split())\n",
    "0 < a, b < 10\n",
    "print(a + b)"
   ]
  },
  {
   "cell_type": "code",
   "execution_count": null,
   "metadata": {},
   "outputs": [],
   "source": [
    "# 1001번\n",
    "# A - B \n",
    "\n",
    "a,b = map(int, input().split())\n",
    "0 < a, b < 10\n",
    "print(a - b)"
   ]
  },
  {
   "cell_type": "code",
   "execution_count": null,
   "metadata": {},
   "outputs": [],
   "source": [
    "# 10998번\n",
    "# A * B\n",
    "\n",
    "# % 포매팅을 이용\n",
    "\n",
    "a,b = map(int, input().split())\n",
    "0 < a, b < 10\n",
    "print(\"%d\" % (a * b))"
   ]
  },
  {
   "cell_type": "code",
   "execution_count": null,
   "metadata": {},
   "outputs": [],
   "source": [
    "# 1008번\n",
    "# a / b\n",
    "\n",
    "# str.format() 함수를 이용\n",
    "\n",
    "a,b = map(int, input().split())\n",
    "0 < a, b < 10\n",
    "print(\"{0}\".format(a / b))"
   ]
  },
  {
   "cell_type": "code",
   "execution_count": null,
   "metadata": {},
   "outputs": [],
   "source": [
    "# 10869번\n",
    "# 사칙연산\n",
    "\n",
    "a,b = map(int, input().split())\n",
    "0 < a, b < 10\n",
    "print(\"{0}\".format(a + b))\n",
    "print(\"{0}\".format(a - b))\n",
    "print(\"{0}\".format(a * b))\n",
    "print(\"{0}\".format(a // b))\n",
    "print(\"{0}\".format(a % b))"
   ]
  },
  {
   "cell_type": "code",
   "execution_count": null,
   "metadata": {},
   "outputs": [],
   "source": [
    "# 10430번\n",
    "# 나머지\n",
    "\n",
    "a,b,c = map(int, input().split())\n",
    "2 <= a, b, c <= 10000\n",
    "print((a+b)%c)\n",
    "print(((a % c) + (b % c)) % c)\n",
    "print(((a*b)%c))\n",
    "print(((a % c) * (b % c)) % c)"
   ]
  },
  {
   "cell_type": "code",
   "execution_count": null,
   "metadata": {},
   "outputs": [],
   "source": [
    "# 2588번\n",
    "# 곱셈\n",
    "\n",
    "# 풀긴 풀었지만 입력 값이 3자리의 정수인 것을 너무 전제한 풀이였다. 정수의 자리 수가 달라지면 저 풀이를 쓸 수 없다.\n",
    "# 입력값의 크기에 구애받지 않는 풀이를 다시 고민해보자. \n",
    "\n",
    "a = int(input())\n",
    "b = int(input())\n",
    "print(a * (b % 10))\n",
    "print(a * (int((b/10)%10)))\n",
    "print(a * (b//100))\n",
    "print(a * b)"
   ]
  }
 ],
 "metadata": {
  "kernelspec": {
   "display_name": "Python 3",
   "language": "python",
   "name": "python3"
  },
  "language_info": {
   "codemirror_mode": {
    "name": "ipython",
    "version": 3
   },
   "file_extension": ".py",
   "mimetype": "text/x-python",
   "name": "python",
   "nbconvert_exporter": "python",
   "pygments_lexer": "ipython3",
   "version": "3.8.3"
  }
 },
 "nbformat": 4,
 "nbformat_minor": 4
}
