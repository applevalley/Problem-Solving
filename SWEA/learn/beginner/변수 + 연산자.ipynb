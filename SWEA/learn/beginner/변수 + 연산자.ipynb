{
 "cells": [
  {
   "cell_type": "code",
   "execution_count": null,
   "metadata": {},
   "outputs": [],
   "source": [
    "# 1~9 사이의 정수 a를 입력받아 a + aa + aaa + aaaa 의 값을 계산하는 프로그램을 작성하십시오.\n",
    "\n",
    "n = int(input())\n",
    "if n < 10:\n",
    "    n2 = \"%d%d\" % (n,n)\n",
    "    n3 = \"%d%d%d\" % (n,n,n)\n",
    "    n4 = \"%d%d%d%d\" % (n,n,n,n)\n",
    "    print(int(n)+int(n2)+int(n3)+int(n4))"
   ]
  },
  {
   "cell_type": "code",
   "execution_count": null,
   "metadata": {},
   "outputs": [],
   "source": [
    "# 인치(inch)를 센티미터(cm)으로 변환하는 프로그램을 작성하십시오.\n",
    "# 이 때 1 인치는 2.54 센티미터입니다.\n",
    "\n",
    "a = float(input())\n",
    "b = 2.54\n",
    "print((\"%.2f\" % a),\"inch\",\"=> \",(a*b),\"cm\")"
   ]
  },
  {
   "cell_type": "code",
   "execution_count": null,
   "metadata": {},
   "outputs": [],
   "source": [
    "# 킬로그램(kg)를 파운드(lb)으로 변환하는 프로그램을 작성하십시오.\n",
    "# 이 때 1 킬로그램은 2.2046 파운드입니다.\n",
    "\n",
    "a = int(input())\n",
    "b = 2.2046\n",
    "print((\"%0.2f\" % a),\"kg\",\"=> \",(\"%0.2f\" % (a*b)), \"lb\")"
   ]
  },
  {
   "cell_type": "code",
   "execution_count": null,
   "metadata": {},
   "outputs": [],
   "source": [
    "# 섭씨(℃)를 화씨(℉)로 변환하는 프로그램을 작성하십시오.\n",
    "# 이 때 물의 빙점은 화씨 32도이고 비등점은 화씨 212도(표준 기압에서)입니다.\n",
    "# 물의 비등점과 빙점 사이에 정확하게 180도 차이가 납니다.\n",
    "# 그러므로 화씨 눈금에서의 간격은 물의 빙점과 비등점 사이의 간격의 1/180입니다.\n",
    "\n",
    "a = int(input())\n",
    "b = a * 1.8 + 32\n",
    "print((\"%0.2f\" % a), \"℃\",\"=> \",\"%0.2f\" % b,\"℉\")"
   ]
  },
  {
   "cell_type": "code",
   "execution_count": null,
   "metadata": {},
   "outputs": [],
   "source": [
    "# 화씨(℉)를 섭씨(℃)로 변환하는 프로그램을 작성하십시오.\n",
    "# 이 때 물의 빙점은 화씨 32도이고 비등점은 화씨 212도(표준 기압에서)입니다.\n",
    "# 물의 비등점과 빙점 사이에 정확하게 180도 차이가 납니다.\n",
    "# 그러므로 화씨 눈금에서의 간격은 물의 빙점과 비등점 사이의 간격의 1/180입니다.\n",
    "\n",
    "a = int(input())\n",
    "b = (a - 32) / 1.8\n",
    "print((\"%0.2f\" % a),\"℉\",\"=> \",\"%0.2f\" % b,\"℃\")"
   ]
  },
  {
   "cell_type": "code",
   "execution_count": null,
   "metadata": {},
   "outputs": [],
   "source": [
    "# 20% 농도의 소금물 100g과 물 200g을 혼합한 소금물의 농도(%)를 소수점 두 번째 자리까지 구하는 프로그램을 작성하십시오.\n",
    "\n",
    "a = (20/300) * 100\n",
    "print(\"혼합된 소금물의 농도:\",\"%0.2f%%\" % a)"
   ]
  },
  {
   "cell_type": "code",
   "execution_count": null,
   "metadata": {},
   "outputs": [],
   "source": []
  }
 ],
 "metadata": {
  "kernelspec": {
   "display_name": "Python 3",
   "language": "python",
   "name": "python3"
  },
  "language_info": {
   "codemirror_mode": {
    "name": "ipython",
    "version": 3
   },
   "file_extension": ".py",
   "mimetype": "text/x-python",
   "name": "python",
   "nbconvert_exporter": "python",
   "pygments_lexer": "ipython3",
   "version": "3.8.3"
  }
 },
 "nbformat": 4,
 "nbformat_minor": 4
}
