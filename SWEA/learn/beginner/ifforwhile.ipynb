{
 "cells": [
  {
   "cell_type": "code",
   "execution_count": null,
   "metadata": {},
   "outputs": [],
   "source": [
    "# 다음의 결과와 같이 임의의 양의 정수를 입력받아 그 정수의 모든 약수를 구하십시오\n",
    "\n",
    "a = int(input())\n",
    "for i in range(1,a+1):\n",
    "    if a % i == 0:\n",
    "        print(\"%d(은)는 %d의 약수입니다.\" % (i,a))"
   ]
  },
  {
   "cell_type": "code",
   "execution_count": 11,
   "metadata": {},
   "outputs": [
    {
     "name": "stdout",
     "output_type": "stream",
     "text": [
      "5\n",
      "1(은)는 5의 약수입니다.\n",
      "5(은)는 5의 약수입니다.\n",
      "5(은)는 1과 5로만 나눌 수 있는 소수입니다.\n"
     ]
    }
   ],
   "source": [
    "# 다음의 결과와 같이 임의의 양의 정수를 입력받아 그 정수의 모든 약수를 구하십시오\n",
    "# (단, 약수가 2개일 경우 소수임을 나타내십시오)\n",
    "a = int(input())\n",
    "count = 0\n",
    "for i in range(1, a+1):\n",
    "    if a % i == 0:\n",
    "        print(\"{0}(은)는 {1}의 약수입니다.\".format(i,a))\n",
    "        count += 1\n",
    "if count == 2:\n",
    "    print(\"{0}(은)는 1과 {1}로만 나눌 수 있는 소수입니다.\".format(a,a))"
   ]
  },
  {
   "cell_type": "code",
   "execution_count": null,
   "metadata": {},
   "outputs": [],
   "source": [
    "# 다음의 결과와 같이 입력된 영어 알파벳 문자에 대해 대소문자를 구분하는 코드를 작성하십시오.\n",
    "\n",
    "a = input()\n",
    "if a == a.upper():\n",
    "    print(\"%s 는 대문자 입니다.\" % a)\n",
    "elif a == a.lower():\n",
    "    print(\"%s 는 소문자 입니다.\" % a)"
   ]
  },
  {
   "cell_type": "code",
   "execution_count": null,
   "metadata": {},
   "outputs": [],
   "source": [
    "# 다음의 결과와 같이 가상의 두 사람이 가위 바위 보 중 하나를 내서 승패를 가르는 가위 바위 보 게임을 작성하십시오.\n",
    "# 이 때 [\"가위\", \"바위\", \"보\"] 리스트를 활용합니다.\n",
    "\n",
    "a = [\"가위\",\"바위\",\"보\"]\n",
    "Man1 = input()\n",
    "Man2 = input()\n",
    "if Man1 == '가위':\n",
    "    if Man2 == '가위':\n",
    "        print(\"Result : Draw\")\n",
    "    elif Man2 == '바위':\n",
    "        print(\"Result : Man2 Win!\")\n",
    "    elif Man2 == '보':\n",
    "        print(\"Result : Man1 Win!\")\n",
    "elif Man1 == '바위':\n",
    "    if Man2 == '가위':\n",
    "        print(\"Result : Man1 Win!\")\n",
    "    elif Man2 == '바위':\n",
    "        print(\"Result : Draw\")\n",
    "    elif Man2 == '보':\n",
    "        print(\"Result : Man2 Win!\")\n",
    "elif Man1 == '보':\n",
    "    if Man2 == '가위':\n",
    "        print(\"Result : Man2 Win!\")\n",
    "    elif Man2 == '바위':\n",
    "        print(\"Result : Man1 Win!\")\n",
    "    elif Man2 == '보':\n",
    "        print(\"Result : Draw\")"
   ]
  },
  {
   "cell_type": "code",
   "execution_count": null,
   "metadata": {},
   "outputs": [],
   "source": [
    "# 다음의 결과와 같이 입력된 문자가 대문자일 경우 소문자로, 소문자일 경우 대문자로 변경하고,\n",
    "# 알파벳이 아닐 경우엔 그냥 출력하는 코드를 작성하십시오. 출력 시 아스키코드를 함께 출력합니다.\n",
    "\n",
    "a = input()\n",
    "b = a.lower()\n",
    "c = a.upper()\n",
    "if a == b:\n",
    "    print(\"%s(ASCII:\" % b,'%d)' % ord(b),'=>', \"%s(ASCII:\" % c,'%d)' % ord(c))\n",
    "elif a == c:\n",
    "    print(\"%s(ASCII:\" % c,'%d)' % ord(c),'=>', \"%s(ASCII:\" % b,'%d)' % ord(b))\n",
    "else:\n",
    "    print(a)"
   ]
  },
  {
   "cell_type": "code",
   "execution_count": null,
   "metadata": {},
   "outputs": [],
   "source": [
    "# 1~200 사이의 정수 가운데 7의 배수이면서 5의 배수는 아닌 모든 숫자들을 찾아\n",
    "# 콤마(,)로 구분된 문자열을 구성해 출력하는 프로그램을 작성하십시오.\n",
    "\n",
    "for i in range(1,201):\n",
    "    if i % 7 == 0 and i % 5 != 0:\n",
    "        print(i, end = \",\" if i < 196 else \"\")\n",
    "        "
   ]
  },
  {
   "cell_type": "code",
   "execution_count": 1,
   "metadata": {},
   "outputs": [
    {
     "name": "stdout",
     "output_type": "stream",
     "text": [
      "200,202,204,206,208,220,222,224,226,228,240,242,244,246,248,260,262,264,266,268,280,282,284,286,288"
     ]
    }
   ],
   "source": [
    "# 100~300 사이의 숫자에서 각각의 자리 숫자가 짝수인 숫자를 찾아 콤마(,)로 구분해 출력하는 프로그램을 작성하십시오.\n",
    "\n",
    "for i in range(100,301):\n",
    "    if (i // 100) % 2 == 0 and ((i // 10) % 10) % 2 == 0 and (i % 10) % 2 == 0:\n",
    "        print(i, end = \",\" if i < 288 else \"\")"
   ]
  },
  {
   "cell_type": "code",
   "execution_count": 4,
   "metadata": {},
   "outputs": [
    {
     "name": "stdout",
     "output_type": "stream",
     "text": [
      "1번 학생은 88점으로 합격입니다.\n",
      "2번 학생은 30점으로 합격입니다.\n",
      "3번 학생은 61점으로 합격입니다.\n",
      "4번 학생은 55점으로 합격입니다.\n",
      "5번 학생은 95점으로 합격입니다.\n"
     ]
    }
   ],
   "source": [
    "# 다음의 결과와 같이 5명의 학생의 점수에 대해 60 이상일 때 합격 메시지를 출력하고,\n",
    "# 60미만일 때 불합격 메시지를 출력하는 프로그램을 만드십시오.\n",
    "\n",
    "marks = [88,30,61,55,95]\n",
    "\n",
    "for idx, item in enumerate(marks):\n",
    "    if idx >= 60:\n",
    "        print(f'{idx + 1}번 학생은 {item}점으로 합격입니다.')\n",
    "    else:\n",
    "        print(f'{idx + 1}번 학생은 {item}점으로 합격입니다.')"
   ]
  },
  {
   "cell_type": "code",
   "execution_count": null,
   "metadata": {},
   "outputs": [],
   "source": [
    "# 1부터 100까지의 숫자를 for 문과 range 함수를 이용해 출력하십시오.\n",
    "\n",
    "for i in range(1,101):\n",
    "    print(i)"
   ]
  },
  {
   "cell_type": "code",
   "execution_count": null,
   "metadata": {},
   "outputs": [],
   "source": [
    "# 1부터 100사이의 숫자 중 짝수를 for 문을 이용해 다음과 같이 출력하십시오.\n",
    "\n",
    "for i in range(1,101):\n",
    "    if i % 2 == 0:\n",
    "        print(i, end = \" \")"
   ]
  },
  {
   "cell_type": "code",
   "execution_count": 8,
   "metadata": {},
   "outputs": [
    {
     "name": "stdout",
     "output_type": "stream",
     "text": [
      "1, 3, 5, 7, 9, 11, 13, 15, 17, 19, 21, 23, 25, 27, 29, 31, 33, 35, 37, 39, 41, 43, 45, 47, 49, 51, 53, 55, 57, 59, 61, 63, 65, 67, 69, 71, 73, 75, 77, 79, 81, 83, 85, 87, 89, 91, 93, 95, 97, 99"
     ]
    }
   ],
   "source": [
    "# 1부터 100사이의 숫자 중 홀수를 for 문을 이용해 다음과 같이 출력하십시오.\n",
    "for i in range(1,101):\n",
    "    if i % 2 == 1:\n",
    "        print(i, end = \", \" if i < 99 else \"\")"
   ]
  },
  {
   "cell_type": "code",
   "execution_count": 9,
   "metadata": {},
   "outputs": [
    {
     "name": "stdout",
     "output_type": "stream",
     "text": [
      "1부터 100사이의 숫자 중 3의 배수의 총합: 1683\n"
     ]
    }
   ],
   "source": [
    "# 1부터 100사이의 숫자 중 3의 배수의 총합을 for 문을 이용해 출력하십시오.\n",
    "a = 0\n",
    "for i in range(1,101):\n",
    "    if i % 3 == 0:\n",
    "        a += i\n",
    "print(f'1부터 100사이의 숫자 중 3의 배수의 총합: {a}')"
   ]
  },
  {
   "cell_type": "code",
   "execution_count": 18,
   "metadata": {},
   "outputs": [
    {
     "name": "stdout",
     "output_type": "stream",
     "text": [
      "{'A': 3, 'B': 2, 'O': 3, 'AB': 2}\n"
     ]
    }
   ],
   "source": [
    "# 다음은 10명의 학생들의 혈액형(A, B, AB, O) 데이터입니다.\n",
    "# ['A', 'A', 'A', 'O', 'B', 'B', 'O', 'AB', 'AB', 'O']\n",
    "# for 문을 이용하여 각 혈액형 별 학생수를 구하십시오.\n",
    "\n",
    "b_list = ['A','A','A','O','B','B','O','AB','AB','O']\n",
    "a = []\n",
    "b = []\n",
    "o = []\n",
    "ab = []\n",
    "for i in b_list:\n",
    "    if i == 'A':\n",
    "        a.append(i)\n",
    "    elif i == 'B':\n",
    "        b.append(i)\n",
    "    elif i == 'O':\n",
    "        o.append(i)\n",
    "    else:\n",
    "        ab.append(i)\n",
    "dic = {'A':len(a), 'B':len(b),'O':len(o),'AB':len(ab)}\n",
    "print(dic)"
   ]
  },
  {
   "cell_type": "code",
   "execution_count": 30,
   "metadata": {},
   "outputs": [
    {
     "name": "stdout",
     "output_type": "stream",
     "text": [
      "454\n"
     ]
    }
   ],
   "source": [
    "# 다음은 학생의 점수를 나타내는 리스트입니다.\n",
    "# [85, 65, 77, 83, 75, 22, 98, 88, 38, 100]\n",
    "# while 문과 리스트 객체의 pop()을 이용해 80점 이상의 점수들의 총합을 구하시오.\n",
    "\n",
    "scores = [85, 65, 77, 83, 75, 22, 98, 88, 38, 100]\n",
    "a = 0\n",
    "while len(scores):\n",
    "    b = scores.pop()\n",
    "    if b >= 80:\n",
    "        a += b\n",
    "    pass\n",
    "print(a)"
   ]
  },
  {
   "cell_type": "code",
   "execution_count": 35,
   "metadata": {},
   "outputs": [
    {
     "name": "stdout",
     "output_type": "stream",
     "text": [
      "*****\n",
      "****\n",
      "***\n",
      "**\n",
      "*\n"
     ]
    }
   ],
   "source": [
    "# while문을 이용해 아래와 같이 별(*)을 표시하는 프로그램을 만드십시오.\n",
    "\n",
    "n = 5\n",
    "while n > 0:\n",
    "    print('*' * n)\n",
    "    n -= 1\n",
    "    if n == 0:\n",
    "        pass\n",
    "        break"
   ]
  },
  {
   "cell_type": "code",
   "execution_count": 4,
   "metadata": {},
   "outputs": [
    {
     "name": "stdout",
     "output_type": "stream",
     "text": [
      "*******\n",
      " ***** \n",
      "  ***  \n",
      "   *   \n"
     ]
    }
   ],
   "source": [
    "# while문을 이용해 아래와 같이 별(*)을 표시하는 프로그램을 만드십시오.\n",
    "\n",
    "n = 7\n",
    "while n > 0:\n",
    "    print(\"{0:^7}\".format(\"*\"*n))\n",
    "    n -= 2\n",
    "    if n < 0:\n",
    "        pass"
   ]
  },
  {
   "cell_type": "code",
   "execution_count": 28,
   "metadata": {},
   "outputs": [
    {
     "name": "stdout",
     "output_type": "stream",
     "text": [
      "18962387\n",
      "0 1 2 3 4 5 6 7 8 9 \n",
      "0 1 1 1 0 0 1 1 2 1 \n"
     ]
    }
   ],
   "source": [
    "# 다음의 결과와 같이 어떤 한 양의 정수를 입력하여 그 숫자에 0~9가 몇 번 사용되었는지 표시하십시오.\n",
    "\n",
    "a = int(input())\n",
    "b = list(str(a))\n",
    "\n",
    "result = [0,0,0,0,0,0,0,0,0,0]\n",
    "\n",
    "for i in b:\n",
    "    result[int(i)] += 1\n",
    "    pass\n",
    "c = ''\n",
    "for i in range(10):\n",
    "    c += str(i) + ' '\n",
    "print(c)\n",
    "d = ''\n",
    "for i in result:\n",
    "    d += str(i) + ' '\n",
    "print(d)"
   ]
  },
  {
   "cell_type": "code",
   "execution_count": 34,
   "metadata": {},
   "outputs": [
    {
     "name": "stdout",
     "output_type": "stream",
     "text": [
      "    *\n",
      "   **\n",
      "  ***\n",
      " ****\n",
      "*****\n"
     ]
    }
   ],
   "source": [
    "# for문을 이용해 아래와 같이 별(*)을 표시하는 프로그램을 만드십시오.\n",
    "\n",
    "for i in range(1,6):\n",
    "    a = \"{0:>5}\".format(\"*\"*i)\n",
    "    print(a)"
   ]
  },
  {
   "cell_type": "code",
   "execution_count": null,
   "metadata": {},
   "outputs": [],
   "source": [
    "# 다음의 결과와 같이 10진수를 2진수로 변환하는 프로그램을 작성하십시오.\n",
    "\n",
    "a = int(input())\n",
    "res = ''\n",
    "div = 2\n",
    "while a>0:\n",
    "    res = str(a%2) + res\n",
    "    a = a//2\n",
    "    pass\n",
    "print(res)"
   ]
  },
  {
   "cell_type": "code",
   "execution_count": null,
   "metadata": {},
   "outputs": [],
   "source": []
  },
  {
   "cell_type": "code",
   "execution_count": null,
   "metadata": {},
   "outputs": [],
   "source": []
  }
 ],
 "metadata": {
  "kernelspec": {
   "display_name": "Python 3",
   "language": "python",
   "name": "python3"
  },
  "language_info": {
   "codemirror_mode": {
    "name": "ipython",
    "version": 3
   },
   "file_extension": ".py",
   "mimetype": "text/x-python",
   "name": "python",
   "nbconvert_exporter": "python",
   "pygments_lexer": "ipython3",
   "version": "3.8.3"
  }
 },
 "nbformat": 4,
 "nbformat_minor": 4
}
