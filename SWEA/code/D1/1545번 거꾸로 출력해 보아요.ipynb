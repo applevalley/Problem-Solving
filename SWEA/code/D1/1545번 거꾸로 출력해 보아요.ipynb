{
 "cells": [
  {
   "cell_type": "code",
   "execution_count": 1,
   "metadata": {},
   "outputs": [
    {
     "name": "stdout",
     "output_type": "stream",
     "text": [
      "9\n",
      "9 8 7 6 5 4 3 2 1 0 "
     ]
    }
   ],
   "source": [
    "# 주어진 숫자부터 0까지 순서대로 찍어보세요\n",
    "\n",
    "n = int(input())\n",
    "\n",
    "for i in range(n, -1, -1):    # n부터 0까지 와야 하니 두번째 값을 -1로 두고 1씩 줄어야 하기에 증감치는 -1\n",
    "    print(i, end = \" \")     # 공백을 두고 출력"
   ]
  },
  {
   "cell_type": "code",
   "execution_count": null,
   "metadata": {},
   "outputs": [],
   "source": []
  }
 ],
 "metadata": {
  "kernelspec": {
   "display_name": "Python 3",
   "language": "python",
   "name": "python3"
  },
  "language_info": {
   "codemirror_mode": {
    "name": "ipython",
    "version": 3
   },
   "file_extension": ".py",
   "mimetype": "text/x-python",
   "name": "python",
   "nbconvert_exporter": "python",
   "pygments_lexer": "ipython3",
   "version": "3.8.3"
  }
 },
 "nbformat": 4,
 "nbformat_minor": 4
}
