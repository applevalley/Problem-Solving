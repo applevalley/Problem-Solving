{
 "cells": [
  {
   "cell_type": "code",
   "execution_count": 6,
   "metadata": {},
   "outputs": [
    {
     "name": "stdout",
     "output_type": "stream",
     "text": [
      "6789\n",
      "30\n"
     ]
    }
   ],
   "source": [
    "# 하나의 자연수를 입력 받아 각 자릿수의 합을 계산하는 프로그램을 작성하라.\n",
    "\n",
    "n = int(input())      # 자연수를 입력받음\n",
    "\n",
    "a = list(str(n))      # 자연수를 str 형식으로 변환하고, 반복하기 위해 리스트로 묶어줌.\n",
    "b = 0                 # 변수 선언\n",
    "for i in a:          # 리스트 안에서 반복\n",
    "    b += int(i)      # i (자연수를 쪼갠 것)를 b에 각각 더해 저장\n",
    "print(b)"
   ]
  },
  {
   "cell_type": "code",
   "execution_count": null,
   "metadata": {},
   "outputs": [],
   "source": []
  }
 ],
 "metadata": {
  "kernelspec": {
   "display_name": "Python 3",
   "language": "python",
   "name": "python3"
  },
  "language_info": {
   "codemirror_mode": {
    "name": "ipython",
    "version": 3
   },
   "file_extension": ".py",
   "mimetype": "text/x-python",
   "name": "python",
   "nbconvert_exporter": "python",
   "pygments_lexer": "ipython3",
   "version": "3.8.3"
  }
 },
 "nbformat": 4,
 "nbformat_minor": 4
}
