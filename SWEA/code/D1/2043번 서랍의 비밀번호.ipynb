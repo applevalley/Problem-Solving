{
 "cells": [
  {
   "cell_type": "code",
   "execution_count": 11,
   "metadata": {},
   "outputs": [
    {
     "name": "stdout",
     "output_type": "stream",
     "text": [
      "437 299\n",
      "139\n"
     ]
    }
   ],
   "source": [
    "# 서랍의 비밀번호가 생각이 나지 않는다. 비밀번호 P는 000부터 999까지 번호 중의 하나이다.\n",
    "# 주어지는 번호 K부터 1씩 증가하며 비밀번호를 확인해 볼 생각이다.\n",
    "# 예를 들어 비밀번호 P가 123 이고 주어지는 번호 K가 100 일 때, 100부터 123까지 24번 확인하여 비밀번호를 맞출 수 있다.\n",
    "# P와 K가 주어지면 K부터 시작하여 몇 번 만에 P를 맞출 수 있는지 알아보자.\n",
    "\n",
    "p,k = map(int, input().split())      # 정수 입력받음\n",
    "count = 0\n",
    "\n",
    "while True:\n",
    "    if p != k:       # p와 k이 같지 않다면 후치 연산자를 써가면서 그 횟수를 count에 저장\n",
    "        count += 1\n",
    "        k += 1\n",
    "    else:\n",
    "        count += 1    # p와 k가 같게 되었을 때도 시도는 해야 비밀번호를 맞춰서 서랍을 열겠지? 횟수 +1\n",
    "        print(count)  # 저장된 총 횟수를 출력\n",
    "        pass\n",
    "        break    # 출력\n"
   ]
  },
  {
   "cell_type": "markdown",
   "metadata": {},
   "source": [
    "# "
   ]
  },
  {
   "cell_type": "markdown",
   "metadata": {},
   "source": [
    "# "
   ]
  }
 ],
 "metadata": {
  "kernelspec": {
   "display_name": "Python 3",
   "language": "python",
   "name": "python3"
  },
  "language_info": {
   "codemirror_mode": {
    "name": "ipython",
    "version": 3
   },
   "file_extension": ".py",
   "mimetype": "text/x-python",
   "name": "python",
   "nbconvert_exporter": "python",
   "pygments_lexer": "ipython3",
   "version": "3.8.3"
  }
 },
 "nbformat": 4,
 "nbformat_minor": 4
}
