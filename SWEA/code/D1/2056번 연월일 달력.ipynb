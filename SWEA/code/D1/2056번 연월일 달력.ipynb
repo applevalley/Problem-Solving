{
 "cells": [
  {
   "cell_type": "code",
   "execution_count": 40,
   "metadata": {},
   "outputs": [
    {
     "name": "stdout",
     "output_type": "stream",
     "text": [
      "1\n",
      "20200000\n",
      "#1 -1\n"
     ]
    }
   ],
   "source": [
    "## 연월일 순으로 구성된 8자리의 날짜가 입력으로 주어진다. \n",
    "# 해당 날짜의 유효성을 판단한 후, 날짜가 유효하다면 [그림1] 과 같이 ”YYYY/MM/DD”형식으로 출력하고,\n",
    "# 날짜가 유효하지 않을 경우, -1 을 출력하는 프로그램을 작성하라.\n",
    "# 연월일로 구성된 입력에서 월은 1~12 사이 값을 가져야 하며 일은 [표1] 과 같이, 1일 ~ 각각의 달에 해당하는 날짜까지의 값을 가질 수 있다.\n",
    "# \n",
    "\n",
    "\n",
    "month_day = {1:31,2:28,3:31,4:30,5:31,6:30,7:31,8:31,9:30,10:31,11:30,12:31}        # 월, 일을 미리 정의해줬다.\n",
    "\n",
    "T = int(input())                                                            # 테스트 케이스의 수\n",
    "for test_case in range(1, T+1):                                            # 반복\n",
    "    a = input()                                                             # 입력받을 연,월,일\n",
    "    year = a[:4]                                                            # 문자열로 입력받았기에 인덱싱 가능. 연,월,일로 쪼갬\n",
    "    month = a[4:6] \n",
    "    day = a[6:]\n",
    "    if int(month) < 1 or int(month) > 12:                                  # 유효성 검사! 월이 1보다 작거나 12를 넘어가는 경우\n",
    "        print(\"#{} -1\".format(test_case))                                   # -1\n",
    "    elif int(day) < 1 or int(day) > month_day[int(month)]:                 # 일이 1보다 작거나 입력받은 문자열의 month에 해당하는\n",
    "        print(\"#{} -1\".format(test_case))                                   # 숫자(딕셔너리의 key)의 value값을 초과하는 경우에 -1\n",
    "    else:\n",
    "        print(\"#{} {}/{}/{}\".format(test_case,year,month,day))"
   ]
  },
  {
   "cell_type": "code",
   "execution_count": 36,
   "metadata": {},
   "outputs": [
    {
     "name": "stdout",
     "output_type": "stream",
     "text": [
      "1\n",
      "20201312\n",
      "#1 2020/13/12\n"
     ]
    }
   ],
   "source": [
    "month_day = {1:31,2:28,3:31,4:30,5:31,6:30,7:31,8:31,9:30,10:31,11:30,12:31}\n",
    "\n",
    "T = int(input())\n",
    "for test_case in range(1, T+1):\n",
    "    a = input()\n",
    "    year = a[:4] \n",
    "    month = a[4:6] \n",
    "    day = a[6:]\n",
    "    if int(month) == 0 and int(month) > 13:                      # 다 짜놓고 오랜 시간동안 헛발질한 이유가 이 코드 때문이다.\n",
    "        print(\"#{} -1\".format(test_case))                         # 세상에 0이거나 13 이상인 월이 어딨어?\n",
    "    elif int(day) < 1 and int(day) > month_day[int(month)]:      # 0이거나 31 32를 넘어가는 일도 어딨어?\n",
    "        print(\"#{} -1\".format(test_case))\n",
    "    else:\n",
    "        print(\"#{} {}/{}/{}\".format(test_case,year,month,day))"
   ]
  },
  {
   "cell_type": "code",
   "execution_count": null,
   "metadata": {},
   "outputs": [],
   "source": []
  }
 ],
 "metadata": {
  "kernelspec": {
   "display_name": "Python 3",
   "language": "python",
   "name": "python3"
  },
  "language_info": {
   "codemirror_mode": {
    "name": "ipython",
    "version": 3
   },
   "file_extension": ".py",
   "mimetype": "text/x-python",
   "name": "python",
   "nbconvert_exporter": "python",
   "pygments_lexer": "ipython3",
   "version": "3.8.3"
  }
 },
 "nbformat": 4,
 "nbformat_minor": 4
}
