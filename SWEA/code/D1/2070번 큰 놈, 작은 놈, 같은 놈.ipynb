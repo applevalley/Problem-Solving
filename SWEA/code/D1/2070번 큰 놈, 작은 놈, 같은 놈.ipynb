{
 "cells": [
  {
   "cell_type": "code",
   "execution_count": 1,
   "metadata": {},
   "outputs": [
    {
     "name": "stdout",
     "output_type": "stream",
     "text": [
      "3\n",
      "3 8 \n",
      "<\n",
      "7 7\n",
      "=\n",
      "369 123\n",
      ">\n"
     ]
    }
   ],
   "source": [
    "# 2개의 수를 입력 받아 크기를 비교하여 등호 또는 부등호를 출력하는 프로그램을 작성하라.\n",
    "\n",
    "T = int(input())                             # 테스트 케이스의 수\n",
    "\n",
    "for test_case in range(1, T+1):             # 각 케이스 안에서 반복\n",
    "    a, b = map(int, input().split())         # 입력받을 수 2개 정의\n",
    "    if a < b:                                # 각 조건에 따른 출력\n",
    "        print(\"#{} <\".format(test_case))\n",
    "    elif a > b:\n",
    "        print(\"#{} >\".format(test_case))\n",
    "    elif a == b:\n",
    "        print(\"#{} =\".format(test_case))"
   ]
  },
  {
   "cell_type": "code",
   "execution_count": null,
   "metadata": {},
   "outputs": [],
   "source": []
  }
 ],
 "metadata": {
  "kernelspec": {
   "display_name": "Python 3",
   "language": "python",
   "name": "python3"
  },
  "language_info": {
   "codemirror_mode": {
    "name": "ipython",
    "version": 3
   },
   "file_extension": ".py",
   "mimetype": "text/x-python",
   "name": "python",
   "nbconvert_exporter": "python",
   "pygments_lexer": "ipython3",
   "version": "3.8.3"
  }
 },
 "nbformat": 4,
 "nbformat_minor": 4
}
