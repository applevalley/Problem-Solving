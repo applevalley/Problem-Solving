{
 "cells": [
  {
   "cell_type": "code",
   "execution_count": 1,
   "metadata": {},
   "outputs": [
    {
     "name": "stdout",
     "output_type": "stream",
     "text": [
      "1 3\n",
      "A\n"
     ]
    }
   ],
   "source": [
    "# A와 B가 가위바위보를 하였다.\n",
    "# 가위는 1, 바위는 2, 보는 3으로 표현되며 A와 B가 무엇을 냈는지 입력으로 주어진다.\n",
    "# A와 B중에 누가 이겼는지 판별해보자. 단, 비기는 경우는 없다.\n",
    "\n",
    "a, b = map(int, input().split())\n",
    "\n",
    "if a == 1:               #가위\n",
    "    if b == 2:           #바위\n",
    "        print(\"B\")\n",
    "    elif b == 3:         #보\n",
    "        print(\"A\")\n",
    "elif a == 2:            #바위\n",
    "    if b == 1:           #가위\n",
    "        print(\"A\")\n",
    "    elif b == 3:        #보\n",
    "        print(\"B\")\n",
    "elif a == 3:            #보\n",
    "    if b == 1:          #가위\n",
    "        print(\"B\")\n",
    "    elif b == 2:        #바위\n",
    "        print(\"A\")"
   ]
  },
  {
   "cell_type": "code",
   "execution_count": null,
   "metadata": {},
   "outputs": [],
   "source": []
  }
 ],
 "metadata": {
  "kernelspec": {
   "display_name": "Python 3",
   "language": "python",
   "name": "python3"
  },
  "language_info": {
   "codemirror_mode": {
    "name": "ipython",
    "version": 3
   },
   "file_extension": ".py",
   "mimetype": "text/x-python",
   "name": "python",
   "nbconvert_exporter": "python",
   "pygments_lexer": "ipython3",
   "version": "3.8.3"
  }
 },
 "nbformat": 4,
 "nbformat_minor": 4
}
