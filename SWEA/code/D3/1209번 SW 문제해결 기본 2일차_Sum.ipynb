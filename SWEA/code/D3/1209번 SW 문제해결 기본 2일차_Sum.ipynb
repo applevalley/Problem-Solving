{
 "cells": [
  {
   "cell_type": "code",
   "execution_count": null,
   "metadata": {},
   "outputs": [],
   "source": [
    "for test_case in range(10):\n",
    "    n = int(input())\n",
    "    arr = []\n",
    "    list1 = []\n",
    "    for j in range(100):\n",
    "        number = list(map(int, input().split()))\n",
    "        arr.append(number)\n",
    "\n",
    "    for k in range(len(arr)):\n",
    "        count_row = 0\n",
    "        for l in range(len(arr)):\n",
    "            count_row += arr[k][l]\n",
    "        list1.append(count_row)\n",
    "\n",
    "    for l in range(len(arr)):\n",
    "        count_column = 0\n",
    "        for k in range(len(arr)):\n",
    "            count_column += arr[k][l]\n",
    "        list1.append(count_column)\n",
    "\n",
    "    count_diag = 0\n",
    "    for l in range(len(arr)):\n",
    "        for k in range(len(arr)):\n",
    "            if l == k:\n",
    "                count_diag += arr[l][k]\n",
    "        list1.append(count_diag)\n",
    "    count_diag_side = 0\n",
    "    for k in range(len(arr)):\n",
    "        for l in range(len(arr)):\n",
    "            if k == l:\n",
    "                count_diag_side += arr[l][k]\n",
    "        list1.append((count_diag_side))\n",
    "\n",
    "    max_value = list1[0]\n",
    "    for m in range(1,len(list1)-1):\n",
    "        if list1[m] > max_value:\n",
    "            max_value = list1[m]\n",
    "    print(\"#{} {}\".format(test_case+1, max_value))"
   ]
  }
 ],
 "metadata": {
  "kernelspec": {
   "display_name": "Python 3",
   "language": "python",
   "name": "python3"
  },
  "language_info": {
   "codemirror_mode": {
    "name": "ipython",
    "version": 3
   },
   "file_extension": ".py",
   "mimetype": "text/x-python",
   "name": "python",
   "nbconvert_exporter": "python",
   "pygments_lexer": "ipython3",
   "version": "3.7.7"
  }
 },
 "nbformat": 4,
 "nbformat_minor": 4
}
