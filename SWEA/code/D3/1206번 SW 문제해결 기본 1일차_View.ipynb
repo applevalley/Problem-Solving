{
 "cells": [
  {
   "cell_type": "code",
   "execution_count": null,
   "metadata": {},
   "outputs": [],
   "source": [
    "for test_case in range(1,11):\n",
    "    number_of_house = int(input())                     # 테스트 케이스\n",
    "    view = 0                                         # 조망권을 확보한 세대의 수\n",
    "    list_count = 0                                  # 반복문 안에서 리스트가 생성된 횟수\n",
    "    apartment = list(map(int, input().split()))      # 테스트 케이스의 수만큼의 정수들\n",
    "    for idx, item in enumerate(apartment):\n",
    "        list1 = [apartment[idx],apartment[idx+1],apartment[idx+2],apartment[idx+3],apartment[idx+4]]\n",
    "        list_count += 1     # 반복문 안에서 요소가 5개인 리스트를 순차적으로 생성하고, 생성시마다 카운트를 1 증가시킴\n",
    "        if max(list1) == list1[2]:   # 가운데, 3번째 값이 최대값일 때, 그 값을 제외한 나머지 4개의 값에서의 최대값과의 차를\n",
    "            list2 = [apartment[idx],apartment[idx+1],apartment[idx+3],apartment[idx+4]]\n",
    "            view += list1[2] - max(list2)     # view라는 변수 안에 더해서 저장함\n",
    "\n",
    "        if list_count == number_of_house -4:  # 인덱스 에러를 방지하기 위해 카운트가 테스트 케이스보다 4 작을때\n",
    "            print(f'#{test_case} {view}')     # 다시 말해 반복문에서 생성된 리스트 안의 마지막 요소가 apartment의 마지막 요소일 때\n",
    "            break                             # view를 출력하고 반복문을 종료"
   ]
  }
 ],
 "metadata": {
  "kernelspec": {
   "display_name": "Python 3",
   "language": "python",
   "name": "python3"
  },
  "language_info": {
   "codemirror_mode": {
    "name": "ipython",
    "version": 3
   },
   "file_extension": ".py",
   "mimetype": "text/x-python",
   "name": "python",
   "nbconvert_exporter": "python",
   "pygments_lexer": "ipython3",
   "version": "3.7.7"
  }
 },
 "nbformat": 4,
 "nbformat_minor": 4
}
