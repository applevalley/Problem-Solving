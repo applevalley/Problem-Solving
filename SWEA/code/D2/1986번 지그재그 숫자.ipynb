{
 "cells": [
  {
   "cell_type": "code",
   "execution_count": 2,
   "metadata": {},
   "outputs": [
    {
     "name": "stdout",
     "output_type": "stream",
     "text": [
      "2\n",
      "5\n",
      "1 3\n",
      "6\n",
      "2 -3\n"
     ]
    }
   ],
   "source": [
    "# 1부터 N까지의 숫자에서 홀수는 더하고 짝수는 뺐을 때 최종 누적된 값을 구해보자.\n",
    "\n",
    "T = int(input())\n",
    "\n",
    "for test_case in range(1, T+1):      # 각 테스트 케이스에서 반복\n",
    "    a = int(input())                # 더하거나 빼기 위해 입력받을 값\n",
    "    count = 0                       # 더하거나 뺀 각각의 값을 입력받기 위한 변수\n",
    "    for i in range(1,a+1):         # 입력받은 값을 range로 -> 1은 양수 2는 음수.. 이렇게 하기 위해\n",
    "        if i % 2:                  # 홀수면 더하고\n",
    "            count += i\n",
    "        else:                      # 짝수면 빼야지\n",
    "            count -= i\n",
    "    print(f'#{test_case} {count}')  # 출력!"
   ]
  },
  {
   "cell_type": "code",
   "execution_count": null,
   "metadata": {},
   "outputs": [],
   "source": []
  }
 ],
 "metadata": {
  "kernelspec": {
   "display_name": "Python 3",
   "language": "python",
   "name": "python3"
  },
  "language_info": {
   "codemirror_mode": {
    "name": "ipython",
    "version": 3
   },
   "file_extension": ".py",
   "mimetype": "text/x-python",
   "name": "python",
   "nbconvert_exporter": "python",
   "pygments_lexer": "ipython3",
   "version": "3.8.3"
  }
 },
 "nbformat": 4,
 "nbformat_minor": 4
}
