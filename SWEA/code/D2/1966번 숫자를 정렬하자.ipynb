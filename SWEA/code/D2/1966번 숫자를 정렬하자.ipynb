{
 "cells": [
  {
   "cell_type": "code",
   "execution_count": 2,
   "metadata": {},
   "outputs": [
    {
     "name": "stdout",
     "output_type": "stream",
     "text": [
      "2\n",
      "5\n",
      "6 7 9 4 3\n",
      "#1 3 4 6 7 9 \n",
      "4\n",
      "0 8 6 4\n",
      "#2 0 4 6 8 \n"
     ]
    }
   ],
   "source": [
    "# 주어진 N 길이의 숫자열을 오름차순으로 정렬하여 출력하라.\n",
    "\n",
    "T = int(input())\n",
    "for test_case in range(1,T+1):\n",
    "    a = int(input())                     # 각 케이스 안에서 입력받을 정수의 개수\n",
    "    b = list(map(int, input().split()))  # 공백을 기준으로 구분되는 정수들\n",
    "    c = sorted(b)                        # 리스트로 받은 정수들을 정렬함\n",
    "    d = ''                               # string으로 변환하기 위한 변수\n",
    "\n",
    "    for i in c:\n",
    "        d += str(i) + ' '               # ' ' 더하는 이유는 출력 형식 맞추기 위해\n",
    "        \n",
    "    print(f'#{test_case} {d}')"
   ]
  },
  {
   "cell_type": "code",
   "execution_count": null,
   "metadata": {},
   "outputs": [],
   "source": []
  }
 ],
 "metadata": {
  "kernelspec": {
   "display_name": "Python 3",
   "language": "python",
   "name": "python3"
  },
  "language_info": {
   "codemirror_mode": {
    "name": "ipython",
    "version": 3
   },
   "file_extension": ".py",
   "mimetype": "text/x-python",
   "name": "python",
   "nbconvert_exporter": "python",
   "pygments_lexer": "ipython3",
   "version": "3.8.3"
  }
 },
 "nbformat": 4,
 "nbformat_minor": 4
}
