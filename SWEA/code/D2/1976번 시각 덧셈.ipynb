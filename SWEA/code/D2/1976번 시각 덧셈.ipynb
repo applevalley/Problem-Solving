{
 "cells": [
  {
   "cell_type": "code",
   "execution_count": null,
   "metadata": {},
   "outputs": [],
   "source": [
    "# 시 분으로 이루어진 시각을 2개 입력 받아, 더한 값을 시 분으로 출력하는 프로그램을 작성하라.\n",
    "# 시는 1 이상 12 이하의 정수이다. 분은 0 이상 59 이하의 정수이다.\n",
    "\n",
    "T = int(input())                    \n",
    "for test_case in range(1,T+1):                       # 케이스 안에서 반복\n",
    "    a,b,c,d  = map(int,input().split())              # 입력받을 시, 분 \n",
    "    1 <= a <= 12                                     # 시간과 분의 입력 조건\n",
    "    1 <= c <= 12\n",
    "    0 <= b <= 59\n",
    "    0 <= d <= 59\n",
    "    if a+c < 12 and b+d < 59:                        # 더한 시간이 12가 넘으면 -12, 더한 분이 60을 넘으면 시간+1 분-60\n",
    "        print(f'#{test_case} {a+c} {b+d}')\n",
    "    elif a+c > 12 and b+d < 59:\n",
    "        print(f'#{test_case} {(a+c)-12} {b+d}')\n",
    "    elif a+c > 12 and b+d > 59:\n",
    "        print(f'#{test_case} {(a+c)-11} {(b+d)-60}')\n",
    "    elif a+c < 12 and b+d > 59:\n",
    "        print(f'#{test_case} {(a+c)+1} {(b+d)-60}')"
   ]
  }
 ],
 "metadata": {
  "kernelspec": {
   "display_name": "Python 3",
   "language": "python",
   "name": "python3"
  },
  "language_info": {
   "codemirror_mode": {
    "name": "ipython",
    "version": 3
   },
   "file_extension": ".py",
   "mimetype": "text/x-python",
   "name": "python",
   "nbconvert_exporter": "python",
   "pygments_lexer": "ipython3",
   "version": "3.8.3"
  }
 },
 "nbformat": 4,
 "nbformat_minor": 4
}
