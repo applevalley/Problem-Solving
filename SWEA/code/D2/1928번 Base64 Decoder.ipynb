{
 "cells": [
  {
   "cell_type": "code",
   "execution_count": 50,
   "metadata": {},
   "outputs": [
    {
     "name": "stdout",
     "output_type": "stream",
     "text": [
      "1\n",
      "Suspicion follows close on mistrust.\n",
      "['00101001', '00111010', '00111001', '00111000', '00110100', '00110001', '00110100', '00110111', '00110111', '00100000', '00110011', '00110111', '00110110', '00110110', '00110111', '00111011', '00111001', '00100000', '00110001', '00110110', '00110111', '00111001', '00110010', '00100000', '00110111', '00110111', '00100000', '00110110', '00110100', '00111001', '00111010', '00111001', '00111010', '00111001', '00111010', '00101110']\n",
      "001010010011101000111001001110000011010000110001001101000011011100110111001000000011001100110111001101100011011000110111001110110011100100100000001100010011011000110111001110010011001000100000001101110011011100100000001101100011010000111001001110100011100100111010001110010011101000101110\n"
     ]
    }
   ],
   "source": [
    "#dict64 = {0:A,16:Q,32:g,48:w,1:B,17:R,33:h,49:x,2:C,18:S,34:i,50:y,3:D,19:T,35:j,51:z,4:E,20:U,36:k,52:0,5:F,21:V,37:l,53:1,6:G,22:W,\n",
    "#          38:m,54:2,7:H,23:X,39:n,55:3,8:I,24:Y,40:o,56:4,9:J,25:Z,41:p,57:5,10:K,26:a,42:q,58:6,11:L,27:b,43:r,59:7,12:M,28:c,44:s,\n",
    "#          60:8,13:N,29:d,45:t,61:9,14:O,30:e,46:u,62:'+',15:P,31:f,47:v,63:'/'}\n",
    "\n",
    "T = int(input())\n",
    "list1 = []\n",
    "list2 = []\n",
    "list3 = []\n",
    "list4 = []\n",
    "q = ''\n",
    "for test_case in range(1,T+1):\n",
    "    a = input()\n",
    "    for i in a:\n",
    "        b = ord(i)\n",
    "        list1.append(b)\n",
    "    for j in list1:\n",
    "        res = ''\n",
    "        while j>0:\n",
    "            res = str(j%2) + res \n",
    "            j = j//2\n",
    "            k = res\n",
    "            pass\n",
    "        list2.append(k)    \n",
    "    for l in list2:\n",
    "        m = l[:6]\n",
    "        list3.append(m)\n",
    "    for n in list3:\n",
    "        o = f'{n:0>8}'\n",
    "        list4.append(o)\n",
    "    print(list4)\n",
    "    for p in list4:\n",
    "        q += p\n",
    "    print(q)\n",
    "    \n",
    "    # 여기서부터 정신을 잃고 말았다. 이제 남은 일은 이렇게 얻은 코드를 여섯 자리씩 슬라이싱한 후, 그것을 다시 10진수로 변환한 값을\n",
    "    # 딕셔너리의 key값에 대입해 글자를 받아오는 것이다. 그렇게 하면 입력한 문자열에 대한 인코딩 결과가 나온다.\n",
    "    # 그것을 가지고 디코딩하는 과정도 필요한데 너무 머리가 아프다."
   ]
  },
  {
   "cell_type": "code",
   "execution_count": 2,
   "metadata": {},
   "outputs": [
    {
     "data": {
      "text/plain": [
       "102"
      ]
     },
     "execution_count": 2,
     "metadata": {},
     "output_type": "execute_result"
    }
   ],
   "source": [
    "ord('f')"
   ]
  },
  {
   "cell_type": "code",
   "execution_count": 12,
   "metadata": {},
   "outputs": [
    {
     "ename": "AttributeError",
     "evalue": "'str' object has no attribute 'decode'",
     "output_type": "error",
     "traceback": [
      "\u001b[1;31m---------------------------------------------------------------------------\u001b[0m",
      "\u001b[1;31mAttributeError\u001b[0m                            Traceback (most recent call last)",
      "\u001b[1;32m<ipython-input-12-118dac7195e8>\u001b[0m in \u001b[0;36m<module>\u001b[1;34m\u001b[0m\n\u001b[0;32m      1\u001b[0m \u001b[1;32mimport\u001b[0m \u001b[0mbase64\u001b[0m\u001b[1;33m\u001b[0m\u001b[1;33m\u001b[0m\u001b[0m\n\u001b[0;32m      2\u001b[0m \u001b[0ma\u001b[0m \u001b[1;33m=\u001b[0m \u001b[1;34m'TGlmZSBpdHNlbGYgaXMgYSBxdW90YXRpb24u'\u001b[0m\u001b[1;33m\u001b[0m\u001b[1;33m\u001b[0m\u001b[0m\n\u001b[1;32m----> 3\u001b[1;33m \u001b[0mb\u001b[0m \u001b[1;33m=\u001b[0m \u001b[0ma\u001b[0m\u001b[1;33m.\u001b[0m\u001b[0mdecode\u001b[0m\u001b[1;33m(\u001b[0m\u001b[1;34m\"UTF-8\"\u001b[0m\u001b[1;33m)\u001b[0m\u001b[1;33m\u001b[0m\u001b[1;33m\u001b[0m\u001b[0m\n\u001b[0m\u001b[0;32m      4\u001b[0m \u001b[0mc\u001b[0m \u001b[1;33m=\u001b[0m \u001b[0mbase64\u001b[0m\u001b[1;33m.\u001b[0m\u001b[0mb64decode\u001b[0m\u001b[1;33m(\u001b[0m\u001b[0mb\u001b[0m\u001b[1;33m)\u001b[0m\u001b[1;33m\u001b[0m\u001b[1;33m\u001b[0m\u001b[0m\n\u001b[0;32m      5\u001b[0m \u001b[0mprint\u001b[0m\u001b[1;33m(\u001b[0m\u001b[0mc\u001b[0m\u001b[1;33m)\u001b[0m\u001b[1;33m\u001b[0m\u001b[1;33m\u001b[0m\u001b[0m\n",
      "\u001b[1;31mAttributeError\u001b[0m: 'str' object has no attribute 'decode'"
     ]
    }
   ],
   "source": [
    "import base64\n",
    "a = 'TGlmZSBpdHNlbGYgaXMgYSBxdW90YXRpb24u'\n",
    "b = a.decode(\"UTF-8\")\n",
    "c = base64.b64decode(b)\n",
    "print(c)"
   ]
  },
  {
   "cell_type": "code",
   "execution_count": 30,
   "metadata": {},
   "outputs": [
    {
     "name": "stdout",
     "output_type": "stream",
     "text": [
      "1\n",
      "TGlmZSBpdHNlbGYgaXMgYSBxdW90YXRpb24u\n",
      "#1 Life itself is a quotation.\n"
     ]
    }
   ],
   "source": [
    "# 문제 자체는 저렇게 모듈을 써버리면 끝난다 \n",
    "\n",
    "import base64\n",
    "\n",
    "T = int(input())\n",
    "\n",
    "for test_case in range(1,T+1):\n",
    "#     s = input()\n",
    "#     # Encoding the string into bytes\n",
    "#     b = s.encode(\"UTF-8\")\n",
    "#     # Base64 Encode the bytes\n",
    "#     e = base64.b64encode(b)\n",
    "#     # Decoding the Base64 bytes to string\n",
    "#     s1 = e.decode(\"UTF-8\")\n",
    "#     # Printing Base64 encoded string\n",
    "#     print(\"Base64 Encoded:\", s1)\n",
    "#     # Encoding the Base64 encoded string into bytes\n",
    "\n",
    "    s1 = input()\n",
    "    b1 = s1.encode(\"UTF-8\")\n",
    "    # Decoding the Base64 bytes\n",
    "    d = base64.b64decode(b1)\n",
    "    # Decoding the bytes to string\n",
    "    s2 = d.decode(\"UTF-8\")\n",
    "    print(f'#{test_case} {s2}')\n",
    "    "
   ]
  },
  {
   "cell_type": "code",
   "execution_count": 20,
   "metadata": {},
   "outputs": [
    {
     "name": "stdout",
     "output_type": "stream",
     "text": [
      "[83, 117, 115, 112, 105, 99, 105, 111, 110, 32, 102, 111, 108, 108, 111, 119, 115, 32, 99, 108, 111, 115, 101, 32, 111, 110, 32, 109, 105, 115, 116, 114, 117, 115, 116, 46]\n",
      "36\n",
      "36\n"
     ]
    }
   ],
   "source": [
    "a = 'Suspicion follows close on mistrust.'\n",
    "b = []\n",
    "for i in a:\n",
    "    c = ord(i)\n",
    "    b.append(c)\n",
    "print(b)\n",
    "print(len(b))\n",
    "print(len(a))"
   ]
  },
  {
   "cell_type": "code",
   "execution_count": null,
   "metadata": {},
   "outputs": [],
   "source": []
  }
 ],
 "metadata": {
  "kernelspec": {
   "display_name": "Python 3",
   "language": "python",
   "name": "python3"
  },
  "language_info": {
   "codemirror_mode": {
    "name": "ipython",
    "version": 3
   },
   "file_extension": ".py",
   "mimetype": "text/x-python",
   "name": "python",
   "nbconvert_exporter": "python",
   "pygments_lexer": "ipython3",
   "version": "3.8.3"
  }
 },
 "nbformat": 4,
 "nbformat_minor": 4
}
