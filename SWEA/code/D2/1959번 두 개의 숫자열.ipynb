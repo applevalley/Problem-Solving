{
 "cells": [
  {
   "cell_type": "code",
   "execution_count": 29,
   "metadata": {
    "scrolled": true
   },
   "outputs": [
    {
     "name": "stdout",
     "output_type": "stream",
     "text": [
      "1\n",
      "11 3\n",
      "3 -4 -7 7 -2 5 5 0 -2 -8 4\n",
      "-1 1 3\n",
      "#1 22\n"
     ]
    }
   ],
   "source": [
    "# 서로 마주보는 숫자들을 곱한 뒤 모두 더할 때 최댓값을 구하라.\n",
    "# a가 3 b가 5면 비교할 수 있는 경우의 수는 3번이다. for i in range(0,(b-a)+1)정도가 되겠다.\n",
    "T = int(input())\n",
    "\n",
    "for test_case in range(1,T+1):                       # 테스트 케이스에서 반복\n",
    "    a,b = map(int,input().split())                    # 입력받을 수 \n",
    "    c = list(map(int, input().split()))               # 각각 입력받은 수만큼의 두 개의 숫자열\n",
    "    d = list(map(int, input().split()))\n",
    "    list1 = []                                        # 곱해서 더한 연산 결과를 저장할 리스트\n",
    "    \n",
    "    if a > b:\n",
    "        for j in range((a-b)+1):                     # a가 7이고 b가 6일때, 총 반복 회수는 2번이다. 다만 7-6으로 하면 한번밖에 \n",
    "            count1 = 0                                # 반복하지 않기에 1을 더해줬다. count1을 if문 밖에서 초기화하면\n",
    "            for i in range(b):                       # count1이 모든 연산을 연속적으로 더해버리기에 결과가 꼬여버렸다.\n",
    "                count1 += (c[i+j]*d[i])              # b의 문자열 길이만큼 반복해 a와 b의 i 인덱스값끼리 곱한 값을 더해 저장한다.\n",
    "            list1.append(count1)                      # 이러면 list1에는 a-b + 1 개의 연산 결과가 저장된다.\n",
    "        print(f'#{test_case} {max(list1)}')\n",
    "    \n",
    "    else:\n",
    "        for j in range((b-a)+1):\n",
    "            count1 = 0\n",
    "            for i in range(a):\n",
    "                count1 += (c[i]*d[i+j])\n",
    "            list1.append(count1)\n",
    "        print(f'#{test_case} {max(list1)}')  "
   ]
  },
  {
   "cell_type": "code",
   "execution_count": null,
   "metadata": {},
   "outputs": [],
   "source": []
  }
 ],
 "metadata": {
  "kernelspec": {
   "display_name": "Python 3",
   "language": "python",
   "name": "python3"
  },
  "language_info": {
   "codemirror_mode": {
    "name": "ipython",
    "version": 3
   },
   "file_extension": ".py",
   "mimetype": "text/x-python",
   "name": "python",
   "nbconvert_exporter": "python",
   "pygments_lexer": "ipython3",
   "version": "3.7.7"
  }
 },
 "nbformat": 4,
 "nbformat_minor": 4
}
