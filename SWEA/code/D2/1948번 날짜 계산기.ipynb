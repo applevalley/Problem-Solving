{
 "cells": [
  {
   "cell_type": "code",
   "execution_count": null,
   "metadata": {},
   "outputs": [],
   "source": [
    "# 월 일로 이루어진 날짜를 2개 입력 받아, 두 번째 날짜가 첫 번째 날짜의 며칠째인지 출력하는 프로그램을 작성하라.\n",
    "\n",
    "T = int(input())\n",
    "\n",
    "for test_case in range(1,T+1):    \n",
    "    a,b,c,d= map(int, input().split())       # 입력받을 월 일\n",
    "    e = 0                                   # d와 b 사이의 날 수를 저장할 변수\n",
    "    month_day = {1:31,2:28,3:31,4:30,5:31,6:30,7:31,8:31,9:30,10:31,11:30,12:31}        # 월과 일 정보를 딕셔너리로\n",
    "    1 <= a <= 12\n",
    "    1 <= c <= 12\n",
    "    if a == c:\n",
    "        print(f'#{test_case} {(d-b+1)}')       # 월이 같은 경우 d-b 한 후 1을 더해줘야 한다.\n",
    "    else:                                      # 월이 다른 경우\n",
    "        while True:\n",
    "            e += month_day[a]                  # a를 1씩 증가시키며 a가 c와 동일해질 때까지 e에 a 달의 일 수를 더해나간다.\n",
    "            a += 1\n",
    "            if a == c:                        # 루프 탈출\n",
    "                break\n",
    "        print(f'#{test_case} {e - b + d + 1}')   # c와 동일해질 때 탈출했다. a달의 최대 일수를 계산했기에 e값에서 b를 빼야 한다.\n",
    "                                                 # 거기에 d값을 더하고, 1을 더하면 월이 다른 경우도 계산된다!"
   ]
  }
 ],
 "metadata": {
  "kernelspec": {
   "display_name": "Python 3",
   "language": "python",
   "name": "python3"
  },
  "language_info": {
   "codemirror_mode": {
    "name": "ipython",
    "version": 3
   },
   "file_extension": ".py",
   "mimetype": "text/x-python",
   "name": "python",
   "nbconvert_exporter": "python",
   "pygments_lexer": "ipython3",
   "version": "3.8.3"
  }
 },
 "nbformat": 4,
 "nbformat_minor": 4
}
