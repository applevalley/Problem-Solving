{
 "cells": [
  {
   "cell_type": "code",
   "execution_count": null,
   "metadata": {},
   "outputs": [],
   "source": [
    "# 최빈수를 출력하는 프로그램을 작성하여라 (단, 최빈수가 여러 개 일 때에는 가장 큰 점수를 출력하라).\n",
    "\n",
    "# 사실은 또 모듈을 썼다.\n",
    "\n",
    "T = int(input())\n",
    "for test_case in range(1, T+1):\n",
    "    list1 = []                                   # 입력받을 수들을 담을 리스트\n",
    "    test_number = int(input())                   # 테스트 케이스 번호\n",
    "    numbers = map(int, input().split())          # 입력받을 1000개의 수\n",
    "    for number in numbers:\n",
    "        list1.append(number)                    # 리스트에 담자\n",
    "        \n",
    "    from collections import Counter\n",
    "    num_count = Counter(list1)                  # collections의 Counter 모듈은 리스트 안의 문자, 수들의 빈도를 보여준다.\n",
    "    max_value = max(num_count.values())         # 딕셔너리 형태로 숫자: 빈도이기에 value인 빈도가 가장 큰 값을 변수에 할당했다.\n",
    "    print(f'#{test_case} {list(num_count.keys())[list(num_count.values()).index(max_value)]}')\n",
    "    # 딕셔너리는 value로 key를 바로 구할 수 없기에 key들을 리스트로 나타내고,\n",
    "    # values들의 리스트에서 앞서 할당한 최대 빈도인 value의 위치를 .index로 찾아낸 후 그 값을 key에서 인덱싱할 인덱스로 지정한다.\n",
    "    # 이렇게 가장 빈도수가 높은 값을 구할 수 있다. \n",
    "    # Counter의 장점은 빈도가 동일한 경우 더 큰 값(숫자의 경우)을 우선 표시한다는 점이다."
   ]
  }
 ],
 "metadata": {
  "kernelspec": {
   "display_name": "Python 3",
   "language": "python",
   "name": "python3"
  },
  "language_info": {
   "codemirror_mode": {
    "name": "ipython",
    "version": 3
   },
   "file_extension": ".py",
   "mimetype": "text/x-python",
   "name": "python",
   "nbconvert_exporter": "python",
   "pygments_lexer": "ipython3",
   "version": "3.7.7"
  }
 },
 "nbformat": 4,
 "nbformat_minor": 4
}
