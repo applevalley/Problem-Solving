{
 "cells": [
  {
   "cell_type": "code",
   "execution_count": 2,
   "metadata": {},
   "outputs": [
    {
     "name": "stdout",
     "output_type": "stream",
     "text": [
      "3\n",
      "eye\n",
      "#1 1\n",
      "tiger\n",
      "#2 0\n",
      "apple\n",
      "#3 0\n"
     ]
    }
   ],
   "source": [
    "# \"level\" 과 같이 거꾸로 읽어도 제대로 읽은 것과 같은 문장이나 낱말을 회문(回文, palindrome)이라 한다.\n",
    "# 단어를 입력 받아 회문이면 1을 출력하고, 아니라면 0을 출력하는 프로그램을 작성하라.\n",
    "\n",
    "T = int(input())\n",
    "\n",
    "for test_case in range(1, T+1):\n",
    "    a = input()\n",
    "    if a[:] == a[::-1]:\n",
    "        print(f'#{test_case} 1')\n",
    "    else:\n",
    "        print(f'#{test_case} 0')"
   ]
  },
  {
   "cell_type": "code",
   "execution_count": 12,
   "metadata": {},
   "outputs": [
    {
     "name": "stdout",
     "output_type": "stream",
     "text": [
      "3\n",
      "level     \n",
      "#1 0\n",
      "level\n",
      "#2 1\n",
      "samsung\n",
      "#3 0\n"
     ]
    }
   ],
   "source": [
    "a = int(input())\n",
    "for test_case in range(1,a+1):\n",
    "    b = input()\n",
    "    result = ''\n",
    "    for j in b:\n",
    "        result = j + result\n",
    "    if b == result:\n",
    "        print(f'#{test_case} 1')\n",
    "    else:\n",
    "        print(f'#{test_case} 0')"
   ]
  },
  {
   "cell_type": "code",
   "execution_count": 7,
   "metadata": {},
   "outputs": [
    {
     "name": "stdout",
     "output_type": "stream",
     "text": [
      "apple\n",
      "elppa\n"
     ]
    }
   ],
   "source": [
    "a = input()\n",
    "res = ''\n",
    "for i in a:\n",
    "    res = i + res\n",
    "print(res)"
   ]
  },
  {
   "cell_type": "code",
   "execution_count": null,
   "metadata": {},
   "outputs": [],
   "source": []
  }
 ],
 "metadata": {
  "kernelspec": {
   "display_name": "Python 3",
   "language": "python",
   "name": "python3"
  },
  "language_info": {
   "codemirror_mode": {
    "name": "ipython",
    "version": 3
   },
   "file_extension": ".py",
   "mimetype": "text/x-python",
   "name": "python",
   "nbconvert_exporter": "python",
   "pygments_lexer": "ipython3",
   "version": "3.8.3"
  }
 },
 "nbformat": 4,
 "nbformat_minor": 4
}
