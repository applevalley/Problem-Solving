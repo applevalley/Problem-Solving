{
 "cells": [
  {
   "cell_type": "code",
   "execution_count": 77,
   "metadata": {},
   "outputs": [
    {
     "name": "stdout",
     "output_type": "stream",
     "text": [
      "2\n",
      "32850\n",
      "#1\n",
      "0 3 0 2 1 3 1 0 \n",
      "160\n",
      "#2\n",
      "0 0 0 0 0 1 1 1 \n"
     ]
    }
   ],
   "source": [
    "'''S마켓에서 사용하는 돈의 종류는 다음과 같다.\n",
    "50,000 원\n",
    "10,000 원\n",
    "5,000 원\n",
    "1,000 원\n",
    "500 원\n",
    "100 원\n",
    "50 원\n",
    "10 원\n",
    "\n",
    "S마켓에서 손님에게 거슬러 주어야 할 금액 N이 입력되면 돈의 최소 개수로 거슬러 주기 위하여 각 종류의 돈이 몇 개씩 필요한지 출력하라.'''\n",
    "\n",
    "\n",
    "# 정말이지 세계관 최강의 하드코딩이 아닐 수 없다.\n",
    "# 이래서 문제를 풀기 전에 명세와 입 출력 양식을 보면서 철저히 고민한 후에 시작해야 한다는 것이구나 느껴졌다.\n",
    "# 생각없이 시작하다 보니 코드는 꼬이고 어디서부터 잘못된건지 알 수가 없다.\n",
    "\n",
    "\n",
    "T = int(input())\n",
    "\n",
    "for test_case in range(1,T+1):\n",
    "    a = int(input())\n",
    "    result = []\n",
    "    my_str = ''\n",
    "    \n",
    "    while a >= 10:\n",
    "        if a//50000 == 0:\n",
    "            result.append(0)\n",
    "        else:\n",
    "            result.append(a//50000)\n",
    "            a -= (50000 * (a//50000))\n",
    "        if a//10000 == 0:\n",
    "            result.append(0)\n",
    "        else:\n",
    "            result.append(a//10000)\n",
    "            a -= (10000 * (a//10000))\n",
    "        if a//5000 == 0:\n",
    "            result.append(0)\n",
    "        else:\n",
    "            result.append(a//5000)\n",
    "            a -= (5000 * (a//5000))\n",
    "        if a//1000 == 0:\n",
    "            result.append(0)\n",
    "        else:\n",
    "            result.append(a//1000)\n",
    "            a -= (1000 * (a//1000))\n",
    "        if a//500 == 0:\n",
    "            result.append(0)\n",
    "        else:\n",
    "            result.append(a//500)\n",
    "            a -= (500 * (a//500))\n",
    "        if a//100 == 0:\n",
    "            result.append(0)\n",
    "        else:\n",
    "            result.append(a//100)\n",
    "            a -= (100 * (a//100))\n",
    "        if a//50 == 0:\n",
    "            result.append(0)\n",
    "        else:\n",
    "            result.append(a//50)\n",
    "            a -= (50 * (a//50))\n",
    "        if a//10 == 0:\n",
    "            result.append(0)\n",
    "        else:\n",
    "            result.append(a//10)\n",
    "            a -= (10 * (a//10))\n",
    "        break\n",
    "\n",
    "    print(f'#{test_case}')\n",
    "    for res in result:\n",
    "        print(res, end = \" \")\n",
    "    print()"
   ]
  },
  {
   "cell_type": "code",
   "execution_count": 81,
   "metadata": {},
   "outputs": [
    {
     "name": "stdout",
     "output_type": "stream",
     "text": [
      "2\n",
      "5830\n",
      "#1\n",
      "0 0 1 0 1 3 0 3 \n",
      "120380\n",
      "#2\n",
      "2 2 0 0 0 3 1 3 \n"
     ]
    }
   ],
   "source": [
    "# 시행착오를 거치고서 답을 도출해낸 뒤라 더 빨리 끝난 감도 있지만\n",
    "# 하드코딩하면서 한 2시간 반 걸린거를 문제를 다시 보면서 생각해보고 접근하니 한 3분 걸렸다.\n",
    "\n",
    "\n",
    "\n",
    "T = int(input())\n",
    "\n",
    "for test_case in range(1,T+1):                               # 테스트 케이스 안에서 반복\n",
    "    a = int(input())                                         # 입력받을 돈\n",
    "    moneys = [50000,10000,5000,1000,500,100,50,10]           # 지폐의 종류\n",
    "    result = []                                              # 지폐의 개수를 담을 리스트\n",
    "    \n",
    "    for money in moneys:\n",
    "        if a//money == 0:                                   # 만약 입력받은 돈에서 지폐의 종류들을 나눈 몫이 0이면\n",
    "            result.append(0)                                 # result에 0을 더한다\n",
    "        else:\n",
    "            result.append(a//money)                         # 0이 아니라면 result에 거슬러준 지폐의 장 수를 더한 뒤\n",
    "            a -= (money * (a//money))                       # 원래의 금액에서 거슬러준 만큼의 금액을 차감한다\n",
    "            \n",
    "    print(f'#{test_case}')\n",
    "    \n",
    "    for res in result:\n",
    "        print(res, end = \" \")                               # result는 리스트기에 공백을 기준으로 정수만 뽑아오기\n",
    "    print()                                                 # 끝!"
   ]
  },
  {
   "cell_type": "code",
   "execution_count": null,
   "metadata": {},
   "outputs": [],
   "source": []
  }
 ],
 "metadata": {
  "kernelspec": {
   "display_name": "Python 3",
   "language": "python",
   "name": "python3"
  },
  "language_info": {
   "codemirror_mode": {
    "name": "ipython",
    "version": 3
   },
   "file_extension": ".py",
   "mimetype": "text/x-python",
   "name": "python",
   "nbconvert_exporter": "python",
   "pygments_lexer": "ipython3",
   "version": "3.7.7"
  }
 },
 "nbformat": 4,
 "nbformat_minor": 4
}
