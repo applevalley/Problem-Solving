{
 "cells": [
  {
   "cell_type": "code",
   "execution_count": null,
   "metadata": {},
   "outputs": [],
   "source": [
    "# 10개의 수를 입력 받아, 최대 수와 최소 수를 제외한 나머지의 평균값을 출력하는 프로그램을 작성하라.\n",
    "\n",
    "T = int(input())\n",
    "\n",
    "for test_case in range(1, T+1):                     # 테스트 케이스에서 반복\n",
    "    a = list(map(int, input().split()))             # 입력받을 수들을 공백으로 구분되는 리스트로 입력\n",
    "    max_value = 0                                   # 최대값을 구하기 위한 변수 \n",
    "    min_value = 10000                               # 최소값을 구하기 위한 변수.. 0으로 설정하면 안된다\n",
    "    b = 0                                           # 최대/최소를 제외한 수들을 더해 저장할 공간\n",
    "    for i in a:\n",
    "        if max_value < i:                          # 최대값을 구하는 과정 리스트 안에서 반복하며 max_value보다 i값이 크면\n",
    "            max_value = i                           # 그 값을 max_value에 새롭게 저장한다.\n",
    "    for j in a:\n",
    "        if min_value > j:                          # 최소값도 마찬가지. 다만 위에서 선언할 때 min_value를 0으로 지정하면\n",
    "            min_value = j                          # 리스트의 값이 뭐가 들어있던 최소값이 0이 되어버린다.. 조심\n",
    "    a.remove(max_value)\n",
    "    a.remove(min_value)                             #  최대, 최소값을 리스트에서 제거\n",
    "    for k in a:                                    #  다 더해버려\n",
    "        b += k\n",
    "    print('#{0} {1}'.format(test_case, (round(b/len(a)))))      # 소수점 첫 자리에서 반올림해야하기에! round()함수를 쓰자."
   ]
  }
 ],
 "metadata": {
  "kernelspec": {
   "display_name": "Python 3",
   "language": "python",
   "name": "python3"
  },
  "language_info": {
   "codemirror_mode": {
    "name": "ipython",
    "version": 3
   },
   "file_extension": ".py",
   "mimetype": "text/x-python",
   "name": "python",
   "nbconvert_exporter": "python",
   "pygments_lexer": "ipython3",
   "version": "3.8.3"
  }
 },
 "nbformat": 4,
 "nbformat_minor": 4
}
